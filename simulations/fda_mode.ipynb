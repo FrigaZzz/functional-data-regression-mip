{
 "cells": [
  {
   "cell_type": "code",
   "execution_count": null,
   "metadata": {
    "vscode": {
     "languageId": "r"
    }
   },
   "outputs": [],
   "source": [
    "\n",
    "# run_simulation.R\n",
    "# This script contains the function to run the simulation and returns all relevant outputs.\n",
    "\n",
    "library(refund)\n",
    "library(MASS)\n",
    "library(fda)\n",
    "library(here)\n",
    "\n",
    "# Source the generic simulator script\n",
    "source(here(\"src\", \"R\", \"generic_simulator\", \"simulate_main.R\"))\n",
    "source(here(\"src\", \"R\", \"generic_simulator\", \"utils\",\"loader_utilities.R\"))\n",
    "\n",
    "\n",
    "# Define the function to run the simulation\n",
    "run_simulation <- function(params) {\n",
    "  # Ensure that the seed is set for reproducibility\n",
    "  \n",
    "  # Call the main analysis function with the parameters\n",
    "  result <- do.call(generate_data, params[c(\"predictors\", \"observations\", \"measurements\", \"basis_functions\", \"intercept\", \"norder\", \"mu_funcs\", \"beta_funcs\",\"time_domains\", \"cov_funcs\", \"seed\",\"noise_snr\",\"simulation_type\")] )\n",
    "    \n",
    "  # Return the output list\n",
    "  return(result)\n",
    "}\n",
    "\n",
    "\n",
    "simulation_name = \"paper\"\n",
    "simulation_settings_file = \"default\"\n",
    "# Required inputs before running the simulation!!!\n",
    "inputs  <- load_simulation_settings(simulation_name, simulation_settings_file)\n",
    "inputs$measurements <- 100\n",
    "inputs$observations <- 400\n",
    "inputs$basis_functions <- 6\n",
    "time_domains_eval <- lapply(inputs$time_domains, function(domain) {\n",
    "           seq(from = domain[[1]], to = domain[[2]], length.out = inputs$measurements)\n",
    "       })\n",
    "inputs$time_domains <- time_domains_eval\n",
    "inputs$noise_snr <- c(FALSE,100)\n",
    "outputs <- run_simulation(inputs);\n",
    "\n"
   ]
  }
 ],
 "metadata": {
  "kernelspec": {
   "display_name": "R",
   "language": "R",
   "name": "ir"
  },
  "language_info": {
   "name": "R"
  }
 },
 "nbformat": 4,
 "nbformat_minor": 2
}
