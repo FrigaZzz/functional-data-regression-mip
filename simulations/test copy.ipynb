{
 "cells": [
  {
   "cell_type": "code",
   "execution_count": 1,
   "metadata": {
    "vscode": {
     "languageId": "r"
    }
   },
   "outputs": [
    {
     "name": "stderr",
     "output_type": "stream",
     "text": [
      "Caricamento del pacchetto richiesto: splines\n",
      "\n",
      "Caricamento del pacchetto richiesto: fds\n",
      "\n",
      "Caricamento del pacchetto richiesto: rainbow\n",
      "\n",
      "Caricamento del pacchetto richiesto: pcaPP\n",
      "\n",
      "Caricamento del pacchetto richiesto: RCurl\n",
      "\n",
      "Caricamento del pacchetto richiesto: deSolve\n",
      "\n",
      "\n",
      "Caricamento pacchetto: 'fda'\n",
      "\n",
      "\n",
      "Il seguente oggetto è mascherato da 'package:graphics':\n",
      "\n",
      "    matplot\n",
      "\n",
      "\n",
      "here() starts at C:/Users/User/Documents/repos/TESI/tesi_data/progetto_s_on_f.md/b_spline/functional-data-regression-mip\n",
      "\n"
     ]
    },
    {
     "name": "stdout",
     "output_type": "stream",
     "text": [
      "[1] \"predictors: 6\"\n",
      "[1] \"observations: 400\"\n",
      "[1] \"measurements: 100\"\n",
      "[1] \"basis_functions: 6\"\n",
      "[1] \"intercept: 0\"\n"
     ]
    }
   ],
   "source": [
    "\n",
    "\n",
    "# run_simulation.R\n",
    "# This script contains the function to run the simulation and returns all relevant outputs.\n",
    "\n",
    "library(refund)\n",
    "library(MASS)\n",
    "library(fda)\n",
    "library(here)\n",
    "\n",
    "# Source the generic simulator script\n",
    "source(here(\"src\", \"R\", \"generic_simulator\", \"simulate_main.R\"))\n",
    "source(here(\"src\", \"R\", \"generic_simulator\", \"utils\",\"loader_utilities.R\"))\n",
    "\n",
    "\n",
    "# Define the function to run the simulation\n",
    "run_simulation <- function(params) {\n",
    "  # Ensure that the seed is set for reproducibility\n",
    "  \n",
    "  # Call the main analysis function with the parameters\n",
    "  result <- do.call(generate_data, params[c(\"predictors\", \"observations\", \"measurements\", \"basis_functions\", \"intercept\", \"norder\", \"mu_funcs\", \"beta_funcs\",\"time_domains\", \"cov_funcs\", \"seed\",\"noise_snr\",\"simulation_type\")] )\n",
    "    \n",
    "  # Return the output list\n",
    "  return(result)\n",
    "}\n",
    "\n",
    "\n",
    "simulation_name = \"paper\"\n",
    "simulation_settings_file = \"default\"\n",
    "# Required inputs before running the simulation!!!\n",
    "inputs  <- load_simulation_settings(simulation_name, simulation_settings_file)\n",
    "inputs$measurements <- 100\n",
    "inputs$observations <- 400\n",
    "inputs$basis_functions <- 6\n",
    "time_domains_eval <- lapply(inputs$time_domains, function(domain) {\n",
    "           seq(from = domain[[1]], to = domain[[2]], length.out = inputs$measurements)\n",
    "       })\n",
    "inputs$time_domains <- time_domains_eval\n",
    "inputs$noise_snr <- c(FALSE,100)\n",
    "outputs <- run_simulation(inputs);\n",
    "\n"
   ]
  },
  {
   "cell_type": "code",
   "execution_count": 18,
   "metadata": {
    "vscode": {
     "languageId": "r"
    }
   },
   "outputs": [],
   "source": [
    "library(fda)\n",
    "# Parameters\n",
    "n_observations <- 100  # Number of observations\n",
    "n_measurements1 <- 50  # Number of measurements for predictor 1\n",
    "n_measurements2 <- 50  # Number of measurements for predictor 2\n",
    "n_measurements3 <- 50  # Number of measurements for predictor 3\n",
    "\n",
    "# Time domains for each predictor\n",
    "time_domain1 <- seq(0, 10, length.out = n_measurements1)\n",
    "time_domain2 <- seq(1, 8, length.out = n_measurements2)\n",
    "time_domain3 <- seq(0, 15, length.out = n_measurements3)\n",
    "\n",
    "set.seed(123)  # For reproducibility\n",
    "\n",
    "# Simulating functional predictor data\n",
    "predictor1 <- matrix(sin(time_domain1) + rnorm(n_measurements1), ncol = n_measurements1, nrow = n_observations)\n",
    "predictor2 <- matrix(cos(time_domain2) + rnorm(n_measurements2), ncol = n_measurements2, nrow = n_observations)\n",
    "predictor3 <- matrix(sin(time_domain3) * cos(time_domain3) + rnorm(n_measurements3), ncol = n_measurements3, nrow = n_observations)\n",
    "\n",
    "# Coefficients\n",
    "coeffs <- c(0.5, -0.3, 0.2)\n",
    "\n",
    "# Simulating response variable\n",
    "Y <- coeffs[1] * rowMeans(predictor1) + coeffs[2] * rowMeans(predictor2) + coeffs[3] * rowMeans(predictor3) + rnorm(n_observations)\n",
    "\n",
    "\n",
    "# Creating the data list\n",
    "data <- list(\n",
    "  X = list(predictor1, predictor2, predictor3),\n",
    "  Y = Y,\n",
    "  time_domains = list(time_domain1, time_domain2, time_domain3)\n",
    ")\n",
    "\n",
    "\n"
   ]
  },
  {
   "cell_type": "code",
   "execution_count": null,
   "metadata": {
    "vscode": {
     "languageId": "r"
    }
   },
   "outputs": [],
   "source": []
  }
 ],
 "metadata": {
  "kernelspec": {
   "display_name": "R",
   "language": "R",
   "name": "ir"
  },
  "language_info": {
   "codemirror_mode": "r",
   "file_extension": ".r",
   "mimetype": "text/x-r-source",
   "name": "R",
   "pygments_lexer": "r",
   "version": "4.3.2"
  }
 },
 "nbformat": 4,
 "nbformat_minor": 2
}
