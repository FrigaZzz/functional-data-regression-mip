{
 "cells": [
  {
   "cell_type": "markdown",
   "metadata": {},
   "source": [
    "## Setup Notebook\n",
    "- Julia Env\n",
    "- Attach User Libraries"
   ]
  },
  {
   "cell_type": "code",
   "execution_count": 1,
   "metadata": {},
   "outputs": [
    {
     "name": "stderr",
     "output_type": "stream",
     "text": [
      "\u001b[32m\u001b[1m  Activating\u001b[22m\u001b[39m project at `d:\\Universita\\repos\\TESI\\tesi_data\\progetto_s_on_f.md\\b_spline\\functional-data-regression-mip`\n"
     ]
    }
   ],
   "source": [
    "using Pkg\n",
    "project_root = dirname(dirname(@__DIR__))\n",
    "Pkg.activate(project_root)     \n",
    "Pkg.instantiate()     "
   ]
  },
  {
   "cell_type": "code",
   "execution_count": 2,
   "metadata": {},
   "outputs": [
    {
     "data": {
      "text/plain": [
       "RObject{StrSxp}\n",
       "[1] \"C:/Users/User/AppData/Local/R/cache/R/renv/library/functional-data-regression-mip-e3349204/R-4.3/x86_64-w64-mingw32\"\n",
       "[2] \"C:/Users/User/AppData/Local/R/win-library/4.3\"                                                                      \n",
       "[3] \"C:/Program Files/R/R-4.3.1/library\"                                                                                 \n"
      ]
     },
     "execution_count": 2,
     "metadata": {},
     "output_type": "execute_result"
    }
   ],
   "source": [
    "\n",
    "using RCall\n",
    "user_library_path = \"C:/Users/User/AppData/Local/R/cache/R/renv/library/functional-data-regression-mip-e3349204/R-4.3/x86_64-w64-mingw32\"\n",
    "@rput user_library_path\n",
    "R\"\"\"\n",
    "    .libPaths(c(user_library_path,\n",
    "    .libPaths()))\n",
    "\"\"\"\n",
    "    "
   ]
  },
  {
   "cell_type": "code",
   "execution_count": 5,
   "metadata": {},
   "outputs": [
    {
     "data": {
      "text/plain": [
       "read_model_results"
      ]
     },
     "execution_count": 5,
     "metadata": {},
     "output_type": "execute_result"
    }
   ],
   "source": [
    "\n",
    "file_mgmt_file_path = joinpath(project_root, \"src\", \"Julia\",\"utils\", \"file_management.jl\")\n",
    "include(file_mgmt_file_path)\n",
    "\n"
   ]
  },
  {
   "cell_type": "code",
   "execution_count": 6,
   "metadata": {},
   "outputs": [
    {
     "data": {
      "text/plain": [
       "\"d:\\\\Universita\\\\repos\\\\TESI\\\\tesi_data\\\\progetto_s_on_f.md\\\\b_spline\\\\functional-data-regression-mip\\\\outputs\\\\runs\\\\3_predictors\\\\l0_limit\\\\2500_500_6_250_0.01_0.001_1000_[100, 100]_1\\\\model_params.csv\""
      ]
     },
     "execution_count": 6,
     "metadata": {},
     "output_type": "execute_result"
    }
   ],
   "source": [
    "simulation_name = \"3_predictors\"\n",
    "model = \"l0_limit\"\n",
    "simulation_conf = \"2500_500_6_250_0.01_0.001_1000_[100, 100]_1\"\n",
    "has_time_domain = true\n",
    "simulation_path =   joinpath(project_root, \"outputs\", \"runs\", simulation_name, model, simulation_conf, \"model_results\" * \".txt\")\n",
    "model_params_path = joinpath(project_root, \"outputs\", \"runs\", simulation_name, model, simulation_conf, \"model_params\" * \".csv\")\n"
   ]
  },
  {
   "cell_type": "code",
   "execution_count": 7,
   "metadata": {},
   "outputs": [
    {
     "ename": "LoadError",
     "evalue": "SystemError: opening file \"d:\\\\Universita\\\\repos\\\\TESI\\\\tesi_data\\\\progetto_s_on_f.md\\\\b_spline\\\\functional-data-regression-mip\\\\outputs\\\\runs\\\\3_predictors\\\\l0_limit\\\\2500_500_6_250_0.01_0.001_1000_[100, 100]_1\\\\model_results.txt\": No such file or directory",
     "output_type": "error",
     "traceback": [
      "SystemError: opening file \"d:\\\\Universita\\\\repos\\\\TESI\\\\tesi_data\\\\progetto_s_on_f.md\\\\b_spline\\\\functional-data-regression-mip\\\\outputs\\\\runs\\\\3_predictors\\\\l0_limit\\\\2500_500_6_250_0.01_0.001_1000_[100, 100]_1\\\\model_results.txt\": No such file or directory",
      "",
      "Stacktrace:",
      "  [1] systemerror(p::String, errno::Int32; extrainfo::Nothing)",
      "    @ Base .\\error.jl:176",
      "  [2] #systemerror#82",
      "    @ .\\error.jl:175 [inlined]",
      "  [3] systemerror",
      "    @ .\\error.jl:175 [inlined]",
      "  [4] open(fname::String; lock::Bool, read::Bool, write::Nothing, create::Nothing, truncate::Nothing, append::Nothing)",
      "    @ Base .\\iostream.jl:293",
      "  [5] open",
      "    @ .\\iostream.jl:275 [inlined]",
      "  [6] open(fname::String, mode::String; lock::Bool)",
      "    @ Base .\\iostream.jl:356",
      "  [7] open(fname::String, mode::String)",
      "    @ Base .\\iostream.jl:355",
      "  [8] open(::var\"#7#8\"{Dict{Any, Any}}, ::String, ::Vararg{String}; kwargs::Base.Pairs{Symbol, Union{}, Tuple{}, NamedTuple{(), Tuple{}}})",
      "    @ Base .\\io.jl:393",
      "  [9] open",
      "    @ .\\io.jl:392 [inlined]",
      " [10] read_model_results(output_dir::String)",
      "    @ Main d:\\Universita\\repos\\TESI\\tesi_data\\progetto_s_on_f.md\\b_spline\\functional-data-regression-mip\\src\\Julia\\utils\\file_management.jl:228",
      " [11] top-level scope",
      "    @ In[7]:4"
     ]
    }
   ],
   "source": [
    "using CSV\n",
    "using DataFrames\n",
    "\n",
    "results = read_model_results(simulation_path);\n",
    "# read mode_params.csv in Julia from \"model_params_path\"\n",
    "df =CSV.read(model_params_path, DataFrame) \n",
    "\n",
    "\n"
   ]
  },
  {
   "cell_type": "code",
   "execution_count": 6,
   "metadata": {},
   "outputs": [
    {
     "data": {
      "text/plain": [
       "Dict{Any, Any} with 6 entries:\n",
       "  \"Beta Matrix\"          => [0.999997 1.00004 … 0.633811 0.540305; 6.96835e-6 0…\n",
       "  \"True Predictors\"      => [1.0; 1.0; 0.0;;]\n",
       "  \"Evaluated Predictors\" => [1.0; 1.0; 0.0;;]\n",
       "  \"True Intercept\"       => [0.0;;]\n",
       "  \"Evaluated Intercept\"  => [0.0;;]\n",
       "  \"Beta Star\"            => [1.01426 0.987147 … 0.639002 0.533365; 0.0 0.0 … 1.…"
      ]
     },
     "execution_count": 6,
     "metadata": {},
     "output_type": "execute_result"
    }
   ],
   "source": [
    "results"
   ]
  },
  {
   "cell_type": "markdown",
   "metadata": {},
   "source": [
    "## Load Setting Data"
   ]
  },
  {
   "cell_type": "code",
   "execution_count": 7,
   "metadata": {},
   "outputs": [
    {
     "data": {
      "text/plain": [
       "\"default\""
      ]
     },
     "execution_count": 7,
     "metadata": {},
     "output_type": "execute_result"
    }
   ],
   "source": [
    "simulation_settings_file = df.SettingName[1]\n"
   ]
  },
  {
   "cell_type": "code",
   "execution_count": 33,
   "metadata": {},
   "outputs": [
    {
     "data": {
      "text/plain": [
       "RObject{RealSxp}\n",
       "     [,1]        [,2]      [,3]       [,4]       [,5]       [,6]       [,7]\n",
       "[1,]    1 0.999987374 0.9999495 0.99988637 0.99979799 0.99968437 0.99954550\n",
       "[2,]    0 0.005262275 0.0105244 0.01578624 0.02104764 0.02630846 0.03156855\n",
       "[3,]    0 0.000000000 0.0000000 0.00000000 0.00000000 0.00000000 0.00000000\n",
       "           [,8]       [,9]      [,10]      [,11]      [,12]      [,13]\n",
       "[1,] 0.99938139 0.99919205 0.99897747 0.99873767 0.99847265 0.99818241\n",
       "[2,] 0.03682776 0.04208596 0.04734299 0.05259871 0.05785297 0.06310563\n",
       "[3,] 0.00000000 0.00000000 0.00000000 0.00000000 0.00000000 0.00000000\n",
       "          [,14]      [,15]      [,16]      [,17]      [,18]      [,19]\n",
       "[1,] 0.99786697 0.99752634 0.99716051 0.99676950 0.99635332 0.99591198\n",
       "[2,] 0.06835654 0.07360556 0.07885255 0.08409734 0.08933981 0.09457981\n",
       "[3,] 0.00000000 0.00000000 0.00000000 0.00000000 0.00000000 0.00000000\n",
       "          [,20]     [,21]     [,22]     [,23]     [,24]     [,25]     [,26]\n",
       "[1,] 0.99544550 0.9949539 0.9944371 0.9938953 0.9933283 0.9927363 0.9921192\n",
       "[2,] 0.09981718 0.1050518 0.1102835 0.1155121 0.1207376 0.1259597 0.1311783\n",
       "[3,] 0.00000000 0.0000000 0.0000000 0.0000000 0.0000000 0.0000000 0.0000000\n",
       "         [,27]     [,28]     [,29]     [,30]     [,31]     [,32]     [,33]\n",
       "[1,] 0.9914770 0.9908098 0.9901176 0.9894004 0.9886582 0.9878910 0.9870989\n",
       "[2,] 0.1363933 0.1416045 0.1468118 0.1520150 0.1572140 0.1624087 0.1675989\n",
       "[3,] 0.0000000 0.0000000 0.0000000 0.0000000 0.0000000 0.0000000 0.0000000\n",
       "         [,34]     [,35]     [,36]     [,37]     [,38]     [,39]     [,40]\n",
       "[1,] 0.9862818 0.9854399 0.9845730 0.9836814 0.9827648 0.9818235 0.9808573\n",
       "[2,] 0.1727844 0.1779651 0.1831409 0.1883117 0.1934772 0.1986374 0.2037920\n",
       "[3,] 0.0000000 0.0000000 0.0000000 0.0000000 0.0000000 0.0000000 0.0000000\n",
       "         [,41]     [,42]     [,43]     [,44]     [,45]     [,46]     [,47]\n",
       "[1,] 0.9798664 0.9788508 0.9778104 0.9767453 0.9756556 0.9745412 0.9734023\n",
       "[2,] 0.2089410 0.2140843 0.2192216 0.2243528 0.2294778 0.2345965 0.2397087\n",
       "[3,] 0.0000000 0.0000000 0.0000000 0.0000000 0.0000000 0.0000000 0.0000000\n",
       "         [,48]     [,49]     [,50]     [,51]     [,52]     [,53]     [,54]\n",
       "[1,] 0.9722387 0.9710506 0.9698380 0.9686008 0.9673393 0.9660533 0.9647429\n",
       "[2,] 0.2448142 0.2499130 0.2550048 0.2600896 0.2651671 0.2702374 0.2753001\n",
       "[3,] 0.0000000 0.0000000 0.0000000 0.0000000 0.0000000 0.0000000 0.0000000\n",
       "         [,55]     [,56]     [,57]     [,58]     [,59]     [,60]     [,61]\n",
       "[1,] 0.9634081 0.9620490 0.9606656 0.9592580 0.9578261 0.9563701 0.9548899\n",
       "[2,] 0.2803552 0.2854026 0.2904420 0.2954734 0.3004967 0.3055116 0.3105180\n",
       "[3,] 0.0000000 0.0000000 0.0000000 0.0000000 0.0000000 0.0000000 0.0000000\n",
       "         [,62]     [,63]     [,64]     [,65]     [,66]     [,67]     [,68]\n",
       "[1,] 0.9533856 0.9518572 0.9503048 0.9487284 0.9471280 0.9455037 0.9438555\n",
       "[2,] 0.3155159 0.3205050 0.3254852 0.3304564 0.3354185 0.3403713 0.3453147\n",
       "[3,] 0.0000000 0.0000000 0.0000000 0.0000000 0.0000000 0.0000000 0.0000000\n",
       "         [,69]     [,70]     [,71]     [,72]     [,73]     [,74]     [,75]\n",
       "[1,] 0.9421835 0.9404877 0.9387682 0.9370249 0.9352580 0.9334675 0.9316534\n",
       "[2,] 0.3502485 0.3551726 0.3600868 0.3649911 0.3698853 0.3747692 0.3796428\n",
       "[3,] 0.0000000 0.0000000 0.0000000 0.0000000 0.0000000 0.0000000 0.0000000\n",
       "         [,76]     [,77]     [,78]     [,79]     [,80]     [,81]     [,82]\n",
       "[1,] 0.9298158 0.9279547 0.9260701 0.9241622 0.9222309 0.9202764 0.9182986\n",
       "[2,] 0.3845058 0.3893582 0.3941999 0.3990306 0.4038502 0.4086587 0.4134558\n",
       "[3,] 0.0000000 0.0000000 0.0000000 0.0000000 0.0000000 0.0000000 0.0000000\n",
       "         [,83]     [,84]     [,85]     [,86]     [,87]     [,88]     [,89]\n",
       "[1,] 0.9162976 0.9142735 0.9122263 0.9101561 0.9080629 0.9059467 0.9038077\n",
       "[2,] 0.4182415 0.4230157 0.4277781 0.4325286 0.4372672 0.4419937 0.4467079\n",
       "[3,] 0.0000000 0.0000000 0.0000000 0.0000000 0.0000000 0.0000000 0.0000000\n",
       "         [,90]     [,91]     [,92]     [,93]     [,94]     [,95]     [,96]\n",
       "[1,] 0.9016458 0.8994612 0.8972539 0.8950239 0.8927713 0.8904962 0.8881986\n",
       "[2,] 0.4514098 0.4560992 0.4607759 0.4654399 0.4700910 0.4747290 0.4793540\n",
       "[3,] 0.0000000 0.0000000 0.0000000 0.0000000 0.0000000 0.0000000 0.0000000\n",
       "         [,97]     [,98]     [,99]    [,100]    [,101]    [,102]    [,103]\n",
       "[1,] 0.8858785 0.8835361 0.8811714 0.8787844 0.8763752 0.8739439 0.8714905\n",
       "[2,] 0.4839656 0.4885638 0.4931486 0.4977196 0.5022769 0.5068203 0.5113496\n",
       "[3,] 0.0000000 0.0000000 0.0000000 0.0000000 0.0000000 0.0000000 0.0000000\n",
       "        [,104]    [,105]    [,106]    [,107]    [,108]    [,109]    [,110]\n",
       "[1,] 0.8690152 0.8665178 0.8639986 0.8614576 0.8588948 0.8563104 0.8537043\n",
       "[2,] 0.5158648 0.5203657 0.5248522 0.5293241 0.5337814 0.5382239 0.5426515\n",
       "[3,] 0.0000000 0.0000000 0.0000000 0.0000000 0.0000000 0.0000000 0.0000000\n",
       "        [,111]    [,112]    [,113]    [,114]    [,115]    [,116]    [,117]\n",
       "[1,] 0.8510767 0.8484275 0.8457570 0.8430650 0.8403518 0.8376174 0.8348618\n",
       "[2,] 0.5470641 0.5514615 0.5558437 0.5602104 0.5645617 0.5688973 0.5732172\n",
       "[3,] 0.0000000 0.0000000 0.0000000 0.0000000 0.0000000 0.0000000 0.0000000\n",
       "        [,118]    [,119]    [,120]    [,121]    [,122]    [,123]    [,124]\n",
       "[1,] 0.8320852 0.8292875 0.8264689 0.8236294 0.8207691 0.8178881 0.8149865\n",
       "[2,] 0.5775212 0.5818091 0.5860810 0.5903367 0.5945760 0.5987988 0.6030051\n",
       "[3,] 0.0000000 0.0000000 0.0000000 0.0000000 0.0000000 0.0000000 0.0000000\n",
       "        [,125]    [,126]    [,127]    [,128]    [,129]   [,130]    [,131]\n",
       "[1,] 0.8120642 0.8091215 0.8061583 0.8031748 0.8001710 0.797147 0.7941028\n",
       "[2,] 0.6071947 0.6113674 0.6155232 0.6196620 0.6237836 0.627888 0.6319749\n",
       "[3,] 0.0000000 0.0000000 0.0000000 0.0000000 0.0000000 0.000000 0.0000000\n",
       "        [,132]    [,133]    [,134]    [,135]    [,136]    [,137]    [,138]\n",
       "[1,] 0.7910386 0.7879544 0.7848504 0.7817265 0.7785828 0.7754195 0.7722367\n",
       "[2,] 0.6360444 0.6400962 0.6441303 0.6481466 0.6521449 0.6561252 0.6600873\n",
       "[3,] 0.0000000 0.0000000 0.0000000 0.0000000 0.0000000 0.0000000 0.0000000\n",
       "        [,139]    [,140]    [,141]    [,142]    [,143]    [,144]    [,145]\n",
       "[1,] 0.7690343 0.7658125 0.7625714 0.7593110 0.7560314 0.7527328 0.7494151\n",
       "[2,] 0.6640311 0.6679566 0.6718635 0.6757518 0.6796215 0.6834723 0.6873041\n",
       "[3,] 0.0000000 0.0000000 0.0000000 0.0000000 0.0000000 0.0000000 0.0000000\n",
       "        [,146]    [,147]    [,148]    [,149]    [,150]    [,151]    [,152]\n",
       "[1,] 0.7460785 0.7427231 0.7393489 0.7359561 0.7325446 0.7291147 0.7256663\n",
       "[2,] 0.6911170 0.6949107 0.6986851 0.7024403 0.7061759 0.7098920 0.7135885\n",
       "[3,] 0.0000000 0.0000000 0.0000000 0.0000000 0.0000000 0.0000000 0.0000000\n",
       "        [,153]    [,154]    [,155]    [,156]    [,157]    [,158]    [,159]\n",
       "[1,] 0.7221997 0.7187148 0.7152117 0.7116906 0.7081515 0.7045945 0.7010198\n",
       "[2,] 0.7172652 0.7209220 0.7245588 0.7281756 0.7317723 0.7353486 0.7389046\n",
       "[3,] 0.0000000 0.0000000 0.0000000 0.0000000 0.0000000 0.0000000 0.0000000\n",
       "        [,160]    [,161]    [,162]    [,163]    [,164]    [,165]    [,166]\n",
       "[1,] 0.6974273 0.6938172 0.6901896 0.6865446 0.6828823 0.6792027 0.6755059\n",
       "[2,] 0.7424402 0.7459552 0.7494495 0.7529231 0.7563758 0.7598076 0.7632183\n",
       "[3,] 0.0000000 0.0000000 0.0000000 0.0000000 0.0000000 0.0000000 0.0000000\n",
       "        [,167]    [,168]    [,169]    [,170]    [,171]    [,172]    [,173]\n",
       "[1,] 0.6717921 0.6680613 0.6643137 0.6605493 0.6567681 0.6529705 0.6491563\n",
       "[2,] 0.7666079 0.7699763 0.7733233 0.7766490 0.7799531 0.7832356 0.7864965\n",
       "[3,] 0.0000000 0.0000000 0.0000000 0.0000000 0.0000000 0.0000000 0.0000000\n",
       "        [,174]    [,175]    [,176]    [,177]    [,178]    [,179]    [,180]\n",
       "[1,] 0.6453257 0.6414789 0.6376158 0.6337366 0.6298415 0.6259304 0.6220035\n",
       "[2,] 0.7897355 0.7929527 0.7961480 0.7993212 0.8024722 0.8056010 0.8087076\n",
       "[3,] 0.0000000 0.0000000 0.0000000 0.0000000 0.0000000 0.0000000 0.0000000\n",
       "        [,181]    [,182]    [,183]    [,184]    [,185]    [,186]    [,187]\n",
       "[1,] 0.6180609 0.6141027 0.6101291 0.6061399 0.6021355 0.5981159 0.5940812\n",
       "[2,] 0.8117917 0.8148534 0.8178924 0.8209089 0.8239026 0.8268735 0.8298215\n",
       "[3,] 0.0000000 0.0000000 0.0000000 0.0000000 0.0000000 0.0000000 0.0000000\n",
       "        [,188]    [,189]    [,190]    [,191]    [,192]    [,193]    [,194]\n",
       "[1,] 0.5900315 0.5859669 0.5818874 0.5777933 0.5736846 0.5695614 0.5654239\n",
       "[2,] 0.8327465 0.8356484 0.8385272 0.8413828 0.8442151 0.8470240 0.8498095\n",
       "[3,] 0.0000000 0.0000000 0.0000000 0.0000000 0.0000000 0.0000000 0.0000000\n",
       "        [,195]    [,196]    [,197]    [,198]    [,199]    [,200]\n",
       "[1,] 0.5612720 0.5571060 0.5529259 0.5487319 0.5445240 0.5403023\n",
       "[2,] 0.8525714 0.8553097 0.8580244 0.8607152 0.8633823 0.8660254\n",
       "[3,] 0.0000000 0.0000000 0.0000000 0.0000000 0.0000000 0.0000000\n"
      ]
     },
     "execution_count": 33,
     "metadata": {},
     "output_type": "execute_result"
    }
   ],
   "source": [
    "load_conf_file_path = joinpath(project_root, \"src\", \"R\",\"generic_simulator\",\"utils\", \"loader_utilities.R\")\n",
    "\n",
    "\n",
    "\n",
    "@rput simulation_name\n",
    "@rput simulation_settings_file\n",
    "@rput load_conf_file_path\n",
    "R\"\"\"\n",
    "source(load_conf_file_path)\n",
    "library(here)\n",
    "\n",
    "# Retrieve time_domains from the param setting\n",
    "inputs  <- load_simulation_settings(simulation_name, simulation_settings_file)\n",
    "time_domains_eval <- lapply(inputs$time_domains, function(domain) {\n",
    "           seq(from = domain[[1]], to = domain[[2]], length.out = inputs$measurements)\n",
    "       })\n",
    "inputs$time_domains <- time_domains_eval\n",
    "# Recreate the basis values \n",
    "source(here(\"src\", \"R\",   \"generic_simulator\",  \"utils\" , \"basis_utilities.R\")) \n",
    "\n",
    "basis_objs <- create_basis(inputs$basis_functions, inputs$time_domains, inputs$norder, inputs$predictors)\n",
    "result <- smooth_betas_generic(beta_funcs,basis_functions,  inputs$time_domains, basis_objs)\n",
    "basis_values <- result$basis_values\n",
    "beta_point_values <- result$beta_point_values\n",
    "\n",
    "\"\"\"\n",
    "\n"
   ]
  },
  {
   "cell_type": "code",
   "execution_count": 56,
   "metadata": {},
   "outputs": [],
   "source": [
    "# Sample input data\n",
    "time_domains = rcopy(R\"(inputs$time_domains)\");\n",
    "\n",
    "# betas and basis\n",
    "basis_values = rcopy(R\"(basis_values)\");\n",
    "\n",
    "# beta_point_values\n",
    "beta_point_values = rcopy(R\"(beta_point_values)\");"
   ]
  },
  {
   "cell_type": "code",
   "execution_count": 63,
   "metadata": {},
   "outputs": [
    {
     "ename": "LoadError",
     "evalue": "DimensionMismatch: A has dimensions (200,5) but B has dimensions (1,6)",
     "output_type": "error",
     "traceback": [
      "DimensionMismatch: A has dimensions (200,5) but B has dimensions (1,6)",
      "",
      "Stacktrace:",
      " [1] gemm_wrapper!(C::Matrix{Float64}, tA::Char, tB::Char, A::Matrix{Float64}, B::Vector{Float64}, _add::LinearAlgebra.MulAddMul{true, true, Bool, Bool})",
      "   @ LinearAlgebra C:\\Users\\User\\AppData\\Local\\Programs\\Julia-1.9.3\\share\\julia\\stdlib\\v1.9\\LinearAlgebra\\src\\matmul.jl:646",
      " [2] mul!",
      "   @ C:\\Users\\User\\AppData\\Local\\Programs\\Julia-1.9.3\\share\\julia\\stdlib\\v1.9\\LinearAlgebra\\src\\matmul.jl:391 [inlined]",
      " [3] mul!",
      "   @ C:\\Users\\User\\AppData\\Local\\Programs\\Julia-1.9.3\\share\\julia\\stdlib\\v1.9\\LinearAlgebra\\src\\matmul.jl:441 [inlined]",
      " [4] mul!",
      "   @ C:\\Users\\User\\AppData\\Local\\Programs\\Julia-1.9.3\\share\\julia\\stdlib\\v1.9\\LinearAlgebra\\src\\matmul.jl:276 [inlined]",
      " [5] *",
      "   @ C:\\Users\\User\\AppData\\Local\\Programs\\Julia-1.9.3\\share\\julia\\stdlib\\v1.9\\LinearAlgebra\\src\\matmul.jl:141 [inlined]",
      " [6] plot_combined_predicted_curve(beta_point_values::Matrix{Float64}, γ_star::LinearAlgebra.Adjoint{Float64, Matrix{Float64}}, basis_values::Array{Float64, 3}, time_domains::Vector{Any}, folder_path::String, show_plot::Bool)",
      "   @ Main c:\\Users\\User\\Documents\\repos\\TESI\\tesi_data\\progetto_s_on_f.md\\b_spline\\functional-data-regression-mip\\src\\Julia\\utils\\plot.jl:30",
      " [7] top-level scope",
      "   @ In[63]:8"
     ]
    }
   ],
   "source": [
    "plot_file_path = joinpath(project_root, \"src\", \"Julia\",\"utils\", \"plot.jl\")\n",
    "include(plot_file_path)\n",
    "\n",
    "\n",
    "output_folder= joinpath(project_root, \"outputs\", \"plots\", simulation_name, model, simulation_settings_file,simulation_conf)\n",
    "γ_matrix = results[\"Beta Matrix\"]\n",
    "γ_star = results[\"Beta Star\"]\n",
    "plot_combined_predicted_curve(beta_point_values, γ_star, basis_values,  time_domains, output_folder, true)\n"
   ]
  }
 ],
 "metadata": {
  "kernelspec": {
   "display_name": "Julia 1.9.3",
   "language": "julia",
   "name": "julia-1.9"
  },
  "language_info": {
   "file_extension": ".jl",
   "mimetype": "application/julia",
   "name": "julia",
   "version": "1.9.3"
  }
 },
 "nbformat": 4,
 "nbformat_minor": 2
}
