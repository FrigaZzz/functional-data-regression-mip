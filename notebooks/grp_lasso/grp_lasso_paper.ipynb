{
 "cells": [
  {
   "cell_type": "code",
   "execution_count": 1,
   "metadata": {
    "vscode": {
     "languageId": "r"
    }
   },
   "outputs": [],
   "source": [
    "# SETUP yours\n",
    "user_libs = \"C:/Users/User/AppData/Local/R/cache/R/renv/library/functional-data-regression-mip-e3349204/R-4.3/x86_64-w64-mingw32\"\n",
    ".libPaths(c(user_libs,.libPaths()))\n",
    "\n"
   ]
  },
  {
   "cell_type": "code",
   "execution_count": 2,
   "metadata": {
    "vscode": {
     "languageId": "r"
    }
   },
   "outputs": [
    {
     "name": "stderr",
     "output_type": "stream",
     "text": [
      "Warning message:\n",
      "\"il pacchetto 'refund' è stato creato con R versione 4.3.2\"\n",
      "Warning message:\n",
      "\"il pacchetto 'fda' è stato creato con R versione 4.3.2\"\n",
      "Caricamento del pacchetto richiesto: splines\n",
      "\n",
      "Caricamento del pacchetto richiesto: fds\n",
      "\n",
      "Warning message:\n",
      "\"il pacchetto 'fds' è stato creato con R versione 4.3.2\"\n",
      "Caricamento del pacchetto richiesto: rainbow\n",
      "\n",
      "Warning message:\n",
      "\"il pacchetto 'rainbow' è stato creato con R versione 4.3.2\"\n",
      "Caricamento del pacchetto richiesto: pcaPP\n",
      "\n",
      "Warning message:\n",
      "\"il pacchetto 'pcaPP' è stato creato con R versione 4.3.2\"\n",
      "Caricamento del pacchetto richiesto: RCurl\n",
      "\n",
      "Warning message:\n",
      "\"il pacchetto 'RCurl' è stato creato con R versione 4.3.2\"\n",
      "Caricamento del pacchetto richiesto: deSolve\n",
      "\n",
      "Warning message:\n",
      "\"il pacchetto 'deSolve' è stato creato con R versione 4.3.2\"\n",
      "\n",
      "Caricamento pacchetto: 'fda'\n",
      "\n",
      "\n",
      "Il seguente oggetto è mascherato da 'package:graphics':\n",
      "\n",
      "    matplot\n",
      "\n",
      "\n",
      "Warning message:\n",
      "\"il pacchetto 'here' è stato creato con R versione 4.3.2\"\n",
      "here() starts at C:/Users/User/Documents/repos/TESI/tesi_data/progetto_s_on_f.md/b_spline/functional-data-regression-mip\n",
      "\n"
     ]
    },
    {
     "name": "stdout",
     "output_type": "stream",
     "text": [
      "[1] 100 NaN NaN\n",
      "[1] \"predictors: 6\"\n",
      "[1] \"observations: 300\"\n",
      "[1] \"measurements: 50\"\n",
      "[1] \"basis_functions: 6\"\n",
      "[1] \"intercept: 0\"\n",
      "[1] 562.91977 123.90356  32.47708  85.60745 109.99000 120.29415\n",
      "[1] 11.36916\n"
     ]
    }
   ],
   "source": [
    "# run_simulation.R\n",
    "# This script contains the function to run the simulation and returns all relevant outputs.\n",
    "\n",
    "library(refund)\n",
    "library(MASS)\n",
    "library(fda)\n",
    "library(here)\n",
    "\n",
    "# Source the generic simulator script\n",
    "source(here(\"src\", \"R\", \"generic_simulator\", \"simulate_main.R\"))\n",
    "source(here(\"src\", \"R\", \"generic_simulator\", \"utils\",\"loader_utilities.R\"))\n",
    "\n",
    "\n",
    "# Define the function to run the simulation\n",
    "run_simulation <- function(params) {\n",
    "  # Ensure that the seed is set for reproducibility\n",
    "  \n",
    "  # Call the main analysis function with the parameters\n",
    "  result <- do.call(generate_data, params[c(\"predictors\", \"observations\", \"measurements\", \"basis_functions\", \"intercept\", \"norder\", \"mu_funcs\", \"beta_funcs\",\"time_domains\", \"cov_funcs\", \"seed\",\"noise_snr\",\"simulation_type\")] )\n",
    "    \n",
    "  # Return the output list\n",
    "  return(result)\n",
    "}\n",
    "\n",
    "\n",
    "\n",
    "simulation_name = \"paper\"\n",
    "simulation_settings_file = \"default\"\n",
    "# Required inputs before running the simulation!!!\n",
    "inputs  <- load_simulation_settings(simulation_name, simulation_settings_file)\n",
    "inputs$measurements <- 50\n",
    "inputs$observations <- 300\n",
    "inputs$basis_functions <- 6\n",
    "inputs$seed <- 0\n",
    "time_domains_eval <- lapply(inputs$time_domains, function(domain) {\n",
    "           seq(from = domain[[1]], to = domain[[2]], length.out = inputs$measurements)\n",
    "       })\n",
    "inputs$time_domains <- time_domains_eval\n",
    "inputs$noise_snr <- c(100,100)\n",
    "outputs <- run_simulation(inputs);\n",
    "\n",
    "\n",
    "## ADAPTATION TO GETHEIS DATA\n",
    "X = outputs$X\n",
    "Y = outputs$Y\n",
    "obseravation = dim(X)[1]    \n",
    "predictors = dim(X)[2]\n",
    "measurements = dim(X)[3]\n",
    "\n",
    "fobs <- list()\n",
    "for (j in 1:predictors) {\n",
    "  fobs[[j]] <- matrix(0, obseravation, measurements)\n",
    "  for (i in 1:obseravation) {\n",
    "    fobs[[j]][i,] <- X[i,j,]\n",
    "  }\n",
    "}\n",
    "\n",
    "tps <- list()\n",
    "# for any time_domain, create a vector of time points from 1:measurements\n",
    "tps <- inputs$time_domains\n",
    "\n"
   ]
  },
  {
   "cell_type": "code",
   "execution_count": 3,
   "metadata": {
    "vscode": {
     "languageId": "r"
    }
   },
   "outputs": [
    {
     "name": "stderr",
     "output_type": "stream",
     "text": [
      "Caricamento del pacchetto richiesto: grplasso\n",
      "\n",
      "Warning message:\n",
      "\"il pacchetto 'grplasso' è stato creato con R versione 4.3.0\"\n"
     ]
    }
   ],
   "source": [
    "require(splines)\n",
    "require(grplasso)\n",
    "\n",
    "to_matrix_form <-  function(predictor_coefficients, predictors, basis_functions) {\n",
    "    # Create a matrix with 'basis_functions' elements per row\n",
    "    # and the number of rows equal to the number of predictors from coeff_full\n",
    "    coeff_matrix = matrix(0, nrow = predictors, ncol = basis_functions)\n",
    "\n",
    "    for (i in 1:(predictors * basis_functions)) {\n",
    "        # Calculate the row index as the ceiling of the division of 'i' by 'basis_functions'\n",
    "        row_index = (i - 1) %/% basis_functions + 1\n",
    "        # Calculate the column index as 'i' modulo 'basis_functions'; if modulo is 0, it means it's the last measurement\n",
    "        col_index = ifelse(i %% basis_functions == 0, basis_functions, i %% basis_functions)\n",
    "        # Assign the value of the coefficient to the matrix\n",
    "        coeff_matrix[row_index, col_index] = predictor_coefficients[i]\n",
    "}\n",
    "\n",
    "  return(coeff_matrix)\n",
    "}\n",
    "\n",
    "\n",
    "\n",
    "grplFlinear <- function(Y, X, Tps, lambda, phi, dfs = 10,\n",
    "adapt1 = NULL, adapt2 = NULL, ...){\n",
    "\n",
    "\t#### Observed functions x_{ij}(t) at possibly different support grids t\n",
    "\t## Y = nx1 vector of responses\n",
    "\t## X = list of matrices, each element corresponds to observations of one functional predictor.\n",
    "\t##\t\tThus, [[jj]] would provide the jj-th observed function with subjects as rows and the support grid as columns\n",
    "\t##\t\tNote that each function (i.e. component of X) can have different support\n",
    "\t## Tps = list of vectors, each element is a suppport grid of the corresponding observed function.\n",
    "\t##\t\tThus, Tps[[jj]] would give the support grid of the jj-th observed function. This grid is\n",
    "\t##\t\tassumed to be the same for all subjects ii, and equidistant\n",
    "\t## lambda = vector of penalty parameters\n",
    "\t## phi = penalty parameter for smoothing\n",
    "\t## dfs = dfs used for basis expansions of coefficient functions (can be a vector)\n",
    "\n",
    "\n",
    "\tnsub = length(Y) ## number of subjects\n",
    "\tnfunc = length(Tps) ## number of functions per subject\n",
    "\n",
    "\n",
    "\n",
    "\t#### We use bsplines as basis functions for the corrsponding beta functions\n",
    "  if (length(dfs) == 1)\n",
    "    dfs = rep(dfs, nfunc) ## vector of intended df of each spline basis\n",
    "  if (length(dfs) != nfunc)\n",
    "    stop(\"length of dfs does not match number of predictors\")\n",
    "\n",
    "\tB <- Psi <- Omega <- K <- iR <- eK <- list()\n",
    "\tdelt <- rep(NA, nfunc)\n",
    "\n",
    "\n",
    "\tfor (jj in 1:nfunc){\n",
    "\t\t\n",
    "    spj = diff(range(Tps[[jj]]))#/(dfs[jj]-2)\n",
    "    bknj = c(min(Tps[[jj]]) - spj, max(Tps[[jj]]) + spj) ## boundary knots\n",
    "\t\tB[[jj]] = bs(Tps[[jj]], df=dfs[jj], Boundary.knots=bknj) ## basis spline set up\n",
    "\t\tdelt[jj] = Tps[[jj]][2] - Tps[[jj]][1] ## differences in Tps\n",
    "\n",
    "\t\tPsi[[jj]] = delt[jj] * t(B[[jj]]) %*% B[[jj]] ## approximate norm of bsplines assuming dense design\n",
    "    if (length(adapt1) == nfunc)\n",
    "      Psi[[jj]] = adapt1[jj]*Psi[[jj]]\n",
    "\n",
    "    dBj <- matrix(NA,nrow(B[[jj]]),ncol(B[[jj]]))\n",
    "    for (k in 1:ncol(B[[jj]])) ## computation of second derivatives\n",
    "      {\n",
    "        iS <- interpSpline(Tps[[jj]],B[[jj]][,k])\n",
    "        dBj[,k] <- predict(iS, Tps[[jj]], deriv = 2)$y\n",
    "      }\n",
    "    Omega[[jj]] = delt[jj] * t(dBj) %*% dBj ## approximate norm of 2nd deriv of bsplines assuming dense design\n",
    "    if (length(adapt2) == nfunc)\n",
    "      Omega[[jj]] = adapt2[jj]*Omega[[jj]]\n",
    "\n",
    "\t\tK[[jj]] = Psi[[jj]] + phi * Omega[[jj]] ## K matrix\n",
    "\n",
    "    # Check eigenvalues\n",
    "    eig_vals <- eigen(K[[jj]])$values\n",
    "    if (any(eig_vals <= 0)) {\n",
    "        cat(\"Matrix K[\", jj, \"] has non-positive eigenvalues.\\n\")\n",
    "        # Diagonal loading for numerical stability\n",
    "        K[[jj]] <- K[[jj]] + diag(abs(min(eig_vals)) + 1e-6, ncol(K[[jj]]))\n",
    "    }\n",
    "\n",
    "\n",
    "    eK[[jj]] <- eigen(K[[jj]])\n",
    "    #iR[[jj]] <- t((1/sqrt(eK[[jj]]$values))*t(eK[[jj]]$vectors))\n",
    "\t\tiR[[jj]] = backsolve(chol(K[[jj]]), x = diag(ncol(K[[jj]])))  ## inverse of cholesky of K\n",
    "\t}\n",
    "\n",
    "\n",
    "\t## covariates for the linear model\n",
    "\tZ = 1\n",
    "\tfor (jj in 1:nfunc)\n",
    "    {\n",
    "\t\t\ttmp = delt[jj]*(X[[jj]]%*%B[[jj]])\n",
    "\t\t\tZ = cbind(Z, tmp%*%iR[[jj]])\n",
    "\t\t}\n",
    "\n",
    "\n",
    "\t## group lasso\n",
    "\tindex = c(NA,rep(1:nfunc,dfs))\n",
    "\tgrpl = grplasso(x = Z, y = Y, index = index, model = LinReg(), lambda = lambda,\n",
    "  standardize = F, ...)\n",
    "\n",
    "\n",
    "  ## output: intercept and fitted coefficient functions\n",
    "  intercept = grpl$coef[1,]\n",
    "  Coef <- list()\n",
    "  index[1] = 0\n",
    "  for (jj in 1:nfunc)\n",
    "    {\n",
    "      Coef[[jj]] <- B[[jj]]%*%iR[[jj]]%*%grpl$coef[index == jj,]\n",
    "    }\n",
    "\n",
    "  out = list(\"intercept\" = intercept, \"Coef\" = Coef, \"real_coef\" = grpl$coef, \"Z\" = Z)\n",
    "\treturn(out)\n",
    "}\n",
    "\n",
    "\n",
    "grplMFLM <- function(k, Y, X, Tps, lambda, phi, dfs = 10, ...)\n",
    "  {\n",
    "  # K-fold cross-validation function\n",
    "    n <- length(Y)\n",
    "    p <- length(X)\n",
    "    os <- sample(n,n)\n",
    "    \n",
    "    cvError <- array(NA, c(k,length(phi),length(lambda)))\n",
    "    nk <- floor(n/k)\n",
    "    for (wk in 1:k)\n",
    "      {\n",
    "        cat(\"fold\",wk,\"\\n\")\n",
    "        if (wk < k)\n",
    "          inds <- os[(wk-1)*nk+(1:nk)]\n",
    "        else\n",
    "          inds <- os[-(1:((wk-1)*nk))]\n",
    "\n",
    "        # training/test obs\n",
    "        Xk <- X\n",
    "        Xkt <- X\n",
    "       \tdelt = rep(NA, p)\n",
    "        for (jj in 1:p)\n",
    "          {\n",
    "            Xk[[jj]] <- X[[jj]][-inds,]\n",
    "            Xkt[[jj]] <- X[[jj]][inds,]\n",
    "        \t\tdelt[jj] = Tps[[jj]][2] - Tps[[jj]][1]\n",
    "          }\n",
    "        Yk <- Y[-inds]\n",
    "        Ykt <- Y[inds]\n",
    "\n",
    "       # phi walues\n",
    "        for (wp in 1:length(phi))\n",
    "          {\n",
    "            # model fitting\n",
    "            grplk <- grplFlinear(Y = Yk, X = Xk, Tps = Tps, lambda = lambda, \n",
    "            phi = phi[wp], dfs = dfs, ...)\n",
    "            \n",
    "            # test set prediction\n",
    "            predk <- matrix(NA,length(inds),length(lambda))\n",
    "            for (ll in 1:length(lambda))\n",
    "              {\n",
    "                predll <- rep(grplk$intercept[ll],nrow(predk))\n",
    "                for (jj in 1:p)\n",
    "                  {\n",
    "                    predll <- predll + delt[jj]*Xkt[[jj]]%*%grplk$Coef[[jj]][,ll]\n",
    "                  }\n",
    "                # error\n",
    "                cvError[wk,wp,ll] <- sum((Ykt - predll)^2)\n",
    "              }\n",
    "          }\n",
    "      }\n",
    "    return(cvError)\n",
    "  }\n",
    "  \n",
    "  "
   ]
  },
  {
   "cell_type": "code",
   "execution_count": 4,
   "metadata": {
    "vscode": {
     "languageId": "r"
    }
   },
   "outputs": [
    {
     "name": "stdout",
     "output_type": "stream",
     "text": [
      "             [,1]      [,2]      [,3]      [,4]      [,5]     [,6]\n",
      "[1,] 4.227235e-06 0.1111013 0.3333239 0.6299258 0.7814749 0.841467\n",
      "[2,] 1.500439e-04 0.2323840 0.6976011 1.0681667 0.9830667 0.865998\n",
      "[3,] 0.000000e+00 0.0000000 0.0000000 0.0000000 0.0000000 0.000000\n",
      "[4,] 1.500439e-04 0.2323840 0.6976011 1.0681667 0.9830667 0.865998\n",
      "[5,] 0.000000e+00 0.0000000 0.0000000 0.0000000 0.0000000 0.000000\n",
      "[6,] 0.000000e+00 0.0000000 0.0000000 0.0000000 0.0000000 0.000000\n"
     ]
    }
   ],
   "source": [
    "print( outputs$B)"
   ]
  },
  {
   "cell_type": "code",
   "execution_count": 6,
   "metadata": {
    "vscode": {
     "languageId": "r"
    }
   },
   "outputs": [],
   "source": [
    "# fit using functional smooth group lasso\n",
    "lambda <- 10^seq(5,-8,by=-1)\n",
    "phi <- 10^seq(5, -5,,by=-1)\n"
   ]
  },
  {
   "cell_type": "code",
   "execution_count": 7,
   "metadata": {
    "vscode": {
     "languageId": "r"
    }
   },
   "outputs": [
    {
     "name": "stdout",
     "output_type": "stream",
     "text": [
      "fold 1 \n",
      "Setting update.every = length(lambda) + 1\n",
      "Lambda: 1e+05  nr.var: 1 \n",
      "Lambda: 10000  nr.var: 1 \n",
      "Lambda: 1000  nr.var: 1 \n",
      "Lambda: 100  nr.var: 19 \n",
      "Lambda: 10  nr.var: 19 \n",
      "Lambda: 1  nr.var: 31 \n",
      "Lambda: 0.1  nr.var: 37 \n"
     ]
    },
    {
     "name": "stderr",
     "output_type": "stream",
     "text": [
      "Warning message in grplasso.default(x = Z, y = Y, index = index, model = LinReg(), :\n",
      "\"Maximal number of iterations reached for lambda[8]\"\n"
     ]
    },
    {
     "name": "stdout",
     "output_type": "stream",
     "text": [
      "Lambda: 0.01  nr.var: 37 \n"
     ]
    },
    {
     "name": "stderr",
     "output_type": "stream",
     "text": [
      "Warning message in grplasso.default(x = Z, y = Y, index = index, model = LinReg(), :\n",
      "\"Maximal number of iterations reached for lambda[9]\"\n"
     ]
    },
    {
     "name": "stdout",
     "output_type": "stream",
     "text": [
      "Lambda: 0.001  nr.var: 37 \n"
     ]
    },
    {
     "name": "stderr",
     "output_type": "stream",
     "text": [
      "Warning message in grplasso.default(x = Z, y = Y, index = index, model = LinReg(), :\n",
      "\"Maximal number of iterations reached for lambda[10]\"\n"
     ]
    },
    {
     "name": "stdout",
     "output_type": "stream",
     "text": [
      "Lambda: 1e-04  nr.var: 37 \n"
     ]
    },
    {
     "name": "stderr",
     "output_type": "stream",
     "text": [
      "Warning message in grplasso.default(x = Z, y = Y, index = index, model = LinReg(), :\n",
      "\"Maximal number of iterations reached for lambda[11]\"\n"
     ]
    },
    {
     "name": "stdout",
     "output_type": "stream",
     "text": [
      "Lambda: 1e-05  nr.var: 37 \n"
     ]
    },
    {
     "name": "stderr",
     "output_type": "stream",
     "text": [
      "Warning message in grplasso.default(x = Z, y = Y, index = index, model = LinReg(), :\n",
      "\"Maximal number of iterations reached for lambda[12]\"\n"
     ]
    },
    {
     "name": "stdout",
     "output_type": "stream",
     "text": [
      "Lambda: 1e-06  nr.var: 37 \n"
     ]
    },
    {
     "name": "stderr",
     "output_type": "stream",
     "text": [
      "Warning message in grplasso.default(x = Z, y = Y, index = index, model = LinReg(), :\n",
      "\"Maximal number of iterations reached for lambda[13]\"\n"
     ]
    },
    {
     "name": "stdout",
     "output_type": "stream",
     "text": [
      "Lambda: 1e-07  nr.var: 37 \n"
     ]
    },
    {
     "name": "stderr",
     "output_type": "stream",
     "text": [
      "Warning message in grplasso.default(x = Z, y = Y, index = index, model = LinReg(), :\n",
      "\"Maximal number of iterations reached for lambda[14]\"\n"
     ]
    },
    {
     "name": "stdout",
     "output_type": "stream",
     "text": [
      "Lambda: 1e-08  nr.var: 37 \n",
      "Setting update.every = length(lambda) + 1\n",
      "Lambda: 1e+05  nr.var: 1 \n",
      "Lambda: 10000  nr.var: 1 \n",
      "Lambda: 1000  nr.var: 1 \n",
      "Lambda: 100  nr.var: 19 \n",
      "Lambda: 10  nr.var: 19 \n",
      "Lambda: 1  nr.var: 37 \n"
     ]
    },
    {
     "name": "stderr",
     "output_type": "stream",
     "text": [
      "Warning message in grplasso.default(x = Z, y = Y, index = index, model = LinReg(), :\n",
      "\"Maximal number of iterations reached for lambda[7]\"\n"
     ]
    },
    {
     "name": "stdout",
     "output_type": "stream",
     "text": [
      "Lambda: 0.1  nr.var: 37 \n"
     ]
    },
    {
     "name": "stderr",
     "output_type": "stream",
     "text": [
      "Warning message in grplasso.default(x = Z, y = Y, index = index, model = LinReg(), :\n",
      "\"Maximal number of iterations reached for lambda[8]\"\n"
     ]
    },
    {
     "name": "stdout",
     "output_type": "stream",
     "text": [
      "Lambda: 0.01  nr.var: 37 \n"
     ]
    },
    {
     "name": "stderr",
     "output_type": "stream",
     "text": [
      "Warning message in grplasso.default(x = Z, y = Y, index = index, model = LinReg(), :\n",
      "\"Maximal number of iterations reached for lambda[9]\"\n"
     ]
    },
    {
     "name": "stdout",
     "output_type": "stream",
     "text": [
      "Lambda: 0.001  nr.var: 37 \n"
     ]
    },
    {
     "name": "stderr",
     "output_type": "stream",
     "text": [
      "Warning message in grplasso.default(x = Z, y = Y, index = index, model = LinReg(), :\n",
      "\"Maximal number of iterations reached for lambda[10]\"\n"
     ]
    },
    {
     "name": "stdout",
     "output_type": "stream",
     "text": [
      "Lambda: 1e-04  nr.var: 37 \n"
     ]
    },
    {
     "name": "stderr",
     "output_type": "stream",
     "text": [
      "Warning message in grplasso.default(x = Z, y = Y, index = index, model = LinReg(), :\n",
      "\"Maximal number of iterations reached for lambda[11]\"\n"
     ]
    },
    {
     "name": "stdout",
     "output_type": "stream",
     "text": [
      "Lambda: 1e-05  nr.var: 37 \n"
     ]
    },
    {
     "name": "stderr",
     "output_type": "stream",
     "text": [
      "Warning message in grplasso.default(x = Z, y = Y, index = index, model = LinReg(), :\n",
      "\"Maximal number of iterations reached for lambda[12]\"\n"
     ]
    },
    {
     "name": "stdout",
     "output_type": "stream",
     "text": [
      "Lambda: 1e-06  nr.var: 37 \n"
     ]
    },
    {
     "name": "stderr",
     "output_type": "stream",
     "text": [
      "Warning message in grplasso.default(x = Z, y = Y, index = index, model = LinReg(), :\n",
      "\"Maximal number of iterations reached for lambda[13]\"\n"
     ]
    },
    {
     "name": "stdout",
     "output_type": "stream",
     "text": [
      "Lambda: 1e-07  nr.var: 37 \n"
     ]
    },
    {
     "name": "stderr",
     "output_type": "stream",
     "text": [
      "Warning message in grplasso.default(x = Z, y = Y, index = index, model = LinReg(), :\n",
      "\"Maximal number of iterations reached for lambda[14]\"\n"
     ]
    },
    {
     "name": "stdout",
     "output_type": "stream",
     "text": [
      "Lambda: 1e-08  nr.var: 37 \n",
      "Setting update.every = length(lambda) + 1\n",
      "Lambda: 1e+05  nr.var: 1 \n",
      "Lambda: 10000  nr.var: 1 \n",
      "Lambda: 1000  nr.var: 1 \n",
      "Lambda: 100  nr.var: 19 \n",
      "Lambda: 10  nr.var: 19 \n",
      "Lambda: 1  nr.var: 37 \n"
     ]
    },
    {
     "name": "stderr",
     "output_type": "stream",
     "text": [
      "Warning message in grplasso.default(x = Z, y = Y, index = index, model = LinReg(), :\n",
      "\"Maximal number of iterations reached for lambda[7]\"\n"
     ]
    },
    {
     "name": "stdout",
     "output_type": "stream",
     "text": [
      "Lambda: 0.1  nr.var: 37 \n"
     ]
    },
    {
     "name": "stderr",
     "output_type": "stream",
     "text": [
      "Warning message in grplasso.default(x = Z, y = Y, index = index, model = LinReg(), :\n",
      "\"Maximal number of iterations reached for lambda[8]\"\n"
     ]
    },
    {
     "name": "stdout",
     "output_type": "stream",
     "text": [
      "Lambda: 0.01  nr.var: 37 \n"
     ]
    },
    {
     "name": "stderr",
     "output_type": "stream",
     "text": [
      "Warning message in grplasso.default(x = Z, y = Y, index = index, model = LinReg(), :\n",
      "\"Maximal number of iterations reached for lambda[9]\"\n"
     ]
    },
    {
     "name": "stdout",
     "output_type": "stream",
     "text": [
      "Lambda: 0.001  nr.var: 37 \n"
     ]
    },
    {
     "name": "stderr",
     "output_type": "stream",
     "text": [
      "Warning message in grplasso.default(x = Z, y = Y, index = index, model = LinReg(), :\n",
      "\"Maximal number of iterations reached for lambda[10]\"\n"
     ]
    },
    {
     "name": "stdout",
     "output_type": "stream",
     "text": [
      "Lambda: 1e-04  nr.var: 37 \n"
     ]
    },
    {
     "name": "stderr",
     "output_type": "stream",
     "text": [
      "Warning message in grplasso.default(x = Z, y = Y, index = index, model = LinReg(), :\n",
      "\"Maximal number of iterations reached for lambda[11]\"\n"
     ]
    },
    {
     "name": "stdout",
     "output_type": "stream",
     "text": [
      "Lambda: 1e-05  nr.var: 37 \n"
     ]
    },
    {
     "name": "stderr",
     "output_type": "stream",
     "text": [
      "Warning message in grplasso.default(x = Z, y = Y, index = index, model = LinReg(), :\n",
      "\"Maximal number of iterations reached for lambda[12]\"\n"
     ]
    },
    {
     "ename": "",
     "evalue": "",
     "output_type": "error",
     "traceback": [
      "\u001b[1;31mThe Kernel crashed while executing code in the current cell or a previous cell. \n",
      "\u001b[1;31mPlease review the code in the cell(s) to identify a possible cause of the failure. \n",
      "\u001b[1;31mClick <a href='https://aka.ms/vscodeJupyterKernelCrash'>here</a> for more info. \n",
      "\u001b[1;31mView Jupyter <a href='command:jupyter.viewOutput'>log</a> for further details."
     ]
    }
   ],
   "source": [
    "    # cross-validation\n",
    "cvError <- grplMFLM(k = 5, Y = Y, X = fobs, Tps = tps, lambda = lambda , phi = phi, dfs = inputs$basis_functions)\n",
    "cvError <- apply(cvError,c(2,3),sum)\n",
    "best_phi <- wp <- which.min(apply(cvError,1,min))\n",
    "best_lambda <- wl <- which.min(cvError[wp,])\n",
    "print(phi[best_phi], lambda[best_lambda])\n",
    "print(cvError[best_phi, best_lambda])\n"
   ]
  },
  {
   "cell_type": "code",
   "execution_count": null,
   "metadata": {
    "vscode": {
     "languageId": "r"
    }
   },
   "outputs": [
    {
     "name": "stdout",
     "output_type": "stream",
     "text": [
      "[1] 1\n"
     ]
    }
   ],
   "source": [
    "print(phi[best_phi][1], lambda[best_lambda])\n"
   ]
  },
  {
   "cell_type": "code",
   "execution_count": 105,
   "metadata": {
    "vscode": {
     "languageId": "r"
    }
   },
   "outputs": [
    {
     "name": "stdout",
     "output_type": "stream",
     "text": [
      "Lambda: 0.1  nr.var: 16 \n",
      "Lambda: 0.1  nr.var: 16 \n",
      "           [,1]        [,2]       [,3]        [,4]        [,5]\n",
      "[1,] 0.96977119 -1.09381727  0.8901635  0.83285378 -2.49841279\n",
      "[2,] 0.42309011  0.52948857 -2.1131620  1.34364110  0.14373193\n",
      "[3,] 0.02788115  0.02243463 -0.0313756 -0.04228097 -0.03157118\n"
     ]
    }
   ],
   "source": [
    "mat_full = grplFlinear(Y = Y, X = fobs, Tps = tps, lambda = lambda[best_lambda], phi = phi[best_phi[1]], dfs = inputs$basis_functions )\n",
    "\n",
    "mat = grplFlinear(Y = Y, X = fobs, Tps = tps, lambda = lambda[best_lambda], phi = phi[best_phi[1]], dfs = inputs$basis_functions )$real_coef\n",
    "\n",
    "intercept <- mat[1, 1]\n",
    "mat_coeff <- mat[-1, ]\n",
    "betas_ =to_matrix_form(mat_coeff,predictors = predictors, basis_functions = inputs$basis_functions)\n",
    "print(betas_)"
   ]
  },
  {
   "cell_type": "code",
   "execution_count": 4,
   "metadata": {
    "vscode": {
     "languageId": "r"
    }
   },
   "outputs": [
    {
     "ename": "ERROR",
     "evalue": "Error in lapply(mat_full$Coef, t): oggetto 'mat_full' non trovato\n",
     "output_type": "error",
     "traceback": [
      "Error in lapply(mat_full$Coef, t): oggetto 'mat_full' non trovato\nTraceback:\n",
      "1. do.call(rbind, lapply(mat_full$Coef, t))",
      "2. lapply(mat_full$Coef, t)"
     ]
    }
   ],
   "source": [
    "# Convert the list of matrices into a matrix\n",
    "matrix <- do.call(rbind, lapply(mat_full$Coef, t))\n",
    "# Check the dimensions of the matrix\n",
    "source(here(\"src\",\"R\", \"generic_simulator\", \"config.R\"))  \n",
    "basis_objs <- outputs$basis_objs\n",
    "result <- smooth_betas_generic(matrix, basis_functions, inputs$time_domains, basis_objs)\n",
    "result$beta_matrix\n"
   ]
  },
  {
   "cell_type": "code",
   "execution_count": 111,
   "metadata": {
    "vscode": {
     "languageId": "r"
    }
   },
   "outputs": [
    {
     "data": {
      "image/png": "[encoded data removed]",
      "text/plain": [
       "plot without title"
      ]
     },
     "metadata": {
      "image/png": {
       "height": 420,
       "width": 420
      }
     },
     "output_type": "display_data"
    }
   ],
   "source": [
    "# Assuming mat_full$Coef[[1]] is a matrix with 5 columns\n",
    "coef_matrix <- betas_\n",
    "beta_points = outputs$basis_values\n",
    "\n",
    "# Create a vector for the x-axis (time domain)\n",
    "time_domain <- tps[[1]]\n",
    "\n",
    "# Create a plot for each column\n",
    "plot(time_domain,beta_points[1,,] %*% coef_matrix[1,]   , type='l', col='red', ylim=range(coef_matrix), xlab='Time', ylab='Coefficient')\n",
    "\n",
    "lines(time_domain, beta_funcs[[1]](tps[[1]]), type=\"h\",col=\"gray\")\n",
    "\n",
    "# Add a legend\n",
    "legend(\"topright\", legend=c(\"Basis 1\", \"Basis 2\", \"Basis 3\", \"Basis 4\", \"Basis 5\"), col=c('red', 'blue', 'green', 'purple', 'orange'), lty=1)"
   ]
  },
  {
   "cell_type": "code",
   "execution_count": 83,
   "metadata": {
    "vscode": {
     "languageId": "r"
    }
   },
   "outputs": [
    {
     "name": "stdout",
     "output_type": "stream",
     "text": [
      "              [,1]\n",
      "  [1,]  1.35796254\n",
      "  [2,]  1.29790945\n",
      "  [3,]  1.23773675\n",
      "  [4,]  1.17748471\n",
      "  [5,]  1.11719360\n",
      "  [6,]  1.05690368\n",
      "  [7,]  0.99665524\n",
      "  [8,]  0.93648854\n",
      "  [9,]  0.87644385\n",
      " [10,]  0.81656145\n",
      " [11,]  0.75688160\n",
      " [12,]  0.69744457\n",
      " [13,]  0.63829064\n",
      " [14,]  0.57946008\n",
      " [15,]  0.52099316\n",
      " [16,]  0.46293014\n",
      " [17,]  0.40531130\n",
      " [18,]  0.34817692\n",
      " [19,]  0.29156725\n",
      " [20,]  0.23552257\n",
      " [21,]  0.18008316\n",
      " [22,]  0.12528928\n",
      " [23,]  0.07118121\n",
      " [24,]  0.01779921\n",
      " [25,] -0.03481644\n",
      " [26,] -0.08662548\n",
      " [27,] -0.13758763\n",
      " [28,] -0.18766262\n",
      " [29,] -0.23681018\n",
      " [30,] -0.28499004\n",
      " [31,] -0.33216193\n",
      " [32,] -0.37828558\n",
      " [33,] -0.42332071\n",
      " [34,] -0.46722706\n",
      " [35,] -0.50995269\n",
      " [36,] -0.55139894\n",
      " [37,] -0.59145550\n",
      " [38,] -0.63001206\n",
      " [39,] -0.66695831\n",
      " [40,] -0.70218391\n",
      " [41,] -0.73557857\n",
      " [42,] -0.76703195\n",
      " [43,] -0.79643375\n",
      " [44,] -0.82367365\n",
      " [45,] -0.84864133\n",
      " [46,] -0.87122648\n",
      " [47,] -0.89131877\n",
      " [48,] -0.90880790\n",
      " [49,] -0.92358355\n",
      " [50,] -0.93553540\n",
      " [51,] -0.94455313\n",
      " [52,] -0.95052643\n",
      " [53,] -0.95334498\n",
      " [54,] -0.95289847\n",
      " [55,] -0.94907658\n",
      " [56,] -0.94176899\n",
      " [57,] -0.93086539\n",
      " [58,] -0.91625545\n",
      " [59,] -0.89782887\n",
      " [60,] -0.87547533\n",
      " [61,] -0.84908451\n",
      " [62,] -0.81854610\n",
      " [63,] -0.78374977\n",
      " [64,] -0.74458522\n",
      " [65,] -0.70094212\n",
      " [66,] -0.65271016\n",
      " [67,] -0.59977902\n",
      " [68,] -0.54214516\n",
      " [69,] -0.48023209\n",
      " [70,] -0.41457009\n",
      " [71,] -0.34568945\n",
      " [72,] -0.27412045\n",
      " [73,] -0.20039338\n",
      " [74,] -0.12503851\n",
      " [75,] -0.04858613\n",
      " [76,]  0.02843347\n",
      " [77,]  0.10549001\n",
      " [78,]  0.18205322\n",
      " [79,]  0.25759279\n",
      " [80,]  0.33157846\n",
      " [81,]  0.40347994\n",
      " [82,]  0.47276695\n",
      " [83,]  0.53890919\n",
      " [84,]  0.60137640\n",
      " [85,]  0.65963827\n",
      " [86,]  0.71316454\n",
      " [87,]  0.76142492\n",
      " [88,]  0.80388912\n",
      " [89,]  0.84002687\n",
      " [90,]  0.86930787\n",
      " [91,]  0.89120184\n",
      " [92,]  0.90517851\n",
      " [93,]  0.91070758\n",
      " [94,]  0.90725878\n",
      " [95,]  0.89430182\n",
      " [96,]  0.87130641\n",
      " [97,]  0.83774228\n",
      " [98,]  0.79307914\n",
      " [99,]  0.73678670\n",
      "[100,]  0.66833469\n"
     ]
    }
   ],
   "source": [
    "# transpose mat_full$Coef\n",
    "print(mat_full$Coef[[1]])\n"
   ]
  },
  {
   "cell_type": "code",
   "execution_count": 30,
   "metadata": {
    "vscode": {
     "languageId": "r"
    }
   },
   "outputs": [
    {
     "data": {
      "image/png": "[encoded data removed]",
      "text/plain": [
       "Plot with title \"varphi =  1\""
      ]
     },
     "metadata": {
      "image/png": {
       "height": 420,
       "width": 420
      }
     },
     "output_type": "display_data"
    }
   ],
   "source": [
    "\n",
    "\n",
    "# plot this coefficients curves\n",
    "colors <- rainbow(length(lambda))  # Generate a color palette with as many colors as there are lambda values\n",
    "\n",
    "  par(mfrow=c(3,2))  # Arrange the plots in a 3x2 grid\n",
    "  for (j in 1:predictors) {\n",
    "    y_values = beta_funcs[[j]](tps[[j]])\n",
    "    plot(tps[[j]], y_values, type=\"h\",col=\"gray\",lwd=5,ylim=range(y_values),  xlab=\"t\", ylab=paste(\"beta[\", j, \"](t)\"), bty=\"n\")\n",
    "\n",
    "    lines(tps[[j]], mat_full$Coef[[j]],lty=2, col=colors[1])\n",
    "    legend(\"topright\", legend=paste(\"lambda =\", lambda[best_lambda]), col=colors, lty=2, cex=0.8)\n",
    "\n",
    "    title(paste(\"varphi = \", phi[best_phi]))\n",
    "  }\n"
   ]
  },
  {
   "cell_type": "code",
   "execution_count": 9,
   "metadata": {
    "vscode": {
     "languageId": "r"
    }
   },
   "outputs": [
    {
     "name": "stdout",
     "output_type": "stream",
     "text": [
      "Setting update.every = length(lambda) + 1\n",
      "Lambda: 1e+05  nr.var: 1 \n",
      "Lambda: 10000  nr.var: 1 \n",
      "Lambda: 1000  nr.var: 1 \n",
      "Lambda: 100  nr.var: 19 \n",
      "Lambda: 10  nr.var: 19 \n",
      "Lambda: 1  nr.var: 37 \n",
      "Lambda: 0.1  nr.var: 37 \n"
     ]
    },
    {
     "name": "stderr",
     "output_type": "stream",
     "text": [
      "Warning message in grplasso.default(x = Z, y = Y, index = index, model = LinReg(), :\n",
      "\"Maximal number of iterations reached for lambda[8]\"\n"
     ]
    },
    {
     "name": "stdout",
     "output_type": "stream",
     "text": [
      "Lambda: 0.01  nr.var: 37 \n"
     ]
    },
    {
     "name": "stderr",
     "output_type": "stream",
     "text": [
      "Warning message in grplasso.default(x = Z, y = Y, index = index, model = LinReg(), :\n",
      "\"Maximal number of iterations reached for lambda[9]\"\n"
     ]
    },
    {
     "name": "stdout",
     "output_type": "stream",
     "text": [
      "Lambda: 0.001  nr.var: 37 \n"
     ]
    },
    {
     "name": "stderr",
     "output_type": "stream",
     "text": [
      "Warning message in grplasso.default(x = Z, y = Y, index = index, model = LinReg(), :\n",
      "\"Maximal number of iterations reached for lambda[10]\"\n"
     ]
    },
    {
     "name": "stdout",
     "output_type": "stream",
     "text": [
      "Lambda: 1e-04  nr.var: 37 \n"
     ]
    },
    {
     "name": "stderr",
     "output_type": "stream",
     "text": [
      "Warning message in grplasso.default(x = Z, y = Y, index = index, model = LinReg(), :\n",
      "\"Maximal number of iterations reached for lambda[11]\"\n"
     ]
    },
    {
     "name": "stdout",
     "output_type": "stream",
     "text": [
      "Lambda: 1e-05  nr.var: 37 \n"
     ]
    },
    {
     "name": "stderr",
     "output_type": "stream",
     "text": [
      "Warning message in grplasso.default(x = Z, y = Y, index = index, model = LinReg(), :\n",
      "\"Maximal number of iterations reached for lambda[12]\"\n"
     ]
    },
    {
     "name": "stdout",
     "output_type": "stream",
     "text": [
      "Lambda: 1e-06  nr.var: 37 \n"
     ]
    },
    {
     "name": "stderr",
     "output_type": "stream",
     "text": [
      "Warning message in grplasso.default(x = Z, y = Y, index = index, model = LinReg(), :\n",
      "\"Maximal number of iterations reached for lambda[13]\"\n"
     ]
    },
    {
     "name": "stdout",
     "output_type": "stream",
     "text": [
      "Lambda: 1e-07  nr.var: 37 \n"
     ]
    },
    {
     "name": "stderr",
     "output_type": "stream",
     "text": [
      "Warning message in grplasso.default(x = Z, y = Y, index = index, model = LinReg(), :\n",
      "\"Maximal number of iterations reached for lambda[14]\"\n"
     ]
    },
    {
     "name": "stdout",
     "output_type": "stream",
     "text": [
      "Lambda: 1e-08  nr.var: 37 \n",
      "Setting update.every = length(lambda) + 1\n",
      "Lambda: 1e+05  nr.var: 1 \n",
      "Lambda: 10000  nr.var: 1 \n",
      "Lambda: 1000  nr.var: 1 \n",
      "Lambda: 100  nr.var: 19 \n",
      "Lambda: 10  nr.var: 19 \n",
      "Lambda: 1  nr.var: 37 \n"
     ]
    },
    {
     "name": "stderr",
     "output_type": "stream",
     "text": [
      "Warning message in grplasso.default(x = Z, y = Y, index = index, model = LinReg(), :\n",
      "\"Maximal number of iterations reached for lambda[7]\"\n"
     ]
    },
    {
     "name": "stdout",
     "output_type": "stream",
     "text": [
      "Lambda: 0.1  nr.var: 37 \n"
     ]
    },
    {
     "name": "stderr",
     "output_type": "stream",
     "text": [
      "Warning message in grplasso.default(x = Z, y = Y, index = index, model = LinReg(), :\n",
      "\"Maximal number of iterations reached for lambda[8]\"\n"
     ]
    },
    {
     "name": "stdout",
     "output_type": "stream",
     "text": [
      "Lambda: 0.01  nr.var: 37 \n"
     ]
    },
    {
     "name": "stderr",
     "output_type": "stream",
     "text": [
      "Warning message in grplasso.default(x = Z, y = Y, index = index, model = LinReg(), :\n",
      "\"Maximal number of iterations reached for lambda[9]\"\n"
     ]
    },
    {
     "name": "stdout",
     "output_type": "stream",
     "text": [
      "Lambda: 0.001  nr.var: 37 \n"
     ]
    },
    {
     "name": "stderr",
     "output_type": "stream",
     "text": [
      "Warning message in grplasso.default(x = Z, y = Y, index = index, model = LinReg(), :\n",
      "\"Maximal number of iterations reached for lambda[10]\"\n"
     ]
    },
    {
     "name": "stdout",
     "output_type": "stream",
     "text": [
      "Lambda: 1e-04  nr.var: 37 \n"
     ]
    },
    {
     "name": "stderr",
     "output_type": "stream",
     "text": [
      "Warning message in grplasso.default(x = Z, y = Y, index = index, model = LinReg(), :\n",
      "\"Maximal number of iterations reached for lambda[11]\"\n"
     ]
    },
    {
     "name": "stdout",
     "output_type": "stream",
     "text": [
      "Lambda: 1e-05  nr.var: 37 \n"
     ]
    },
    {
     "name": "stderr",
     "output_type": "stream",
     "text": [
      "Warning message in grplasso.default(x = Z, y = Y, index = index, model = LinReg(), :\n",
      "\"Maximal number of iterations reached for lambda[12]\"\n"
     ]
    },
    {
     "name": "stdout",
     "output_type": "stream",
     "text": [
      "Lambda: 1e-06  nr.var: 37 \n"
     ]
    },
    {
     "name": "stderr",
     "output_type": "stream",
     "text": [
      "Warning message in grplasso.default(x = Z, y = Y, index = index, model = LinReg(), :\n",
      "\"Maximal number of iterations reached for lambda[13]\"\n"
     ]
    },
    {
     "name": "stdout",
     "output_type": "stream",
     "text": [
      "Lambda: 1e-07  nr.var: 37 \n"
     ]
    },
    {
     "name": "stderr",
     "output_type": "stream",
     "text": [
      "Warning message in grplasso.default(x = Z, y = Y, index = index, model = LinReg(), :\n",
      "\"Maximal number of iterations reached for lambda[14]\"\n"
     ]
    },
    {
     "name": "stdout",
     "output_type": "stream",
     "text": [
      "Lambda: 1e-08  nr.var: 37 \n",
      "Setting update.every = length(lambda) + 1\n",
      "Lambda: 1e+05  nr.var: 1 \n",
      "Lambda: 10000  nr.var: 1 \n",
      "Lambda: 1000  nr.var: 1 \n",
      "Lambda: 100  nr.var: 19 \n",
      "Lambda: 10  nr.var: 19 \n",
      "Lambda: 1  nr.var: 37 \n",
      "Lambda: 0.1  nr.var: 37 \n"
     ]
    },
    {
     "name": "stderr",
     "output_type": "stream",
     "text": [
      "Warning message in grplasso.default(x = Z, y = Y, index = index, model = LinReg(), :\n",
      "\"Maximal number of iterations reached for lambda[8]\"\n"
     ]
    },
    {
     "name": "stdout",
     "output_type": "stream",
     "text": [
      "Lambda: 0.01  nr.var: 37 \n"
     ]
    },
    {
     "name": "stderr",
     "output_type": "stream",
     "text": [
      "Warning message in grplasso.default(x = Z, y = Y, index = index, model = LinReg(), :\n",
      "\"Maximal number of iterations reached for lambda[9]\"\n"
     ]
    },
    {
     "name": "stdout",
     "output_type": "stream",
     "text": [
      "Lambda: 0.001  nr.var: 37 \n"
     ]
    },
    {
     "name": "stderr",
     "output_type": "stream",
     "text": [
      "Warning message in grplasso.default(x = Z, y = Y, index = index, model = LinReg(), :\n",
      "\"Maximal number of iterations reached for lambda[10]\"\n"
     ]
    },
    {
     "name": "stdout",
     "output_type": "stream",
     "text": [
      "Lambda: 1e-04  nr.var: 37 \n"
     ]
    },
    {
     "name": "stderr",
     "output_type": "stream",
     "text": [
      "Warning message in grplasso.default(x = Z, y = Y, index = index, model = LinReg(), :\n",
      "\"Maximal number of iterations reached for lambda[11]\"\n"
     ]
    },
    {
     "name": "stdout",
     "output_type": "stream",
     "text": [
      "Lambda: 1e-05  nr.var: 37 \n"
     ]
    },
    {
     "name": "stderr",
     "output_type": "stream",
     "text": [
      "Warning message in grplasso.default(x = Z, y = Y, index = index, model = LinReg(), :\n",
      "\"Maximal number of iterations reached for lambda[12]\"\n"
     ]
    },
    {
     "name": "stdout",
     "output_type": "stream",
     "text": [
      "Lambda: 1e-06  nr.var: 37 \n"
     ]
    },
    {
     "name": "stderr",
     "output_type": "stream",
     "text": [
      "Warning message in grplasso.default(x = Z, y = Y, index = index, model = LinReg(), :\n",
      "\"Maximal number of iterations reached for lambda[13]\"\n"
     ]
    },
    {
     "name": "stdout",
     "output_type": "stream",
     "text": [
      "Lambda: 1e-07  nr.var: 37 \n"
     ]
    },
    {
     "name": "stderr",
     "output_type": "stream",
     "text": [
      "Warning message in grplasso.default(x = Z, y = Y, index = index, model = LinReg(), :\n",
      "\"Maximal number of iterations reached for lambda[14]\"\n"
     ]
    },
    {
     "name": "stdout",
     "output_type": "stream",
     "text": [
      "Lambda: 1e-08  nr.var: 37 \n",
      "Setting update.every = length(lambda) + 1\n",
      "Lambda: 1e+05  nr.var: 1 \n",
      "Lambda: 10000  nr.var: 1 \n",
      "Lambda: 1000  nr.var: 1 \n",
      "Lambda: 100  nr.var: 19 \n",
      "Lambda: 10  nr.var: 19 \n",
      "Lambda: 1  nr.var: 37 \n"
     ]
    },
    {
     "name": "stderr",
     "output_type": "stream",
     "text": [
      "Warning message in grplasso.default(x = Z, y = Y, index = index, model = LinReg(), :\n",
      "\"Maximal number of iterations reached for lambda[7]\"\n"
     ]
    },
    {
     "name": "stdout",
     "output_type": "stream",
     "text": [
      "Lambda: 0.1  nr.var: 37 \n"
     ]
    },
    {
     "name": "stderr",
     "output_type": "stream",
     "text": [
      "Warning message in grplasso.default(x = Z, y = Y, index = index, model = LinReg(), :\n",
      "\"Maximal number of iterations reached for lambda[8]\"\n"
     ]
    },
    {
     "name": "stdout",
     "output_type": "stream",
     "text": [
      "Lambda: 0.01  nr.var: 37 \n"
     ]
    },
    {
     "name": "stderr",
     "output_type": "stream",
     "text": [
      "Warning message in grplasso.default(x = Z, y = Y, index = index, model = LinReg(), :\n",
      "\"Maximal number of iterations reached for lambda[9]\"\n"
     ]
    },
    {
     "name": "stdout",
     "output_type": "stream",
     "text": [
      "Lambda: 0.001  nr.var: 37 \n"
     ]
    },
    {
     "name": "stderr",
     "output_type": "stream",
     "text": [
      "Warning message in grplasso.default(x = Z, y = Y, index = index, model = LinReg(), :\n",
      "\"Maximal number of iterations reached for lambda[10]\"\n"
     ]
    },
    {
     "name": "stdout",
     "output_type": "stream",
     "text": [
      "Lambda: 1e-04  nr.var: 37 \n"
     ]
    },
    {
     "name": "stderr",
     "output_type": "stream",
     "text": [
      "Warning message in grplasso.default(x = Z, y = Y, index = index, model = LinReg(), :\n",
      "\"Maximal number of iterations reached for lambda[11]\"\n"
     ]
    },
    {
     "name": "stdout",
     "output_type": "stream",
     "text": [
      "Lambda: 1e-05  nr.var: 37 \n"
     ]
    },
    {
     "name": "stderr",
     "output_type": "stream",
     "text": [
      "Warning message in grplasso.default(x = Z, y = Y, index = index, model = LinReg(), :\n",
      "\"Maximal number of iterations reached for lambda[12]\"\n"
     ]
    },
    {
     "name": "stdout",
     "output_type": "stream",
     "text": [
      "Lambda: 1e-06  nr.var: 37 \n"
     ]
    },
    {
     "name": "stderr",
     "output_type": "stream",
     "text": [
      "Warning message in grplasso.default(x = Z, y = Y, index = index, model = LinReg(), :\n",
      "\"Maximal number of iterations reached for lambda[13]\"\n"
     ]
    },
    {
     "name": "stdout",
     "output_type": "stream",
     "text": [
      "Lambda: 1e-07  nr.var: 37 \n",
      "Lambda: 1e-08  nr.var: 37 \n",
      "Setting update.every = length(lambda) + 1\n",
      "Lambda: 1e+05  nr.var: 1 \n",
      "Lambda: 10000  nr.var: 1 \n",
      "Lambda: 1000  nr.var: 1 \n",
      "Lambda: 100  nr.var: 19 \n",
      "Lambda: 10  nr.var: 19 \n",
      "Lambda: 1  nr.var: 37 \n",
      "Lambda: 0.1  nr.var: 37 \n",
      "Lambda: 0.01  nr.var: 37 \n",
      "Lambda: 0.001  nr.var: 37 \n",
      "Lambda: 1e-04  nr.var: 37 \n",
      "Lambda: 1e-05  nr.var: 37 \n",
      "Lambda: 1e-06  nr.var: 37 \n",
      "Lambda: 1e-07  nr.var: 37 \n",
      "Lambda: 1e-08  nr.var: 37 \n",
      "[1] \"phi: 1e+05 lambda: 1e+05\"\n",
      "     [,1] [,2] [,3] [,4] [,5] [,6]\n",
      "[1,]    0    0    0    0    0    0\n",
      "[2,]    0    0    0    0    0    0\n",
      "[3,]    0    0    0    0    0    0\n",
      "[4,]    0    0    0    0    0    0\n",
      "[5,]    0    0    0    0    0    0\n",
      "[6,]    0    0    0    0    0    0\n",
      "[1] \"phi: 1e+05 lambda: 10000\"\n",
      "     [,1] [,2] [,3] [,4] [,5] [,6]\n",
      "[1,]    0    0    0    0    0    0\n",
      "[2,]    0    0    0    0    0    0\n",
      "[3,]    0    0    0    0    0    0\n",
      "[4,]    0    0    0    0    0    0\n",
      "[5,]    0    0    0    0    0    0\n",
      "[6,]    0    0    0    0    0    0\n",
      "[1] \"phi: 1e+05 lambda: 1000\"\n",
      "     [,1] [,2] [,3] [,4] [,5] [,6]\n",
      "[1,]    0    0    0    0    0    0\n",
      "[2,]    0    0    0    0    0    0\n",
      "[3,]    0    0    0    0    0    0\n",
      "[4,]    0    0    0    0    0    0\n",
      "[5,]    0    0    0    0    0    0\n",
      "[6,]    0    0    0    0    0    0\n",
      "[1] \"phi: 1e+05 lambda: 100\"\n",
      "     [,1] [,2] [,3] [,4] [,5] [,6]\n",
      "[1,]    0    0    0    0    0    0\n",
      "[2,]    0    0    0    0    0    0\n",
      "[3,]    0    0    0    0    0    0\n",
      "[4,]    0    0    0    0    0    0\n",
      "[5,]    0    0    0    0    0    0\n",
      "[6,]    0    0    0    0    0    0\n",
      "[1] \"phi: 1e+05 lambda: 10\"\n",
      "     [,1] [,2] [,3] [,4] [,5] [,6]\n",
      "[1,]    0    0    0    0    0    0\n",
      "[2,]    0    0    0    0    0    0\n",
      "[3,]    0    0    0    0    0    0\n",
      "[4,]    0    0    0    0    0    0\n",
      "[5,]    0    0    0    0    0    0\n",
      "[6,]    0    0    0    0    0    0\n",
      "[1] \"phi: 1e+05 lambda: 1\"\n",
      "             [,1]         [,2]         [,3]         [,4]         [,5]\n",
      "[1,] 0.0005384567 0.0005494701 0.0005604838 0.0005714978 0.0005825120\n",
      "[2,] 0.0006045409 0.0006155556 0.0006265703 0.0006375850 0.0006485997\n",
      "[3,] 0.0006706290 0.0006816434 0.0006926577 0.0007036719 0.0007146860\n",
      "[4,] 0.0007367139 0.0007477278 0.0007587416 0.0007697555 0.0007807693\n",
      "[5,] 0.0008027970 0.0008138109 0.0008248249 0.0008358389 0.0008468529\n",
      "[6,] 0.0008688811 0.0008798952 0.0008909093 0.0009019235 0.0009129377\n",
      "             [,6]\n",
      "[1,] 0.0005935264\n",
      "[2,] 0.0006596144\n",
      "[3,] 0.0007257000\n",
      "[4,] 0.0007917831\n",
      "[5,] 0.0008578670\n",
      "[6,] 0.0009239518\n",
      "[1] \"phi: 1e+05 lambda: 0.1\"\n",
      "             [,1]         [,2]         [,3]         [,4]         [,5]\n",
      "[1,] 0.0006466417 0.0006601906 0.0006737438 0.0006873008 0.0007008610\n",
      "[2,] 0.0007279888 0.0007415552 0.0007551226 0.0007686903 0.0007822578\n",
      "[3,] 0.0008093899 0.0008229534 0.0008365150 0.0008500750 0.0008636334\n",
      "[4,] 0.0008907470 0.0009043026 0.0009178576 0.0009314123 0.0009449670\n",
      "[5,] 0.0009720771 0.0009856330 0.0009991896 0.0010127468 0.0010263046\n",
      "[6,] 0.0010534216 0.0010669806 0.0010805399 0.0010940994 0.0011076590\n",
      "             [,6]\n",
      "[1,] 0.0007144239\n",
      "[2,] 0.0007958246\n",
      "[3,] 0.0008771907\n",
      "[4,] 0.0009585219\n",
      "[5,] 0.0010398629\n",
      "[6,] 0.0011212187\n",
      "[1] \"phi: 1e+05 lambda: 0.01\"\n",
      "             [,1]         [,2]         [,3]         [,4]         [,5]\n",
      "[1,] 0.0002987588 0.0003334964 0.0003685889 0.0004039896 0.0004396520\n",
      "[2,] 0.0005115760 0.0005477445 0.0005839887 0.0006202620 0.0006565179\n",
      "[3,] 0.0007287915 0.0007647208 0.0008004956 0.0008361347 0.0008716567\n",
      "[4,] 0.0009424243 0.0009777074 0.0010129483 0.0010481657 0.0010833785\n",
      "[5,] 0.0011538647 0.0011891751 0.0012245428 0.0012599623 0.0012954276\n",
      "[6,] 0.0013664715 0.0014020380 0.0014376263 0.0014732303 0.0015088441\n",
      "             [,6]\n",
      "[1,] 0.0004755297\n",
      "[2,] 0.0006927099\n",
      "[3,] 0.0009070803\n",
      "[4,] 0.0011186052\n",
      "[5,] 0.0013309327\n",
      "[6,] 0.0015444615\n",
      "[1] \"phi: 1e+05 lambda: 0.001\"\n",
      "              [,1]          [,2]          [,3]          [,4]          [,5]\n",
      "[1,] -3.509248e-04 -0.0002857963 -0.0002197724 -0.0001529704 -8.550769e-05\n",
      "[2,]  5.092987e-05  0.0001196699  0.0001886010  0.0002576055  3.265662e-04\n",
      "[3,]  4.638863e-04  0.0005320224  0.0005997690  0.0006671727  7.342809e-04\n",
      "[4,]  8.678000e-04  0.0009343053  0.0010007041  0.0010670438  1.133372e-03\n",
      "[5,]  1.266180e-03  0.0013327547  0.0013994736  0.0014663232  1.533288e-03\n",
      "[6,]  1.667505e-03  0.0017347256  0.0018020012  0.0018693165  1.936656e-03\n",
      "              [,6]\n",
      "[1,] -1.750181e-05\n",
      "[2,]  3.953656e-04\n",
      "[3,]  8.011409e-04\n",
      "[4,]  1.199735e-03\n",
      "[5,]  1.600354e-03\n",
      "[6,]  2.004005e-03\n",
      "[1] \"phi: 1e+05 lambda: 1e-04\"\n",
      "              [,1]          [,2]          [,3]          [,4]          [,5]\n",
      "[1,] -0.0010340280 -0.0009386583 -0.0008418459 -0.0007437799 -6.446495e-04\n",
      "[2,] -0.0004439522 -0.0003427637 -0.0002412675 -0.0001396529 -3.810892e-05\n",
      "[3,]  0.0001640101  0.0002642255  0.0003638131  0.0004628484  5.614076e-04\n",
      "[4,]  0.0007574022  0.0008549898  0.0009524060  0.0010497267  1.147028e-03\n",
      "[5,]  0.0013418780  0.0014395765  0.0015375080  0.0016356501  1.733978e-03\n",
      "[6,]  0.0019310951  0.0020298348  0.0021286627  0.0022275544  2.326485e-03\n",
      "              [,6]\n",
      "[1,] -5.446438e-04\n",
      "[2,]  6.317513e-05\n",
      "[3,]  6.595668e-04\n",
      "[4,]  1.244387e-03\n",
      "[5,]  1.832468e-03\n",
      "[6,]  2.425431e-03\n",
      "[1] \"phi: 1e+05 lambda: 1e-05\"\n",
      "              [,1]          [,2]          [,3]          [,4]          [,5]\n",
      "[1,] -0.0017034057 -1.578529e-03 -0.0014516743 -0.0013231016 -0.0011930701\n",
      "[2,] -0.0009296676 -7.968152e-04 -0.0006635412 -0.0005301049 -0.0003967655\n",
      "[3,] -0.0001314146  1.037062e-07  0.0001307616  0.0002606625  0.0003899107\n",
      "[4,]  0.0006468666  7.747830e-04  0.0009024642  0.0010300145  0.0011575384\n",
      "[5,]  0.0014129243  1.540992e-03  0.0016693792  0.0017980547  0.0019269851\n",
      "[6,]  0.0021854767  2.314971e-03  0.0024445857  0.0025742878  0.0027040436\n",
      "              [,6]\n",
      "[1,] -0.0010618390\n",
      "[2,] -0.0002637823\n",
      "[3,]  0.0005186106\n",
      "[4,]  0.0012851403\n",
      "[5,]  0.0020561370\n",
      "[6,]  0.0028338196\n",
      "[1] \"phi: 1e+05 lambda: 1e-06\"\n",
      "              [,1]          [,2]          [,3]          [,4]          [,5]\n",
      "[1,] -0.0023550420 -0.0022014382 -0.0020453363 -1.887064e-03 -0.0017269489\n",
      "[2,] -0.0014025001 -0.0012388216 -0.0010746105 -9.101944e-04 -0.0007459007\n",
      "[3,] -0.0004189912 -0.0002569981 -0.0000960921  6.385754e-05  0.0002229826\n",
      "[4,]  0.0005392865  0.0006967289  0.0008538741  1.010854e-03  0.0011678001\n",
      "[5,]  0.0014821192  0.0016397521  0.0017977880  1.956188e-03  0.0021149103\n",
      "[6,]  0.0024331507  0.0025925843  0.0027521702  2.911866e-03  0.0030716296\n",
      "              [,6]\n",
      "[1,] -0.0015653183\n",
      "[2,] -0.0005820571\n",
      "[3,]  0.0003814150\n",
      "[4,]  0.0013248446\n",
      "[5,]  0.0022739120\n",
      "[6,]  0.0032314183\n",
      "[1] \"phi: 1e+05 lambda: 1e-07\"\n",
      "              [,1]          [,2]          [,3]          [,4]          [,5]\n",
      "[1,] -0.0029889963 -0.0028074336 -0.0026228663 -0.0024356885 -2.246294e-03\n",
      "[2,] -0.0018624315 -0.0016687513 -0.0014744306 -0.0012798632 -1.085443e-03\n",
      "[3,] -0.0006986216 -0.0005069690 -0.0003166239 -0.0001274292  6.077356e-05\n",
      "[4,]  0.0004348378  0.0006210163  0.0008068372  0.0009924590  1.178040e-03\n",
      "[5,]  0.0015497155  0.0017361221  0.0019230133  0.0021103425  2.298059e-03\n",
      "[6,]  0.0026744477  0.0028630187  0.0030517728  0.0032406589  3.429626e-03\n",
      "              [,6]\n",
      "[1,] -0.0020550771\n",
      "[2,] -0.0008915647\n",
      "[3,]  0.0002481431\n",
      "[4,]  0.0013637396\n",
      "[5,]  0.0024861106\n",
      "[6,]  0.0036186233\n",
      "[1] \"phi: 1e+05 lambda: 1e-08\"\n",
      "             [,1]          [,2]          [,3]          [,4]          [,5]\n",
      "[1,] -0.003605686 -0.0033969137 -0.0031846437 -0.0029693349 -2.751446e-03\n",
      "[2,] -0.002309762 -0.0020868842 -0.0018632608 -0.0016393505 -1.415612e-03\n",
      "[3,] -0.000970484 -0.0007499668 -0.0005309719 -0.0003133161 -9.681511e-05\n",
      "[4,]  0.000333461  0.0005476053  0.0007613330  0.0009748288  1.188277e-03\n",
      "[5,]  0.001615770  0.0018301788  0.0020451511  0.0022606330  2.476565e-03\n",
      "[6,]  0.002909542  0.0031264686  0.0033436078  0.0035609003  3.778287e-03\n",
      "              [,6]\n",
      "[1,] -0.0025314353\n",
      "[2,] -0.0011925034\n",
      "[3,]  0.0001187158\n",
      "[4,]  0.0014018629\n",
      "[5,]  0.0026928879\n",
      "[6,]  0.0039957081\n",
      "[1] \"phi: 316.227766016838 lambda: 1e+05\"\n",
      "     [,1] [,2] [,3] [,4] [,5] [,6]\n",
      "[1,]    0    0    0    0    0    0\n",
      "[2,]    0    0    0    0    0    0\n",
      "[3,]    0    0    0    0    0    0\n",
      "[4,]    0    0    0    0    0    0\n",
      "[5,]    0    0    0    0    0    0\n",
      "[6,]    0    0    0    0    0    0\n",
      "[1] \"phi: 316.227766016838 lambda: 10000\"\n",
      "     [,1] [,2] [,3] [,4] [,5] [,6]\n",
      "[1,]    0    0    0    0    0    0\n",
      "[2,]    0    0    0    0    0    0\n",
      "[3,]    0    0    0    0    0    0\n",
      "[4,]    0    0    0    0    0    0\n",
      "[5,]    0    0    0    0    0    0\n",
      "[6,]    0    0    0    0    0    0\n",
      "[1] \"phi: 316.227766016838 lambda: 1000\"\n",
      "     [,1] [,2] [,3] [,4] [,5] [,6]\n",
      "[1,]    0    0    0    0    0    0\n",
      "[2,]    0    0    0    0    0    0\n",
      "[3,]    0    0    0    0    0    0\n",
      "[4,]    0    0    0    0    0    0\n",
      "[5,]    0    0    0    0    0    0\n",
      "[6,]    0    0    0    0    0    0\n",
      "[1] \"phi: 316.227766016838 lambda: 100\"\n",
      "     [,1] [,2] [,3] [,4] [,5] [,6]\n",
      "[1,]    0    0    0    0    0    0\n",
      "[2,]    0    0    0    0    0    0\n",
      "[3,]    0    0    0    0    0    0\n",
      "[4,]    0    0    0    0    0    0\n",
      "[5,]    0    0    0    0    0    0\n",
      "[6,]    0    0    0    0    0    0\n",
      "[1] \"phi: 316.227766016838 lambda: 10\"\n",
      "     [,1] [,2] [,3] [,4] [,5] [,6]\n",
      "[1,]    0    0    0    0    0    0\n",
      "[2,]    0    0    0    0    0    0\n",
      "[3,]    0    0    0    0    0    0\n",
      "[4,]    0    0    0    0    0    0\n",
      "[5,]    0    0    0    0    0    0\n",
      "[6,]    0    0    0    0    0    0\n",
      "[1] \"phi: 316.227766016838 lambda: 1\"\n",
      "             [,1]         [,2]         [,3]         [,4]         [,5]\n",
      "[1,] 0.0006198563 0.0006433406 0.0006669592 0.0006906945 0.0007145287\n",
      "[2,] 0.0007624238 0.0007864494 0.0008105037 0.0008345691 0.0008586278\n",
      "[3,] 0.0009066552 0.0009305904 0.0009544671 0.0009782925 0.0010020735\n",
      "[4,] 0.0010495309 0.0010732213 0.0010968957 0.0011205611 0.0011442246\n",
      "[5,] 0.0011915740 0.0012152739 0.0012389953 0.0012627361 0.0012864940\n",
      "[6,] 0.0013340518 0.0013578473 0.0013816507 0.0014054598 0.0014292722\n",
      "             [,6]\n",
      "[1,] 0.0007384443\n",
      "[2,] 0.0008826624\n",
      "[3,] 0.0010258173\n",
      "[4,] 0.0011678932\n",
      "[5,] 0.0013102666\n",
      "[6,] 0.0014530858\n",
      "[1] \"phi: 316.227766016838 lambda: 0.1\"\n",
      "              [,1]          [,2]          [,3]         [,4]         [,5]\n",
      "[1,] -0.0156127217 -1.483370e-02 -0.0140411389 -0.013236810 -0.012422504\n",
      "[2,] -0.0107711024 -9.937578e-03 -0.0091012200 -0.008263813 -0.007427142\n",
      "[3,] -0.0057631552 -4.939235e-03 -0.0041213232 -0.003308726 -0.002500742\n",
      "[4,] -0.0008958148 -9.746943e-05  0.0006990644  0.001494487  0.002289500\n",
      "[5,]  0.0038810959  4.679061e-03  0.0054789280  0.006280476  0.007083464\n",
      "[6,]  0.0086927975  9.498662e-03  0.0103050052  0.011111585  0.011918162\n",
      "             [,6]\n",
      "[1,] -0.011600006\n",
      "[2,] -0.006592995\n",
      "[3,] -0.001696672\n",
      "[4,]  0.003084802\n",
      "[5,]  0.007887651\n",
      "[6,]  0.012724495\n",
      "[1] \"phi: 316.227766016838 lambda: 0.01\"\n",
      "             [,1]          [,2]          [,3]         [,4]         [,5]\n",
      "[1,] -0.019784498 -0.0187945259 -0.0177875880 -0.016765966 -0.015731940\n",
      "[2,] -0.013635806 -0.0125782602 -0.0115174368 -0.010455617 -0.009395083\n",
      "[3,] -0.007286996 -0.0062437896 -0.0052086720 -0.004180848 -0.003159514\n",
      "[4,] -0.001133101 -0.0001264148  0.0008769959  0.001877935  0.002877205\n",
      "[5,]  0.004873956  0.0058730200  0.0068730269  0.007873647  0.008874526\n",
      "[6,]  0.010875646  0.0118751783  0.0128735531  0.013870417  0.014865414\n",
      "             [,6]\n",
      "[1,] -0.014687793\n",
      "[2,] -0.008338116\n",
      "[3,] -0.002143866\n",
      "[4,]  0.003875611\n",
      "[5,]  0.009875311\n",
      "[6,]  0.015858193\n",
      "[1] \"phi: 316.227766016838 lambda: 0.001\"\n",
      "              [,1]          [,2]         [,3]         [,4]         [,5]\n",
      "[1,] -0.0202154985 -0.0191869883 -0.018141240 -0.017080629 -0.016007533\n",
      "[2,] -0.0138333940 -0.0127371036 -0.011637835 -0.010537965 -0.009439870\n",
      "[3,] -0.0072585135 -0.0061797875 -0.005110015 -0.004048488 -0.002994489\n",
      "[4,] -0.0009062083  0.0001295076  0.001160563  0.002187675  0.003211560\n",
      "[5,]  0.0052525177  0.0062710004  0.007288527  0.008304695  0.009319073\n",
      "[6,]  0.0113407531  0.0123471972  0.013350140  0.014349153  0.015343808\n",
      "             [,6]\n",
      "[1,] -0.014924330\n",
      "[2,] -0.008345928\n",
      "[3,] -0.001947302\n",
      "[4,]  0.004232935\n",
      "[5,]  0.010331236\n",
      "[6,]  0.016333676\n",
      "[1] \"phi: 316.227766016838 lambda: 1e-04\"\n",
      "              [,1]          [,2]         [,3]         [,4]         [,5]\n",
      "[1,] -0.0204168948 -0.0193636373 -0.018293127 -0.017207806 -0.016110120\n",
      "[2,] -0.0138874256 -0.0127673048 -0.011644593 -0.010521734 -0.009401173\n",
      "[3,] -0.0071767141 -0.0060774906 -0.004988043 -0.003907774 -0.002836076\n",
      "[4,] -0.0007159678  0.0003336547  0.001377131  0.002415069  0.003448073\n",
      "[5,]  0.0055017082  0.0065235288  0.007542264  0.008557433  0.009568533\n",
      "[6,]  0.0115765113  0.0125723823  0.013562170  0.014545371  0.015521481\n",
      "             [,6]\n",
      "[1,] -0.015002512\n",
      "[2,] -0.008285351\n",
      "[3,] -0.001772342\n",
      "[4,]  0.004476751\n",
      "[5,]  0.010575060\n",
      "[6,]  0.016489998\n",
      "[1] \"phi: 316.227766016838 lambda: 1e-05\"\n",
      "              [,1]         [,2]         [,3]         [,4]         [,5]\n",
      "[1,] -0.0205493242 -0.019475144 -0.018383764 -0.017277685 -0.016159411\n",
      "[2,] -0.0138962855 -0.012756439 -0.011614408 -0.010472692 -0.009333796\n",
      "[3,] -0.0070744716 -0.005958837 -0.004853779 -0.003758813 -0.002673449\n",
      "[4,] -0.0005295587  0.000529949  0.001581820  0.002626546  0.003664618\n",
      "[5,]  0.0057227632  0.006743797  0.007759586  0.008769575  0.009773188\n",
      "[6,]  0.0117589778  0.012740002  0.013712345  0.014675428  0.015628675\n",
      "             [,6]\n",
      "[1,] -0.015031443\n",
      "[2,] -0.008200222\n",
      "[3,] -0.001597194\n",
      "[4,]  0.004696526\n",
      "[5,]  0.010769847\n",
      "[6,]  0.016571511\n",
      "[1] \"phi: 316.227766016838 lambda: 1e-06\"\n",
      "              [,1]          [,2]         [,3]         [,4]         [,5]\n",
      "[1,] -0.0206540543 -0.0195607523 -0.018450342 -0.017325381 -0.016188428\n",
      "[2,] -0.0138887758 -0.0127311925 -0.011571848 -0.010413301 -0.009258109\n",
      "[3,] -0.0069680202 -0.0058380340 -0.004719430 -0.003611847 -0.002514912\n",
      "[4,] -0.0003515107  0.0007156975  0.001773738  0.002822981  0.003863796\n",
      "[5,]  0.0059216282  0.0069393638  0.007949623  0.008951777  0.009945178\n",
      "[6,]  0.0119031223  0.0128663671  0.013818262  0.014758156  0.015685403\n",
      "             [,6]\n",
      "[1,] -0.015042040\n",
      "[2,] -0.008108829\n",
      "[3,] -0.001428257\n",
      "[4,]  0.004896556\n",
      "[5,]  0.010929176\n",
      "[6,]  0.016599351\n",
      "[1] \"phi: 316.227766016838 lambda: 1e-07\"\n",
      "              [,1]          [,2]         [,3]         [,4]         [,5]\n",
      "[1,] -0.0207349902 -0.0196229224 -0.018493859 -0.017350411 -0.016195192\n",
      "[2,] -0.0138598924 -0.0126850360 -0.011508859 -0.010333973 -0.009162991\n",
      "[3,] -0.0068431910 -0.0056993962 -0.004567805 -0.003448180 -0.002340276\n",
      "[4,] -0.0001586518  0.0009155591  0.001979029  0.003032003  0.004074726\n",
      "[5,]  0.0061304005  0.0071438212  0.008147468  0.009140639  0.010122613\n",
      "[6,]  0.0120500818  0.0129941342  0.013924103  0.014839266  0.015738903\n",
      "             [,6]\n",
      "[1,] -0.015030815\n",
      "[2,] -0.007998527\n",
      "[3,] -0.001243849\n",
      "[4,]  0.005107444\n",
      "[5,]  0.011092667\n",
      "[6,]  0.016622291\n",
      "[1] \"phi: 316.227766016838 lambda: 1e-08\"\n",
      "              [,1]         [,2]         [,3]         [,4]         [,5]\n",
      "[1,] -2.081717e-02 -0.019686787 -0.018539529 -0.017378059 -0.016205046\n",
      "[2,] -1.383506e-02 -0.012643410 -0.011450888 -0.010260155 -0.009073877\n",
      "[3,] -6.725356e-03 -0.005568249 -0.004424168 -0.003293002 -0.002174634\n",
      "[4,]  2.418707e-05  0.001104875  0.002173240  0.003229400  0.004273472\n",
      "[5,]  6.325829e-03  0.007334332  0.008330746  0.009314299  0.010284197\n",
      "[6,]  1.217986e-02  0.013104043  0.014011400  0.014901141  0.015772473\n",
      "             [,6]\n",
      "[1,] -0.015023156\n",
      "[2,] -0.007894722\n",
      "[3,] -0.001068943\n",
      "[4,]  0.005305576\n",
      "[5,]  0.011239649\n",
      "[6,]  0.016624603\n",
      "[1] \"phi: 1 lambda: 1e+05\"\n",
      "     [,1] [,2] [,3] [,4] [,5] [,6]\n",
      "[1,]    0    0    0    0    0    0\n",
      "[2,]    0    0    0    0    0    0\n",
      "[3,]    0    0    0    0    0    0\n",
      "[4,]    0    0    0    0    0    0\n",
      "[5,]    0    0    0    0    0    0\n",
      "[6,]    0    0    0    0    0    0\n",
      "[1] \"phi: 1 lambda: 10000\"\n",
      "     [,1] [,2] [,3] [,4] [,5] [,6]\n",
      "[1,]    0    0    0    0    0    0\n",
      "[2,]    0    0    0    0    0    0\n",
      "[3,]    0    0    0    0    0    0\n",
      "[4,]    0    0    0    0    0    0\n",
      "[5,]    0    0    0    0    0    0\n",
      "[6,]    0    0    0    0    0    0\n",
      "[1] \"phi: 1 lambda: 1000\"\n",
      "     [,1] [,2] [,3] [,4] [,5] [,6]\n",
      "[1,]    0    0    0    0    0    0\n",
      "[2,]    0    0    0    0    0    0\n",
      "[3,]    0    0    0    0    0    0\n",
      "[4,]    0    0    0    0    0    0\n",
      "[5,]    0    0    0    0    0    0\n",
      "[6,]    0    0    0    0    0    0\n",
      "[1] \"phi: 1 lambda: 100\"\n",
      "     [,1] [,2] [,3] [,4] [,5] [,6]\n",
      "[1,]    0    0    0    0    0    0\n",
      "[2,]    0    0    0    0    0    0\n",
      "[3,]    0    0    0    0    0    0\n",
      "[4,]    0    0    0    0    0    0\n",
      "[5,]    0    0    0    0    0    0\n",
      "[6,]    0    0    0    0    0    0\n",
      "[1] \"phi: 1 lambda: 10\"\n",
      "     [,1] [,2] [,3] [,4] [,5] [,6]\n",
      "[1,]    0    0    0    0    0    0\n",
      "[2,]    0    0    0    0    0    0\n",
      "[3,]    0    0    0    0    0    0\n",
      "[4,]    0    0    0    0    0    0\n",
      "[5,]    0    0    0    0    0    0\n",
      "[6,]    0    0    0    0    0    0\n",
      "[1] \"phi: 1 lambda: 1\"\n",
      "              [,1]          [,2]          [,3]          [,4]          [,5]\n",
      "[1,] -3.755127e-03 -0.0034600363 -0.0031605302 -0.0028572234 -0.0025507311\n",
      "[2,] -1.930649e-03 -0.0016182893 -0.0013052036 -0.0009920067 -0.0006793138\n",
      "[3,] -5.789913e-05  0.0002496457  0.0005547931  0.0008576788  0.0011584401\n",
      "[4,]  1.754139e-03  0.0020493522  0.0023429905  0.0026351916  0.0029260929\n",
      "[5,]  3.504546e-03  0.0037923677  0.0040793046  0.0043652411  0.0046500562\n",
      "[6,]  5.215838e-03  0.0054965623  0.0057756809  0.0060530726  0.0063286164\n",
      "              [,6]\n",
      "[1,] -0.0022416680\n",
      "[2,] -0.0003677396\n",
      "[3,]  0.0014572145\n",
      "[4,]  0.0032158320\n",
      "[5,]  0.0049336289\n",
      "[6,]  0.0066021911\n",
      "[1] \"phi: 1 lambda: 0.1\"\n",
      "             [,1]         [,2]          [,3]         [,4]         [,5]\n",
      "[1,] -0.035751422 -0.033177468 -0.0305843411 -0.027978686 -0.025367149\n",
      "[2,] -0.020153008 -0.017563695 -0.0149950800 -0.012453809 -0.009946528\n",
      "[3,] -0.005060514 -0.002695097 -0.0003905097  0.001846257  0.004008211\n",
      "[4,]  0.008079720  0.009975293  0.0117680896  0.013451119  0.015017391\n",
      "[5,]  0.017771695  0.018945811  0.0199768227  0.020860784  0.021593812\n",
      "[6,]  0.022591535  0.022848466  0.0229389317  0.022859051  0.022604939\n",
      "             [,6]\n",
      "[1,] -0.022756374\n",
      "[2,] -0.007479881\n",
      "[3,]  0.006088363\n",
      "[4,]  0.016459913\n",
      "[5,]  0.022172023\n",
      "[6,]  0.022172716\n",
      "[1] \"phi: 1 lambda: 0.01\"\n",
      "             [,1]        [,2]        [,3]        [,4]        [,5]         [,6]\n",
      "[1,] -0.089925015 -0.08241370 -0.07486977 -0.06731328 -0.05976431 -0.052242935\n",
      "[2,] -0.044769228 -0.03736326 -0.03004510 -0.02283483 -0.01575252 -0.008818234\n",
      "[3,] -0.002052054  0.00452530  0.01088744  0.01700505  0.02284879  0.028389348\n",
      "[4,]  0.033597375  0.03844354  0.04289851  0.04693296  0.05051754  0.053622932\n",
      "[5,]  0.056219794  0.05827904  0.05977720  0.06069642  0.06101911  0.060727653\n",
      "[6,]  0.059804447  0.05823189  0.05599237  0.05306829  0.04944205  0.045096033\n",
      "[1] \"phi: 1 lambda: 0.001\"\n",
      "              [,1]        [,2]        [,3]        [,4]        [,5]        [,6]\n",
      "[1,] -1.334260e-01 -0.12201651 -0.11055731 -0.09907878 -0.08761125 -0.07618505\n",
      "[2,] -6.483051e-02 -0.05357795 -0.04245773 -0.03150015 -0.02073556 -0.01019429\n",
      "[3,]  9.333502e-05  0.01009579  0.01977115  0.02907217  0.03795153  0.04636193\n",
      "[4,]  5.425607e-02  0.06158664  0.06830633  0.07436783  0.07972385  0.08432707\n",
      "[5,]  8.813020e-02  0.09108613  0.09315272  0.09429276  0.09446926  0.09364523\n",
      "[6,]  9.178366e-02  0.08884757  0.08479997  0.07960386  0.07322224  0.06561813\n",
      "[1] \"phi: 1 lambda: 1e-04\"\n",
      "              [,1]        [,2]        [,3]        [,4]        [,5]        [,6]\n",
      "[1,] -0.1654714907 -0.15130564 -0.13706997 -0.12280165 -0.10853786 -0.09431575\n",
      "[2,] -0.0801725097 -0.06614530 -0.05227129 -0.03858766 -0.02513157 -0.01194020\n",
      "[3,]  0.0009492956  0.01349811  0.02565331  0.03735470  0.04854199  0.05915491\n",
      "[4,]  0.0691332076  0.07841660  0.08694481  0.09465758  0.10149463  0.10739569\n",
      "[5,]  0.1123004881  0.11614875  0.11887998  0.12043349  0.12074858  0.11976453\n",
      "[6,]  0.1174206368  0.11365621  0.10841053  0.10162289  0.09323260  0.08317895\n",
      "[1] \"phi: 1 lambda: 1e-05\"\n",
      "              [,1]        [,2]        [,3]        [,4]        [,5]        [,6]\n",
      "[1,] -0.1886915490 -0.17264740 -0.15651126 -0.14032453 -0.12412859 -0.10796486\n",
      "[2,] -0.0918747395 -0.07589962 -0.06008090 -0.04445999 -0.02907829 -0.01397719\n",
      "[3,]  0.0008019071  0.01521564  0.02920357  0.04269649  0.05562512  0.06792016\n",
      "[4,]  0.0795123299  0.09033234  0.10031089  0.10937872  0.11746651  0.12450500\n",
      "[5,]  0.1304248776  0.13515649  0.13862145  0.14073264  0.14140256  0.14054373\n",
      "[6,]  0.1380686537  0.13388984  0.12791980  0.12007103  0.11025605  0.09838736\n",
      "[1] \"phi: 1 lambda: 1e-06\"\n",
      "              [,1]        [,2]        [,3]        [,4]        [,5]        [,6]\n",
      "[1,] -2.053238e-01 -0.18805355 -0.17066797 -0.15321076 -0.13572562 -0.11825627\n",
      "[2,] -1.008464e-01 -0.08353978 -0.06638006 -0.04941097 -0.03267621 -0.01621951\n",
      "[3,] -8.456708e-05  0.01568269  0.03101700  0.04584316  0.06008590  0.07366993\n",
      "[4,]  8.651996e-02  0.09856072  0.10971691  0.11991327  0.12907449  0.13712530\n",
      "[5,]  1.439904e-01  0.14959371  0.15383931  0.15661165  0.15779432  0.15727088\n",
      "[6,]  1.549249e-01  0.15064001  0.14429973  0.13578765  0.12498735  0.11178241\n",
      "[1] \"phi: 1 lambda: 1e-07\"\n",
      "             [,1]        [,2]        [,3]        [,4]        [,5]        [,6]\n",
      "[1,] -0.217008404 -0.19899776 -0.18084788 -0.16260337 -0.14430885 -0.12600891\n",
      "[2,] -0.107748173 -0.08957124 -0.07152272 -0.05364723 -0.03598936 -0.01859374\n",
      "[3,] -0.001504956  0.01522995  0.03154296  0.04735519  0.06258772  0.07716158\n",
      "[4,]  0.090997842  0.10401755  0.11614175  0.12729151  0.13738787  0.14635189\n",
      "[5,]  0.154104617  0.16056569  0.16562224  0.16912883  0.17093865  0.17090488\n",
      "[6,]  0.168880684  0.16471924  0.15827373  0.14939733  0.13794320  0.12376453\n",
      "[1] \"phi: 1 lambda: 1e-08\"\n",
      "            [,1]        [,2]        [,3]       [,4]        [,5]        [,6]\n",
      "[1,] -0.22496405 -0.20657588 -0.18802450 -0.1693544 -0.15060993 -0.13183569\n",
      "[2,] -0.11307610 -0.09437562 -0.07577873 -0.0573299 -0.03907359 -0.02105426\n",
      "[3,] -0.00331639  0.01409300  0.03110466  0.0476379  0.06361193  0.07894595\n",
      "[4,]  0.09355917  0.10737081  0.12030007  0.1322662  0.14318830  0.15298569\n",
      "[5,]  0.16157755  0.16888104  0.17476669  0.1790583  0.18157771  0.18214670\n",
      "[6,]  0.18058706  0.17672062  0.17036916  0.1613545  0.14949840  0.13462271\n",
      "[1] \"phi: 0.00316227766016838 lambda: 1e+05\"\n",
      "     [,1] [,2] [,3] [,4] [,5] [,6]\n",
      "[1,]    0    0    0    0    0    0\n",
      "[2,]    0    0    0    0    0    0\n",
      "[3,]    0    0    0    0    0    0\n",
      "[4,]    0    0    0    0    0    0\n",
      "[5,]    0    0    0    0    0    0\n",
      "[6,]    0    0    0    0    0    0\n",
      "[1] \"phi: 0.00316227766016838 lambda: 10000\"\n",
      "     [,1] [,2] [,3] [,4] [,5] [,6]\n",
      "[1,]    0    0    0    0    0    0\n",
      "[2,]    0    0    0    0    0    0\n",
      "[3,]    0    0    0    0    0    0\n",
      "[4,]    0    0    0    0    0    0\n",
      "[5,]    0    0    0    0    0    0\n",
      "[6,]    0    0    0    0    0    0\n",
      "[1] \"phi: 0.00316227766016838 lambda: 1000\"\n",
      "     [,1] [,2] [,3] [,4] [,5] [,6]\n",
      "[1,]    0    0    0    0    0    0\n",
      "[2,]    0    0    0    0    0    0\n",
      "[3,]    0    0    0    0    0    0\n",
      "[4,]    0    0    0    0    0    0\n",
      "[5,]    0    0    0    0    0    0\n",
      "[6,]    0    0    0    0    0    0\n",
      "[1] \"phi: 0.00316227766016838 lambda: 100\"\n",
      "     [,1] [,2] [,3] [,4] [,5] [,6]\n",
      "[1,]    0    0    0    0    0    0\n",
      "[2,]    0    0    0    0    0    0\n",
      "[3,]    0    0    0    0    0    0\n",
      "[4,]    0    0    0    0    0    0\n",
      "[5,]    0    0    0    0    0    0\n",
      "[6,]    0    0    0    0    0    0\n",
      "[1] \"phi: 0.00316227766016838 lambda: 10\"\n",
      "     [,1] [,2] [,3] [,4] [,5] [,6]\n",
      "[1,]    0    0    0    0    0    0\n",
      "[2,]    0    0    0    0    0    0\n",
      "[3,]    0    0    0    0    0    0\n",
      "[4,]    0    0    0    0    0    0\n",
      "[5,]    0    0    0    0    0    0\n",
      "[6,]    0    0    0    0    0    0\n",
      "[1] \"phi: 0.00316227766016838 lambda: 1\"\n",
      "             [,1]         [,2]         [,3]         [,4]          [,5]\n",
      "[1,] -0.027972529 -0.026508754 -0.025001090 -0.023451743 -0.0218629184\n",
      "[2,] -0.018575658 -0.016881634 -0.015156954 -0.013403826 -0.0116244533\n",
      "[3,] -0.007995800 -0.006150330 -0.004281005 -0.002381507 -0.0004454943\n",
      "[4,]  0.003561445  0.005645055  0.007790547  0.010004263  0.0122925460\n",
      "[5,]  0.017118177  0.019666429  0.022270109  0.024851887  0.0273326567\n",
      "[6,]  0.031674731  0.033377818  0.034663460  0.035452547  0.0356659725\n",
      "             [,6]\n",
      "[1,] -0.020236821\n",
      "[2,] -0.009821043\n",
      "[3,]  0.001533376\n",
      "[4,]  0.014661737\n",
      "[5,]  0.029633307\n",
      "[6,]  0.035224626\n",
      "[1] \"phi: 0.00316227766016838 lambda: 0.1\"\n",
      "             [,1]         [,2]         [,3]         [,4]         [,5]\n",
      "[1,] -0.286351855 -0.246963359 -0.209536340 -0.174292610 -0.141453978\n",
      "[2,] -0.083879251 -0.059586776 -0.038586640 -0.021100654 -0.007350627\n",
      "[3,]  0.008054305  0.009360821  0.007063465  0.002291298 -0.003823087\n",
      "[4,] -0.015548151 -0.018893649 -0.019051003 -0.014887622 -0.005270917\n",
      "[5,]  0.034852833  0.067550753  0.108374738  0.154965047  0.204887636\n",
      "[6,]  0.304993469  0.350308623  0.389219876  0.419293180  0.438094492\n",
      "             [,6]\n",
      "[1,] -0.111242255\n",
      "[2,]  0.002441629\n",
      "[3,] -0.010147100\n",
      "[4,]  0.010931705\n",
      "[5,]  0.255708458\n",
      "[6,]  0.443189767\n",
      "[1] \"phi: 0.00316227766016838 lambda: 0.01\"\n",
      "             [,1]        [,2]        [,3]         [,4]         [,5]        [,6]\n",
      "[1,] -0.351784892 -0.29739856 -0.24596421 -0.197800365 -0.153225521 -0.11255819\n",
      "[2,] -0.076116871 -0.04422008 -0.01718632  0.004665907  0.021018087  0.03155172\n",
      "[3,]  0.035948287  0.03402203  0.02674247  0.015673989  0.002385883 -0.01155255\n",
      "[4,] -0.024572015 -0.03510321 -0.04157685 -0.042423625 -0.036074244 -0.02095941\n",
      "[5,]  0.004490176  0.04174625  0.09003683  0.146346166  0.207560972  0.27056796\n",
      "[6,]  0.332253833  0.38950531  0.43920909  0.478251888  0.503520415  0.51190138\n",
      "[1] \"phi: 0.00316227766016838 lambda: 0.001\"\n",
      "             [,1]        [,2]         [,3]        [,4]         [,5]\n",
      "[1,] -0.379536741 -0.31869641 -0.261209415 -0.20743440 -0.157729988\n",
      "[2,] -0.071967534 -0.03662676 -0.006791126  0.01718073  0.034930164\n",
      "[3,]  0.050327262  0.04740463  0.038398284  0.02503452  0.009045074\n",
      "[4,] -0.023883843 -0.03735983 -0.046534498 -0.04967611 -0.045052922\n",
      "[5,] -0.005585147  0.03261679  0.082857005  0.14187864  0.206318703\n",
      "[6,]  0.338002125  0.39851949  0.451003307  0.49209057  0.518418283\n",
      "             [,6]\n",
      "[1,] -0.112454823\n",
      "[2,]  0.046098554\n",
      "[3,] -0.007838294\n",
      "[4,] -0.030933183\n",
      "[5,]  0.272814197\n",
      "[6,]  0.526623455\n",
      "[1] \"phi: 0.00316227766016838 lambda: 1e-04\"\n",
      "            [,1]        [,2]         [,3]        [,4]        [,5]         [,6]\n",
      "[1,] -0.39469385 -0.33030535 -0.269496551 -0.21264848 -0.16014217 -0.112358641\n",
      "[2,] -0.06967892 -0.03248403 -0.001155006  0.02392713  0.04238136  0.053826652\n",
      "[3,]  0.05788198  0.05432159  0.044271267  0.02955266  0.01199318 -0.006579768\n",
      "[4,] -0.02433877 -0.03945642 -0.050105315 -0.05445804 -0.05068718 -0.036965344\n",
      "[5,] -0.01146511  0.02752944  0.079170010  0.14004410  0.20662770  0.275396831\n",
      "[6,]  0.34282749  0.40539569  0.459577422  0.50184870  0.52868554  0.536563923\n",
      "[1] \"phi: 0.00316227766016838 lambda: 1e-05\"\n",
      "            [,1]        [,2]        [,3]        [,4]        [,5]         [,6]\n",
      "[1,] -0.40432373 -0.33768304 -0.27477018 -0.21598065 -0.16170995 -0.112353581\n",
      "[2,] -0.06830704 -0.02996584  0.00227453  0.02801857  0.04687076  0.058435626\n",
      "[3,]  0.06231765  0.05828224  0.04749527  0.03184370  0.01322047 -0.006481507\n",
      "[4,] -0.02536930 -0.04154999 -0.05313065 -0.05821834 -0.05492016 -0.041343163\n",
      "[5,] -0.01559443  0.02410370  0.07687792  0.13920393  0.20744221  0.277953179\n",
      "[6,]  0.34709731  0.41123504  0.46672684  0.50993314  0.53721441  0.544931086\n",
      "[1] \"phi: 0.00316227766016838 lambda: 1e-06\"\n",
      "            [,1]        [,2]         [,3]        [,4]        [,5]         [,6]\n",
      "[1,] -0.41083336 -0.34269194 -0.278378626 -0.21829865 -0.16285725 -0.112459675\n",
      "[2,] -0.06751117 -0.02841697  0.004417677  0.03058753  0.04968734  0.061311878\n",
      "[3,]  0.06505589  0.06067893  0.049374901  0.03307622  0.01372142 -0.006750961\n",
      "[4,] -0.02640240 -0.04329437 -0.055488336 -0.06104577 -0.05802813 -0.044496902\n",
      "[5,] -0.01851355  0.02174255  0.075379984  0.13879533  0.20826726  0.280074418\n",
      "[6,]  0.35049548  0.41580910  0.472293945  0.51622868  0.54389195  0.551562438\n",
      "[1] \"phi: 0.00316227766016838 lambda: 1e-07\"\n",
      "            [,1]        [,2]         [,3]        [,4]        [,5]         [,6]\n",
      "[1,] -0.41534095 -0.34618260 -0.280920646 -0.21996695 -0.16373337 -0.112631791\n",
      "[2,] -0.06707408 -0.02747209  0.005762287  0.03221720  0.05148076  0.063141121\n",
      "[3,]  0.06678640  0.06217221  0.050511882  0.03376930  0.01391455 -0.007082264\n",
      "[4,] -0.02725106 -0.04462174 -0.057224206 -0.06308838 -0.06024416 -0.046721451\n",
      "[5,] -0.02055017  0.02012003  0.074385224  0.13858723  0.20894810  0.281689915\n",
      "[6,]  0.35303473  0.41920460  0.476421592  0.52090778  0.54888521  0.556575957\n",
      "[1] \"phi: 0.00316227766016838 lambda: 1e-08\"\n",
      "            [,1]        [,2]         [,3]        [,4]        [,5]         [,6]\n",
      "[1,] -0.41727380 -0.34768751 -0.282026362 -0.22070501 -0.16413812 -0.112740357\n",
      "[2,] -0.06692637 -0.02711083  0.006291616  0.03286630  0.05219855  0.063873730\n",
      "[3,]  0.06747716  0.06276281  0.050952261  0.03402276  0.01395780 -0.007259122\n",
      "[4,] -0.02764451 -0.04521487 -0.057986702 -0.06397652 -0.06120082 -0.047676108\n",
      "[5,] -0.02141889  0.01943379  0.073972802  0.13851687  0.20926421  0.282413029\n",
      "[6,]  0.35416153  0.42070793  0.478250427  0.52298724  0.55111657  0.558836628\n",
      "[1] \"phi: 1e-05 lambda: 1e+05\"\n",
      "     [,1] [,2] [,3] [,4] [,5] [,6]\n",
      "[1,]    0    0    0    0    0    0\n",
      "[2,]    0    0    0    0    0    0\n",
      "[3,]    0    0    0    0    0    0\n",
      "[4,]    0    0    0    0    0    0\n",
      "[5,]    0    0    0    0    0    0\n",
      "[6,]    0    0    0    0    0    0\n",
      "[1] \"phi: 1e-05 lambda: 10000\"\n",
      "     [,1] [,2] [,3] [,4] [,5] [,6]\n",
      "[1,]    0    0    0    0    0    0\n",
      "[2,]    0    0    0    0    0    0\n",
      "[3,]    0    0    0    0    0    0\n",
      "[4,]    0    0    0    0    0    0\n",
      "[5,]    0    0    0    0    0    0\n",
      "[6,]    0    0    0    0    0    0\n",
      "[1] \"phi: 1e-05 lambda: 1000\"\n",
      "     [,1] [,2] [,3] [,4] [,5] [,6]\n",
      "[1,]    0    0    0    0    0    0\n",
      "[2,]    0    0    0    0    0    0\n",
      "[3,]    0    0    0    0    0    0\n",
      "[4,]    0    0    0    0    0    0\n",
      "[5,]    0    0    0    0    0    0\n",
      "[6,]    0    0    0    0    0    0\n",
      "[1] \"phi: 1e-05 lambda: 100\"\n",
      "     [,1] [,2] [,3] [,4] [,5] [,6]\n",
      "[1,]    0    0    0    0    0    0\n",
      "[2,]    0    0    0    0    0    0\n",
      "[3,]    0    0    0    0    0    0\n",
      "[4,]    0    0    0    0    0    0\n",
      "[5,]    0    0    0    0    0    0\n",
      "[6,]    0    0    0    0    0    0\n",
      "[1] \"phi: 1e-05 lambda: 10\"\n",
      "     [,1] [,2] [,3] [,4] [,5] [,6]\n",
      "[1,]    0    0    0    0    0    0\n",
      "[2,]    0    0    0    0    0    0\n",
      "[3,]    0    0    0    0    0    0\n",
      "[4,]    0    0    0    0    0    0\n",
      "[5,]    0    0    0    0    0    0\n",
      "[6,]    0    0    0    0    0    0\n",
      "[1] \"phi: 1e-05 lambda: 1\"\n",
      "             [,1]         [,2]         [,3]         [,4]         [,5]\n",
      "[1,] -0.068169716 -0.059340272 -0.050954487 -0.043062507 -0.035714480\n",
      "[2,] -0.022850864 -0.017435569 -0.012764810 -0.008888734 -0.005857488\n",
      "[3,] -0.002530066 -0.002312051 -0.002902546 -0.004037740 -0.005452999\n",
      "[4,] -0.008065188 -0.008732854 -0.008622057 -0.007468166 -0.005006549\n",
      "[5,]  0.004898393  0.012853415  0.022735524  0.033983718  0.046019429\n",
      "[6,]  0.070139122  0.081065967  0.090466052  0.097760808  0.102371667\n",
      "             [,6]\n",
      "[1,] -0.028960550\n",
      "[2,] -0.003721216\n",
      "[3,] -0.006883693\n",
      "[4,] -0.000972573\n",
      "[5,]  0.058264086\n",
      "[6,]  0.103720058\n",
      "[1] \"phi: 1e-05 lambda: 0.1\"\n",
      "            [,1]        [,2]         [,3]        [,4]         [,5]         [,6]\n",
      "[1,] -0.37517708 -0.31396890 -0.256183326 -0.20218371 -0.152333428 -0.106995838\n",
      "[2,] -0.06653431 -0.03131220 -0.001692872  0.02196030  0.039283955  0.049914731\n",
      "[3,]  0.05348926  0.04979333  0.039910792  0.02559391  0.008600436 -0.009311846\n",
      "[4,] -0.02638517 -0.04086177 -0.050983865 -0.05499370 -0.051133489 -0.037645475\n",
      "[5,] -0.01277188  0.02513689  0.075242567  0.13421901  0.198631889  0.265046902\n",
      "[6,]  0.33002973  0.39014606  0.441961570  0.48204195  0.506952889  0.513260065\n",
      "[1] \"phi: 1e-05 lambda: 0.01\"\n",
      "            [,1]        [,2]          [,3]        [,4]         [,5]        [,6]\n",
      "[1,] -0.40437559 -0.33789233 -0.2751592487 -0.21657280 -0.162529428 -0.11342558\n",
      "[2,] -0.06965772 -0.03162227  0.0002843048  0.02566556  0.044125048  0.05526632\n",
      "[3,]  0.05869293  0.05417179  0.0428916227  0.02677325  0.007743551 -0.01227062\n",
      "[4,] -0.03134239 -0.04754489 -0.0589512476 -0.06363460 -0.059668080 -0.04512481\n",
      "[5,] -0.01807794  0.02328104  0.0780378430  0.14255545  0.213078441  0.28585141\n",
      "[6,]  0.35711896  0.42312566  0.4801161114  0.52433490  0.552026624  0.55943586\n",
      "[1] \"phi: 1e-05 lambda: 0.001\"\n",
      "            [,1]        [,2]          [,3]        [,4]         [,5]        [,6]\n",
      "[1,] -0.40560895 -0.33888292 -0.2759264668 -0.21713782 -0.162915199 -0.11365682\n",
      "[2,] -0.06976090 -0.03162567  0.0003506691  0.02576988  0.044233755  0.05534407\n",
      "[3,]  0.05870260  0.05407545  0.0426589171  0.02638569  0.007194548 -0.01297573\n",
      "[4,] -0.03218637 -0.04849859 -0.0599736211 -0.06467267 -0.060656975 -0.04598775\n",
      "[5,] -0.01872621  0.02294725  0.0781115089  0.14310473  0.214145890  0.28745398\n",
      "[6,]  0.35924799  0.42574691  0.4831697257  0.52773542  0.555662984  0.56317141\n",
      "[1] \"phi: 1e-05 lambda: 1e-04\"\n",
      "            [,1]        [,2]          [,3]        [,4]        [,5]        [,6]\n",
      "[1,] -0.40567644 -0.33893550 -0.2759656087 -0.21716511 -0.16293236 -0.11366569\n",
      "[2,] -0.06976345 -0.03162398  0.0003543747  0.02577327  0.04423435  0.05533929\n",
      "[3,]  0.05868973  0.05405173  0.0426222337  0.02633492  0.00712957 -0.01305404\n",
      "[4,] -0.03227613 -0.04859692 -0.0600766430 -0.06477551 -0.06075375 -0.04607159\n",
      "[5,] -0.01878924  0.02291384  0.0781158800  0.14315280  0.21424128  0.28759802\n",
      "[6,]  0.35943970  0.42598299  0.4834446020  0.52804121  0.55598949  0.56350615\n",
      "[1] \"phi: 1e-05 lambda: 1e-05\"\n",
      "            [,1]        [,2]          [,3]        [,4]         [,5]        [,6]\n",
      "[1,] -0.40568224 -0.33894048 -0.2759698515 -0.21716871 -0.162935406 -0.11366829\n",
      "[2,] -0.06976571 -0.03162603  0.0003524168  0.02577127  0.044232172  0.05533678\n",
      "[3,]  0.05868674  0.05404811  0.0426178519  0.02632972  0.007123555 -0.01306081\n",
      "[4,] -0.03228355 -0.04860482 -0.0600847750 -0.06478359 -0.060761432 -0.04607846\n",
      "[5,] -0.01879483  0.02291004  0.0781143599  0.14315391  0.214245232  0.28760488\n",
      "[6,]  0.35944941  0.42599537  0.4834593029  0.52805776  0.556007296  0.56352446\n",
      "[1] \"phi: 1e-05 lambda: 1e-06\"\n",
      "            [,1]        [,2]          [,3]        [,4]         [,5]        [,6]\n",
      "[1,] -0.40568560 -0.33894305 -0.2759717204 -0.21716996 -0.162936140 -0.11366861\n",
      "[2,] -0.06976573 -0.03162585  0.0003526529  0.02577143  0.044232134  0.05533639\n",
      "[3,]  0.05868585  0.05404656  0.0426155271  0.02632656  0.007119563 -0.01306558\n",
      "[4,] -0.03228898 -0.04861073 -0.0600909484 -0.06478973 -0.060767191 -0.04608343\n",
      "[5,] -0.01879855  0.02290809  0.0781146574  0.14315680  0.214250932  0.28761347\n",
      "[6,]  0.35946082  0.42600941  0.4834756342  0.52807592  0.556026682  0.56354433\n",
      "[1] \"phi: 1e-05 lambda: 1e-07\"\n",
      "            [,1]        [,2]          [,3]        [,4]         [,5]        [,6]\n",
      "[1,] -0.40568754 -0.33894461 -0.2759729296 -0.21717087 -0.162936792 -0.11366906\n",
      "[2,] -0.06976603 -0.03162606  0.0003524756  0.02577122  0.044231819  0.05533590\n",
      "[3,]  0.05868511  0.05404549  0.0426140805  0.02632471  0.007117293 -0.01306824\n",
      "[4,] -0.03229196 -0.04861395 -0.0600942905 -0.06479305 -0.060770321 -0.04608617\n",
      "[5,] -0.01880067  0.02290686  0.0781145440  0.14315798  0.214253505  0.28761747\n",
      "[6,]  0.35946623  0.42601612  0.4834834898  0.52808469  0.556036055  0.56355394\n",
      "[1] \"phi: 1e-05 lambda: 1e-08\"\n",
      "            [,1]        [,2]          [,3]        [,4]         [,5]        [,6]\n",
      "[1,] -0.40568981 -0.33894648 -0.2759744595 -0.21717210 -0.162937767 -0.11366983\n",
      "[2,] -0.06976665 -0.03162659  0.0003519778  0.02577069  0.044231188  0.05533510\n",
      "[3,]  0.05868406  0.05404412  0.0426123342  0.02632255  0.007114734 -0.01307117\n",
      "[4,] -0.03229522 -0.04861744 -0.0600979021 -0.06479664 -0.060773714 -0.04608916\n",
      "[5,] -0.01880304  0.02290537  0.0781141673  0.14315889  0.214255808  0.28762121\n",
      "[6,]  0.35947136  0.42602255  0.4834910606  0.52809316  0.556045141  0.56356327\n"
     ]
    },
    {
     "data": {
      "image/png": "[encoded data removed]",
      "text/plain": [
       "Plot with title \"varphi =  1e+05\""
      ]
     },
     "metadata": {
      "image/png": {
       "height": 420,
       "width": 420
      }
     },
     "output_type": "display_data"
    },
    {
     "data": {
      "image/png": "[encoded data removed]",
      "text/plain": [
       "Plot with title \"varphi =  316.227766016838\""
      ]
     },
     "metadata": {
      "image/png": {
       "height": 420,
       "width": 420
      }
     },
     "output_type": "display_data"
    },
    {
     "data": {
      "image/png": "[encoded data removed]",
      "text/plain": [
       "Plot with title \"varphi =  1\""
      ]
     },
     "metadata": {
      "image/png": {
       "height": 420,
       "width": 420
      }
     },
     "output_type": "display_data"
    },
    {
     "data": {
      "image/png": "[encoded data removed]",
      "text/plain": [
       "Plot with title \"varphi =  0.00316227766016838\""
      ]
     },
     "metadata": {
      "image/png": {
       "height": 420,
       "width": 420
      }
     },
     "output_type": "display_data"
    },
    {
     "data": {
      "image/png": "[encoded data removed]",
      "text/plain": [
       "Plot with title \"varphi =  1e-05\""
      ]
     },
     "metadata": {
      "image/png": {
       "height": 420,
       "width": 420
      }
     },
     "output_type": "display_data"
    }
   ],
   "source": [
    "\n",
    "grpl <- list()\n",
    "for (i in 1:length(phi)) {\n",
    "  grpl[[i]] <- grplFlinear(Y = Y, X = fobs, Tps = tps, lambda = lambda, phi = phi[i], dfs = inputs$basis_functions )\n",
    "}\n",
    "\n",
    "\n",
    "# print all the output coefficients from the grpl\n",
    "for (i in 1:length(phi)) {\n",
    "      for(wl in 1:length(lambda)) {\n",
    "        print(paste(\"phi:\",phi[i],\"lambda:\",lambda[wl]))\n",
    "        out = to_matrix_form(grpl[[i]]$Coef[[j]][,wl],predictors = predictors, basis_functions = inputs$basis_functions)\n",
    "        print(out)\n",
    "\n",
    "    }\n",
    "\n",
    "}\n",
    "colors <- rainbow(length(lambda))  # Generate a color palette with as many colors as there are lambda values\n",
    "\n",
    "for (i in 1:length(phi)) {\n",
    "  par(mfrow=c(3,2))  # Arrange the plots in a 3x2 grid\n",
    "  for (j in 1:predictors) {\n",
    "    y_values = beta_funcs[[j]](tps[[j]])\n",
    "    plot(tps[[j]], y_values, type=\"h\",col=\"gray\",lwd=5,ylim=range(y_values),  xlab=\"t\", ylab=paste(\"beta[\", j, \"](t)\"), bty=\"n\")\n",
    "    for(wl in 1:length(lambda)) {\n",
    "      lines(tps[[j]], grpl[[i]]$Coef[[j]][,wl],lty=2, col=colors[wl])\n",
    "    }\n",
    "    legend(\"topright\", legend=paste(\"lambda =\", lambda), col=colors, lty=2, cex=0.8)\n",
    "\n",
    "    title(paste(\"varphi = \", phi[i]))\n",
    "  }\n",
    "}"
   ]
  },
  {
   "cell_type": "code",
   "execution_count": 68,
   "metadata": {
    "vscode": {
     "languageId": "r"
    }
   },
   "outputs": [
    {
     "data": {
      "image/png": "[encoded data removed]",
      "text/plain": [
       "Plot with title \"varphi =  0\""
      ]
     },
     "metadata": {
      "image/png": {
       "height": 420,
       "width": 420
      }
     },
     "output_type": "display_data"
    }
   ],
   "source": [
    "for (i in 1:length(phi)) {\n",
    "  par(mfrow=c(3,2))  # Arrange the plots in a 3x2 grid\n",
    "  for (j in 1:predictors) {\n",
    "    y_values = beta_funcs[[j]](tps[[j]])\n",
    "    plot(tps[[j]], y_values, type=\"h\",col=grey(0.9),lwd=5,ylim=range(y_values),  xlab=\"t\", ylab=paste(\"beta[\", j, \"](t)\"), bty=\"n\")\n",
    "    for(wl in 1:length(lambda)) {\n",
    "      lines(tps[[j]], grpl[[i]]$Coef[[j]][,wl],lty=wl, col=\"red\")\n",
    "    }\n",
    "    title(paste(\"varphi = \", phi[i]))\n",
    "  }\n",
    "}"
   ]
  },
  {
   "cell_type": "markdown",
   "metadata": {},
   "source": [
    "The best one is the:\n",
    "- phi    = 100\n",
    "- lambda = 1"
   ]
  },
  {
   "cell_type": "code",
   "execution_count": 13,
   "metadata": {
    "vscode": {
     "languageId": "r"
    }
   },
   "outputs": [
    {
     "data": {
      "image/png": "[encoded data removed]",
      "text/plain": [
       "Plot with title \"varphi =  0.630957344480193\""
      ]
     },
     "metadata": {
      "image/png": {
       "height": 420,
       "width": 420
      }
     },
     "output_type": "display_data"
    }
   ],
   "source": [
    "par(mfrow=c(3,2))  # Arrange the plots in a 3x2 grid\n",
    "for (j in 1:predictors) {\n",
    "  plot(tps[[j]], beta_funcs[[j]](tps[[j]]), type=\"h\",col=grey(0.9),ylim=c(-0.2,1),lwd=5, xlab=\"t\", ylab=paste(\"beta[\", j, \"](t)\"), bty=\"n\")\n",
    "  lines(tps[[j]], grpl[[5]]$Coef[[j]][,4],lty=4)\n",
    "  title(paste(\"varphi = \", phi[5]))\n",
    "}\n"
   ]
  },
  {
   "cell_type": "code",
   "execution_count": 14,
   "metadata": {
    "vscode": {
     "languageId": "r"
    }
   },
   "outputs": [
    {
     "name": "stdout",
     "output_type": "stream",
     "text": [
      "Setting update.every = length(lambda) + 1\n",
      "Lambda: 1e+15  nr.var: 1 \n",
      "Lambda: 1e+14  nr.var: 1 \n",
      "Lambda: 1e+13  nr.var: 1 \n",
      "Lambda: 1e+12  nr.var: 1 \n",
      "Lambda: 1e+11  nr.var: 1 \n",
      "Lambda: 1e+10  nr.var: 1 \n",
      "Lambda: 1e+09  nr.var: 1 \n",
      "Lambda: 1e+08  nr.var: 1 \n",
      "Lambda: 1e+07  nr.var: 1 \n",
      "Lambda: 1e+06  nr.var: 1 \n",
      "Lambda: 1e+05  nr.var: 1 \n",
      "Lambda: 10000  nr.var: 1 \n",
      "Lambda: 1000  nr.var: 1 \n",
      "Lambda: 100  nr.var: 1 \n",
      "Lambda: 10  nr.var: 91 \n",
      "Lambda: 1  nr.var: 136 \n",
      "Lambda: 0.1  nr.var: 136 \n"
     ]
    },
    {
     "name": "stderr",
     "output_type": "stream",
     "text": [
      "Warning message in grplasso.default(x = Z, y = Y, index = index, model = LinReg(), :\n",
      "\"Maximal number of iterations reached for lambda[18]\"\n"
     ]
    },
    {
     "name": "stdout",
     "output_type": "stream",
     "text": [
      "Lambda: 0.01  nr.var: 136 \n"
     ]
    },
    {
     "name": "stderr",
     "output_type": "stream",
     "text": [
      "Warning message in grplasso.default(x = Z, y = Y, index = index, model = LinReg(), :\n",
      "\"Maximal number of iterations reached for lambda[19]\"\n"
     ]
    },
    {
     "name": "stdout",
     "output_type": "stream",
     "text": [
      "Lambda: 0.001  nr.var: 136 \n"
     ]
    },
    {
     "name": "stderr",
     "output_type": "stream",
     "text": [
      "Warning message in grplasso.default(x = Z, y = Y, index = index, model = LinReg(), :\n",
      "\"Maximal number of iterations reached for lambda[20]\"\n"
     ]
    },
    {
     "name": "stdout",
     "output_type": "stream",
     "text": [
      "Lambda: 1e-04  nr.var: 136 \n"
     ]
    },
    {
     "name": "stderr",
     "output_type": "stream",
     "text": [
      "Warning message in grplasso.default(x = Z, y = Y, index = index, model = LinReg(), :\n",
      "\"Maximal number of iterations reached for lambda[21]\"\n"
     ]
    },
    {
     "name": "stdout",
     "output_type": "stream",
     "text": [
      "Lambda: 1e-05  nr.var: 136 \n"
     ]
    },
    {
     "name": "stderr",
     "output_type": "stream",
     "text": [
      "Warning message in grplasso.default(x = Z, y = Y, index = index, model = LinReg(), :\n",
      "\"Maximal number of iterations reached for lambda[22]\"\n"
     ]
    },
    {
     "name": "stdout",
     "output_type": "stream",
     "text": [
      "Lambda: 1e-06  nr.var: 136 \n"
     ]
    },
    {
     "name": "stderr",
     "output_type": "stream",
     "text": [
      "Warning message in grplasso.default(x = Z, y = Y, index = index, model = LinReg(), :\n",
      "\"Maximal number of iterations reached for lambda[23]\"\n"
     ]
    },
    {
     "name": "stdout",
     "output_type": "stream",
     "text": [
      "Lambda: 1e-07  nr.var: 136 \n"
     ]
    },
    {
     "name": "stderr",
     "output_type": "stream",
     "text": [
      "Warning message in grplasso.default(x = Z, y = Y, index = index, model = LinReg(), :\n",
      "\"Maximal number of iterations reached for lambda[24]\"\n"
     ]
    },
    {
     "name": "stdout",
     "output_type": "stream",
     "text": [
      "Lambda: 1e-08  nr.var: 136 \n"
     ]
    },
    {
     "name": "stderr",
     "output_type": "stream",
     "text": [
      "Warning message in grplasso.default(x = Z, y = Y, index = index, model = LinReg(), :\n",
      "\"Maximal number of iterations reached for lambda[25]\"\n"
     ]
    },
    {
     "name": "stdout",
     "output_type": "stream",
     "text": [
      "Lambda: 1e-09  nr.var: 136 \n"
     ]
    },
    {
     "name": "stderr",
     "output_type": "stream",
     "text": [
      "Warning message in grplasso.default(x = Z, y = Y, index = index, model = LinReg(), :\n",
      "\"Maximal number of iterations reached for lambda[26]\"\n"
     ]
    },
    {
     "name": "stdout",
     "output_type": "stream",
     "text": [
      "Lambda: 1e-10  nr.var: 136 \n"
     ]
    },
    {
     "name": "stderr",
     "output_type": "stream",
     "text": [
      "Warning message in grplasso.default(x = Z, y = Y, index = index, model = LinReg(), :\n",
      "\"Maximal number of iterations reached for lambda[27]\"\n"
     ]
    },
    {
     "name": "stdout",
     "output_type": "stream",
     "text": [
      "Lambda: 1e-11  nr.var: 136 \n"
     ]
    },
    {
     "name": "stderr",
     "output_type": "stream",
     "text": [
      "Warning message in grplasso.default(x = Z, y = Y, index = index, model = LinReg(), :\n",
      "\"Maximal number of iterations reached for lambda[28]\"\n"
     ]
    },
    {
     "name": "stdout",
     "output_type": "stream",
     "text": [
      "Lambda: 1e-12  nr.var: 136 \n"
     ]
    },
    {
     "name": "stderr",
     "output_type": "stream",
     "text": [
      "Warning message in grplasso.default(x = Z, y = Y, index = index, model = LinReg(), :\n",
      "\"Maximal number of iterations reached for lambda[29]\"\n"
     ]
    },
    {
     "name": "stdout",
     "output_type": "stream",
     "text": [
      "Lambda: 1e-13  nr.var: 136 \n"
     ]
    },
    {
     "name": "stderr",
     "output_type": "stream",
     "text": [
      "Warning message in grplasso.default(x = Z, y = Y, index = index, model = LinReg(), :\n",
      "\"Maximal number of iterations reached for lambda[30]\"\n"
     ]
    },
    {
     "name": "stdout",
     "output_type": "stream",
     "text": [
      "Lambda: 1e-14  nr.var: 136 \n"
     ]
    },
    {
     "name": "stderr",
     "output_type": "stream",
     "text": [
      "Warning message in grplasso.default(x = Z, y = Y, index = index, model = LinReg(), :\n",
      "\"Maximal number of iterations reached for lambda[31]\"\n"
     ]
    },
    {
     "name": "stdout",
     "output_type": "stream",
     "text": [
      "Lambda: 1e-15  nr.var: 136 \n"
     ]
    },
    {
     "name": "stderr",
     "output_type": "stream",
     "text": [
      "Warning message in grplasso.default(x = Z, y = Y, index = index, model = LinReg(), :\n",
      "\"Maximal number of iterations reached for lambda[32]\"\n"
     ]
    },
    {
     "name": "stdout",
     "output_type": "stream",
     "text": [
      "Lambda: 1e-16  nr.var: 136 \n"
     ]
    },
    {
     "name": "stderr",
     "output_type": "stream",
     "text": [
      "Warning message in grplasso.default(x = Z, y = Y, index = index, model = LinReg(), :\n",
      "\"Maximal number of iterations reached for lambda[33]\"\n"
     ]
    },
    {
     "name": "stdout",
     "output_type": "stream",
     "text": [
      "Lambda: 1e-17  nr.var: 136 \n"
     ]
    },
    {
     "name": "stderr",
     "output_type": "stream",
     "text": [
      "Warning message in grplasso.default(x = Z, y = Y, index = index, model = LinReg(), :\n",
      "\"Maximal number of iterations reached for lambda[34]\"\n"
     ]
    },
    {
     "name": "stdout",
     "output_type": "stream",
     "text": [
      "Lambda: 1e-18  nr.var: 136 \n"
     ]
    },
    {
     "name": "stderr",
     "output_type": "stream",
     "text": [
      "Warning message in grplasso.default(x = Z, y = Y, index = index, model = LinReg(), :\n",
      "\"Maximal number of iterations reached for lambda[35]\"\n"
     ]
    },
    {
     "name": "stdout",
     "output_type": "stream",
     "text": [
      "Lambda: 1e-19  nr.var: 136 \n"
     ]
    },
    {
     "name": "stderr",
     "output_type": "stream",
     "text": [
      "Warning message in grplasso.default(x = Z, y = Y, index = index, model = LinReg(), :\n",
      "\"Maximal number of iterations reached for lambda[36]\"\n"
     ]
    },
    {
     "name": "stdout",
     "output_type": "stream",
     "text": [
      "Lambda: 1e-20  nr.var: 136 \n"
     ]
    },
    {
     "name": "stderr",
     "output_type": "stream",
     "text": [
      "Warning message in grplasso.default(x = Z, y = Y, index = index, model = LinReg(), :\n",
      "\"Maximal number of iterations reached for lambda[37]\"\n"
     ]
    },
    {
     "name": "stdout",
     "output_type": "stream",
     "text": [
      "Lambda: 1e-21  nr.var: 136 \n"
     ]
    },
    {
     "name": "stderr",
     "output_type": "stream",
     "text": [
      "Warning message in grplasso.default(x = Z, y = Y, index = index, model = LinReg(), :\n",
      "\"Maximal number of iterations reached for lambda[38]\"\n"
     ]
    },
    {
     "name": "stdout",
     "output_type": "stream",
     "text": [
      "Lambda: 1e-22  nr.var: 136 \n"
     ]
    },
    {
     "name": "stderr",
     "output_type": "stream",
     "text": [
      "Warning message in grplasso.default(x = Z, y = Y, index = index, model = LinReg(), :\n",
      "\"Maximal number of iterations reached for lambda[39]\"\n"
     ]
    },
    {
     "name": "stdout",
     "output_type": "stream",
     "text": [
      "Lambda: 1e-23  nr.var: 136 \n"
     ]
    },
    {
     "name": "stderr",
     "output_type": "stream",
     "text": [
      "Warning message in grplasso.default(x = Z, y = Y, index = index, model = LinReg(), :\n",
      "\"Maximal number of iterations reached for lambda[40]\"\n"
     ]
    },
    {
     "name": "stdout",
     "output_type": "stream",
     "text": [
      "Lambda: 1e-24  nr.var: 136 \n"
     ]
    },
    {
     "name": "stderr",
     "output_type": "stream",
     "text": [
      "Warning message in grplasso.default(x = Z, y = Y, index = index, model = LinReg(), :\n",
      "\"Maximal number of iterations reached for lambda[41]\"\n"
     ]
    },
    {
     "name": "stdout",
     "output_type": "stream",
     "text": [
      "Lambda: 1e-25  nr.var: 136 \n"
     ]
    },
    {
     "name": "stderr",
     "output_type": "stream",
     "text": [
      "Warning message in grplasso.default(x = Z, y = Y, index = index, model = LinReg(), :\n",
      "\"Maximal number of iterations reached for lambda[42]\"\n"
     ]
    },
    {
     "name": "stdout",
     "output_type": "stream",
     "text": [
      "Lambda: 1e-26  nr.var: 136 \n"
     ]
    },
    {
     "name": "stderr",
     "output_type": "stream",
     "text": [
      "Warning message in grplasso.default(x = Z, y = Y, index = index, model = LinReg(), :\n",
      "\"Maximal number of iterations reached for lambda[43]\"\n"
     ]
    },
    {
     "name": "stdout",
     "output_type": "stream",
     "text": [
      "Lambda: 1e-27  nr.var: 136 \n"
     ]
    },
    {
     "name": "stderr",
     "output_type": "stream",
     "text": [
      "Warning message in grplasso.default(x = Z, y = Y, index = index, model = LinReg(), :\n",
      "\"Maximal number of iterations reached for lambda[44]\"\n"
     ]
    },
    {
     "name": "stdout",
     "output_type": "stream",
     "text": [
      "Lambda: 1e-28  nr.var: 136 \n"
     ]
    },
    {
     "name": "stderr",
     "output_type": "stream",
     "text": [
      "Warning message in grplasso.default(x = Z, y = Y, index = index, model = LinReg(), :\n",
      "\"Maximal number of iterations reached for lambda[45]\"\n"
     ]
    },
    {
     "name": "stdout",
     "output_type": "stream",
     "text": [
      "Lambda: 1e-29  nr.var: 136 \n"
     ]
    },
    {
     "name": "stderr",
     "output_type": "stream",
     "text": [
      "Warning message in grplasso.default(x = Z, y = Y, index = index, model = LinReg(), :\n",
      "\"Maximal number of iterations reached for lambda[46]\"\n"
     ]
    },
    {
     "name": "stdout",
     "output_type": "stream",
     "text": [
      "Lambda: 1e-30  nr.var: 136 \n"
     ]
    },
    {
     "name": "stderr",
     "output_type": "stream",
     "text": [
      "Warning message in grplasso.default(x = Z, y = Y, index = index, model = LinReg(), :\n",
      "\"Maximal number of iterations reached for lambda[47]\"\n"
     ]
    },
    {
     "name": "stdout",
     "output_type": "stream",
     "text": [
      "Lambda: 1e-31  nr.var: 136 \n"
     ]
    },
    {
     "name": "stderr",
     "output_type": "stream",
     "text": [
      "Warning message in grplasso.default(x = Z, y = Y, index = index, model = LinReg(), :\n",
      "\"Maximal number of iterations reached for lambda[48]\"\n"
     ]
    },
    {
     "name": "stdout",
     "output_type": "stream",
     "text": [
      "Lambda: 1e-32  nr.var: 136 \n"
     ]
    },
    {
     "name": "stderr",
     "output_type": "stream",
     "text": [
      "Warning message in grplasso.default(x = Z, y = Y, index = index, model = LinReg(), :\n",
      "\"Maximal number of iterations reached for lambda[49]\"\n"
     ]
    },
    {
     "ename": "",
     "evalue": "",
     "output_type": "error",
     "traceback": [
      "\u001b[1;31mThe Kernel crashed while executing code in the current cell or a previous cell. \n",
      "\u001b[1;31mPlease review the code in the cell(s) to identify a possible cause of the failure. \n",
      "\u001b[1;31mClick <a href='https://aka.ms/vscodeJupyterKernelCrash'>here</a> for more info. \n",
      "\u001b[1;31mView Jupyter <a href='command:jupyter.viewOutput'>log</a> for further details."
     ]
    }
   ],
   "source": [
    "# fit using functional smooth group lasso\n",
    "lambda <- 10^seq(15,-90,by=-1)\n",
    "phi <- 10^-1\n",
    "\n",
    "grpl <- list()\n",
    "for (i in 1:length(phi)) {\n",
    "  grpl[[i]] <- grplFlinear(Y = Y, X = fobs, Tps = tps, lambda = lambda, phi = phi[i], dfs = 45)\n",
    "}\n",
    "\n"
   ]
  },
  {
   "cell_type": "code",
   "execution_count": null,
   "metadata": {
    "vscode": {
     "languageId": "r"
    }
   },
   "outputs": [
    {
     "data": {
      "image/png": "[encoded data removed]",
      "text/plain": [
       "Plot with title \"varphi =  0.1\""
      ]
     },
     "metadata": {
      "image/png": {
       "height": 420,
       "width": 420
      }
     },
     "output_type": "display_data"
    },
    {
     "data": {
      "image/png": "[encoded data removed]",
      "text/plain": [
       "Plot with title \"varphi =  0.0562341325190349\""
      ]
     },
     "metadata": {
      "image/png": {
       "height": 420,
       "width": 420
      }
     },
     "output_type": "display_data"
    },
    {
     "data": {
      "image/png": "[encoded data removed]",
      "text/plain": [
       "Plot with title \"varphi =  0.0316227766016838\""
      ]
     },
     "metadata": {
      "image/png": {
       "height": 420,
       "width": 420
      }
     },
     "output_type": "display_data"
    },
    {
     "data": {
      "image/png": "[encoded data removed]",
      "text/plain": [
       "Plot with title \"varphi =  0.0177827941003892\""
      ]
     },
     "metadata": {
      "image/png": {
       "height": 420,
       "width": 420
      }
     },
     "output_type": "display_data"
    },
    {
     "data": {
      "image/png": "[encoded data removed]",
      "text/plain": [
       "Plot with title \"varphi =  0.01\""
      ]
     },
     "metadata": {
      "image/png": {
       "height": 420,
       "width": 420
      }
     },
     "output_type": "display_data"
    }
   ],
   "source": [
    "for (i in 1:length(phi)) {\n",
    "  par(mfrow=c(3,2))  # Arrange the plots in a 3x2 grid\n",
    "  for (j in 1:predictors) {\n",
    "    plot(tps[[j]], beta_funcs[[j]](tps[[j]]), type=\"h\",col=grey(0.9),ylim=c(-0.2,1),lwd=5, xlab=\"t\", ylab=paste(\"beta[\", j, \"](t)\"), bty=\"n\")\n",
    "    for(wl in 1:length(lambda)) {\n",
    "      lines(tps[[j]], grpl[[i]]$Coef[[j]][,wl],lty=wl)\n",
    "    }\n",
    "    title(paste(\"varphi = \", phi[i]))\n",
    "  }\n",
    "}"
   ]
  },
  {
   "cell_type": "code",
   "execution_count": null,
   "metadata": {
    "vscode": {
     "languageId": "r"
    }
   },
   "outputs": [
    {
     "ename": "ERROR",
     "evalue": "Error in eval(expr, envir, enclos): oggetto 'phi' non trovato\n",
     "output_type": "error",
     "traceback": [
      "Error in eval(expr, envir, enclos): oggetto 'phi' non trovato\nTraceback:\n"
     ]
    }
   ],
   "source": [
    "for (i in 1:length(phi)) {\n",
    "  par(mfrow=c(3,2))  # Arrange the plots in a 3x2 grid\n",
    "  for (j in 1:predictors) {\n",
    "    plot(tps[[j]], beta_funcs[[j]](tps[[j]]), type=\"h\",col=grey(0.9),ylim=c(-0.2,1),lwd=5, xlab=\"t\", ylab=paste(\"beta[\", j, \"](t)\"), bty=\"n\")\n",
    "    lines(tps[[j]], grpl[[i]]$Coef[[j]][,60],lty=60)\n",
    "    title(paste(\"varphi = \", phi[i]))\n",
    "  }\n",
    "}"
   ]
  }
 ],
 "metadata": {
  "kernelspec": {
   "display_name": "R",
   "language": "R",
   "name": "ir"
  },
  "language_info": {
   "codemirror_mode": "r",
   "file_extension": ".r",
   "mimetype": "text/x-r-source",
   "name": "R",
   "pygments_lexer": "r",
   "version": "4.1.3"
  }
 },
 "nbformat": 4,
 "nbformat_minor": 2
}
