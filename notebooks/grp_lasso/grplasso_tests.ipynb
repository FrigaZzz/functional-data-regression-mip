{
 "cells": [
  {
   "cell_type": "code",
   "execution_count": null,
   "metadata": {},
   "outputs": [],
   "source": [
    "# SETUP yours\n",
    "user_libs = \"C:/Users/User/AppData/Local/R/cache/R/renv/library/functional-data-regression-mip-e3349204/R-4.3/x86_64-w64-mingw32\"\n",
    ".libPaths(c(user_libs,.libPaths()))\n",
    "\n"
   ]
  },
  {
   "cell_type": "code",
   "execution_count": null,
   "metadata": {},
   "outputs": [
    {
     "name": "stdout",
     "output_type": "stream",
     "text": [
      "[1] \"predictors: 6\"\n",
      "[1] \"observations: 400\"\n",
      "[1] \"measurements: 100\"\n",
      "[1] \"basis_functions: 6\"\n",
      "[1] \"intercept: 0\"\n"
     ]
    }
   ],
   "source": [
    "\n",
    "\n",
    "# run_simulation.R\n",
    "# This script contains the function to run the simulation and returns all relevant outputs.\n",
    "\n",
    "library(refund)\n",
    "library(MASS)\n",
    "library(fda)\n",
    "library(here)\n",
    "\n",
    "# Source the generic simulator script\n",
    "source(here(\"src\", \"R\", \"generic_simulator\", \"simulate_main.R\"))\n",
    "source(here(\"src\", \"R\", \"generic_simulator\", \"utils\",\"loader_utilities.R\"))\n",
    "\n",
    "\n",
    "# Define the function to run the simulation\n",
    "run_simulation <- function(params) {\n",
    "  # Ensure that the seed is set for reproducibility\n",
    "  \n",
    "  # Call the main analysis function with the parameters\n",
    "  result <- do.call(generate_data, params[c(\"predictors\", \"observations\", \"measurements\", \"basis_functions\", \"intercept\", \"norder\", \"mu_funcs\", \"beta_funcs\",\"time_domains\", \"cov_funcs\", \"seed\",\"noise_snr\",\"simulation_type\")] )\n",
    "    \n",
    "  # Return the output list\n",
    "  return(result)\n",
    "}\n",
    "\n",
    "\n",
    "simulation_name = \"paper\"\n",
    "simulation_settings_file = \"default\"\n",
    "# Required inputs before running the simulation!!!\n",
    "inputs  <- load_simulation_settings(simulation_name, simulation_settings_file)\n",
    "inputs$measurements <- 100\n",
    "inputs$observations <- 400\n",
    "inputs$basis_functions <- 6\n",
    "time_domains_eval <- lapply(inputs$time_domains, function(domain) {\n",
    "           seq(from = domain[[1]], to = domain[[2]], length.out = inputs$measurements)\n",
    "       })\n",
    "inputs$time_domains <- time_domains_eval\n",
    "inputs$noise_snr <- c(FALSE,100)\n",
    "outputs <- run_simulation(inputs);\n",
    "\n"
   ]
  },
  {
   "cell_type": "code",
   "execution_count": null,
   "metadata": {},
   "outputs": [
    {
     "name": "stdout",
     "output_type": "stream",
     "text": [
      "[1] \"predictors: 6\"\n",
      "[1] \"observations: 400\"\n",
      "[1] \"measurements: 100\"\n",
      "[1] \"basis_functions: 6\"\n",
      "[1] \"intercept: 0\"\n"
     ]
    },
    {
     "name": "stderr",
     "output_type": "stream",
     "text": [
      "Warning message:\n",
      "\"il pacchetto 'grplasso' è stato creato con R versione 4.3.0\"\n"
     ]
    }
   ],
   "source": [
    "library(here)\n",
    "source(here( \"simulations\", \"load_and_run_r_version.R\"))\n",
    "\n",
    "\n",
    "library(grplasso)\n",
    "X = outputs$Z\n",
    "Y = outputs$Y"
   ]
  },
  {
   "cell_type": "code",
   "execution_count": null,
   "metadata": {},
   "outputs": [
    {
     "data": {
      "text/html": [
       "<style>\n",
       ".list-inline {list-style: none; margin:0; padding: 0}\n",
       ".list-inline>li {display: inline-block}\n",
       ".list-inline>li:not(:last-child)::after {content: \"\\00b7\"; padding: 0 .5ex}\n",
       "</style>\n",
       "<ol class=list-inline><li>400</li><li>36</li></ol>\n"
      ],
      "text/latex": [
       "\\begin{enumerate*}\n",
       "\\item 400\n",
       "\\item 36\n",
       "\\end{enumerate*}\n"
      ],
      "text/markdown": [
       "1. 400\n",
       "2. 36\n",
       "\n",
       "\n"
      ],
      "text/plain": [
       "[1] 400  36"
      ]
     },
     "metadata": {},
     "output_type": "display_data"
    }
   ],
   "source": [
    "obseravation = dim(X)[1]    \n",
    "predictors = dim(X)[2]\n",
    "measurements = dim(X)[3]\n",
    "\n",
    "X_matrix <- array(data = X, dim = c(obseravation, predictors * measurements))\n",
    "group <- rep(1:predictors, each = measurements) # This is an example where each measurement for a predictor is considered its own group\n",
    "\n",
    "dim(X_matrix)"
   ]
  },
  {
   "cell_type": "code",
   "execution_count": null,
   "metadata": {},
   "outputs": [
    {
     "data": {
      "text/html": [
       "<style>\n",
       ".list-inline {list-style: none; margin:0; padding: 0}\n",
       ".list-inline>li {display: inline-block}\n",
       ".list-inline>li:not(:last-child)::after {content: \"\\00b7\"; padding: 0 .5ex}\n",
       "</style>\n",
       "<ol class=list-inline><li>1</li><li>1</li><li>1</li><li>1</li><li>1</li><li>1</li><li>2</li><li>2</li><li>2</li><li>2</li><li>2</li><li>2</li><li>3</li><li>3</li><li>3</li><li>3</li><li>3</li><li>3</li><li>4</li><li>4</li><li>4</li><li>4</li><li>4</li><li>4</li><li>5</li><li>5</li><li>5</li><li>5</li><li>5</li><li>5</li><li>6</li><li>6</li><li>6</li><li>6</li><li>6</li><li>6</li></ol>\n"
      ],
      "text/latex": [
       "\\begin{enumerate*}\n",
       "\\item 1\n",
       "\\item 1\n",
       "\\item 1\n",
       "\\item 1\n",
       "\\item 1\n",
       "\\item 1\n",
       "\\item 2\n",
       "\\item 2\n",
       "\\item 2\n",
       "\\item 2\n",
       "\\item 2\n",
       "\\item 2\n",
       "\\item 3\n",
       "\\item 3\n",
       "\\item 3\n",
       "\\item 3\n",
       "\\item 3\n",
       "\\item 3\n",
       "\\item 4\n",
       "\\item 4\n",
       "\\item 4\n",
       "\\item 4\n",
       "\\item 4\n",
       "\\item 4\n",
       "\\item 5\n",
       "\\item 5\n",
       "\\item 5\n",
       "\\item 5\n",
       "\\item 5\n",
       "\\item 5\n",
       "\\item 6\n",
       "\\item 6\n",
       "\\item 6\n",
       "\\item 6\n",
       "\\item 6\n",
       "\\item 6\n",
       "\\end{enumerate*}\n"
      ],
      "text/markdown": [
       "1. 1\n",
       "2. 1\n",
       "3. 1\n",
       "4. 1\n",
       "5. 1\n",
       "6. 1\n",
       "7. 2\n",
       "8. 2\n",
       "9. 2\n",
       "10. 2\n",
       "11. 2\n",
       "12. 2\n",
       "13. 3\n",
       "14. 3\n",
       "15. 3\n",
       "16. 3\n",
       "17. 3\n",
       "18. 3\n",
       "19. 4\n",
       "20. 4\n",
       "21. 4\n",
       "22. 4\n",
       "23. 4\n",
       "24. 4\n",
       "25. 5\n",
       "26. 5\n",
       "27. 5\n",
       "28. 5\n",
       "29. 5\n",
       "30. 5\n",
       "31. 6\n",
       "32. 6\n",
       "33. 6\n",
       "34. 6\n",
       "35. 6\n",
       "36. 6\n",
       "\n",
       "\n"
      ],
      "text/plain": [
       " [1] 1 1 1 1 1 1 2 2 2 2 2 2 3 3 3 3 3 3 4 4 4 4 4 4 5 5 5 5 5 5 6 6 6 6 6 6"
      ]
     },
     "metadata": {},
     "output_type": "display_data"
    }
   ],
   "source": [
    "Y_vector <- as.numeric(Y)\n",
    "index <- c( rep(1:predictors, each = measurements))\n",
    "\n",
    "\n",
    "if(inputs$intercept > 0)\n",
    "{\n",
    "    index <- c(NA, rep(1:predictors, each = measurements))\n",
    "    intercept_column <- rep(1, observations)\n",
    "    X_matrix <- cbind(intercept_column, X_matrix)\n",
    "}\n",
    "index"
   ]
  },
  {
   "cell_type": "code",
   "execution_count": null,
   "metadata": {},
   "outputs": [
    {
     "name": "stdout",
     "output_type": "stream",
     "text": [
      "Lambda: 200  nr.var: 24 \n"
     ]
    }
   ],
   "source": [
    "grpl = grplasso(x = X_matrix, y = Y_vector, index = index, lambda = 200,model = LinReg (),center=FALSE)"
   ]
  },
  {
   "cell_type": "code",
   "execution_count": null,
   "metadata": {},
   "outputs": [
    {
     "name": "stdout",
     "output_type": "stream",
     "text": [
      "[1] \"Structure of the grplasso model object:\"\n"
     ]
    },
    {
     "name": "stdout",
     "output_type": "stream",
     "text": [
      "List of 18\n",
      " $ x                : NULL\n",
      " $ y                : num [1:400] 6.4 8.93 6.39 7.03 9.08 ...\n",
      " $ coefficients     : num [1:36, 1] 0 0 0 0 0 0 0 0 0 0 ...\n",
      "  ..- attr(*, \"dimnames\")=List of 2\n",
      "  .. ..$ : NULL\n",
      "  .. ..$ : chr \"200\"\n",
      " $ norms.pen        : num [1:6, 1] 0 0 1.26 3.05 2.17 ...\n",
      "  ..- attr(*, \"dimnames\")=List of 2\n",
      "  .. ..$ : NULL\n",
      "  .. ..$ : chr \"200\"\n",
      " $ lambda           : num 200\n",
      " $ index            : int [1:36] 1 1 1 1 1 1 2 2 2 2 ...\n",
      " $ penscale         :function (x)  \n",
      " $ model            :Formal class 'grpl.model' [package \"grplasso\"] with 8 slots\n",
      "  .. ..@ invlink  :function (eta)  \n",
      "  .. ..@ link     :function (mu)  \n",
      "  .. ..@ nloglik  :function (y, eta, weights, ...)  \n",
      "  .. ..@ ngradient:function (x, y, mu, weights, ...)  \n",
      "  .. ..@ nhessian :function (x, mu, weights, ...)  \n",
      "  .. ..@ check    :function (y)  \n",
      "  .. ..@ name     : chr \"Linear Regression Model\"\n",
      "  .. ..@ comment  : chr \"Use update.hess=\\\"lambda\\\" in grpl.control because the Hessian is constant\"\n",
      " $ ngradient        : num [1:36, 1] 481.2 64.3 -25.9 -26.4 18.6 ...\n",
      "  ..- attr(*, \"dimnames\")=List of 2\n",
      "  .. ..$ : NULL\n",
      "  .. ..$ : chr \"200\"\n",
      " $ nloglik          : num 159\n",
      " $ fitted           : num [1:400, 1] 5.91 8.4 6.08 5.96 8.28 ...\n",
      "  ..- attr(*, \"dimnames\")=List of 2\n",
      "  .. ..$ : NULL\n",
      "  .. ..$ : chr \"200\"\n",
      " $ linear.predictors: num [1:400, 1] 5.91 8.4 6.08 5.96 8.28 ...\n",
      "  ..- attr(*, \"dimnames\")=List of 2\n",
      "  .. ..$ : NULL\n",
      "  .. ..$ : chr \"200\"\n",
      " $ fn.val           : num 3457\n",
      " $ converged        : logi TRUE\n",
      " $ weights          : num [1:400] 1 1 1 1 1 1 1 1 1 1 ...\n",
      " $ offset           : num [1:400] 0 0 0 0 0 0 0 0 0 0 ...\n",
      " $ control          :Formal class 'grpl.control' [package \"grplasso\"] with 13 slots\n",
      "  .. ..@ save.x      : logi FALSE\n",
      "  .. ..@ save.y      : logi TRUE\n",
      "  .. ..@ update.hess : chr \"lambda\"\n",
      "  .. ..@ update.every: num 3\n",
      "  .. ..@ inner.loops : num 10\n",
      "  .. ..@ line.search : logi TRUE\n",
      "  .. ..@ max.iter    : num 500\n",
      "  .. ..@ tol         : num 5e-08\n",
      "  .. ..@ lower       : num 0.01\n",
      "  .. ..@ upper       : num Inf\n",
      "  .. ..@ beta        : num 0.5\n",
      "  .. ..@ sigma       : num 0.1\n",
      "  .. ..@ trace       : num 1\n",
      " $ call             : language grplasso.default(x = X_matrix, y = Y_vector, index = index, lambda = 200,      model = LinReg(), center = FALSE)\n",
      " - attr(*, \"class\")= chr \"grplasso\"\n",
      "[1] \"Coefficients from the grplasso model:\"\n",
      "               200\n",
      " [1,]  0.000000000\n",
      " [2,]  0.000000000\n",
      " [3,]  0.000000000\n",
      " [4,]  0.000000000\n",
      " [5,]  0.000000000\n",
      " [6,]  0.000000000\n",
      " [7,]  0.000000000\n",
      " [8,]  0.000000000\n",
      " [9,]  0.000000000\n",
      "[10,]  0.000000000\n",
      "[11,]  0.000000000\n",
      "[12,]  0.000000000\n",
      "[13,]  0.302251997\n",
      "[14,]  0.451520693\n",
      "[15,] -0.004560691\n",
      "[16,]  0.618825761\n",
      "[17,]  0.006786553\n",
      "[18,] -0.004476484\n",
      "[19,]  0.699206388\n",
      "[20,]  1.123808686\n",
      "[21,]  0.086586854\n",
      "[22,]  1.206309247\n",
      "[23,] -0.026737192\n",
      "[24,] -0.001754074\n",
      "[25,]  0.864636393\n",
      "[26,]  1.361318778\n",
      "[27,] -0.038066339\n",
      "[28,]  1.029790432\n",
      "[29,]  0.041454515\n",
      "[30,]  0.008120549\n",
      "[31,]  0.257369387\n",
      "[32,]  0.305406770\n",
      "[33,] -0.017164970\n",
      "[34,]  0.226776217\n",
      "[35,]  0.080848723\n",
      "[36,]  0.002850759\n",
      "[1] \"Indices of selected variables with non-zero coefficients:\"\n",
      " [1] 13 14 15 16 17 18 19 20 21 22 23 24 25 26 27 28 29 30 31 32 33 34 35 36\n"
     ]
    }
   ],
   "source": [
    "# Assuming your grplasso model is named 'grpl'\n",
    "\n",
    "# Print the structure of the model object to understand what's available\n",
    "print(\"Structure of the grplasso model object:\")\n",
    "str(grpl)\n",
    "\n",
    "# Get and print the coefficients from the model\n",
    "coefficients <- coef(grpl)\n",
    "print(\"Coefficients from the grplasso model:\")\n",
    "print(coefficients)\n",
    "\n",
    "# Identify and print non-zero coefficients to see which variables were selected\n",
    "selected_variables <- which(coefficients != 0)\n",
    "print(\"Indices of selected variables with non-zero coefficients:\")\n",
    "print(selected_variables)\n",
    "\n",
    "# If the grplasso object contains fitted values, calculate and print R-squared\n",
    "if (\"fitted.values\" %in% names(grpl)) {\n",
    "  fitted_values <- grpl$fitted.values\n",
    "  r_squared <- cor(Y, fitted_values)^2\n",
    "  print(\"R-squared for the grplasso model:\")\n",
    "  print(r_squared)\n",
    "}\n",
    "\n"
   ]
  },
  {
   "cell_type": "code",
   "execution_count": null,
   "metadata": {},
   "outputs": [],
   "source": [
    "compute_predictions_and_error <- function(coef_matrix, Z, Y_actual, true_predictors) {\n",
    "  # Reshape coef_matrix to match the structure of Z\n",
    "  reshaped_coefs <- as.vector(t(coef_matrix))\n",
    "  \n",
    "  # Compute predicted values\n",
    "  Y_predicted <- Z %*% reshaped_coefs\n",
    "  \n",
    "  # Compute prediction error (MSE)\n",
    "  mse <- mean((Y_actual - Y_predicted)^2)\n",
    "  \n",
    "  # Evaluate feature selection accuracy\n",
    "  # Determine which predictors are selected by the model (non-zero coefficients)\n",
    "  selected_predictors <- apply(coef_matrix, 1, function(row) any(row != 0))\n",
    "  \n",
    "  # Compare with true_predictors to calculate feature selection accuracy\n",
    "  correct_selections <- sum(selected_predictors == true_predictors)\n",
    "  total_predictors <- length(true_predictors)\n",
    "  selection_accuracy <- correct_selections / total_predictors\n",
    "  \n",
    "  return(list(predicted = Y_predicted, mse = mse, accuracy = selection_accuracy))\n",
    "}\n",
    "\n",
    "to_matrix_form <-  function(predictor_coefficients, predictors, basis_functions) {\n",
    "    # Create a matrix with 'basis_functions' elements per row\n",
    "    # and the number of rows equal to the number of predictors from coeff_full\n",
    "    coeff_matrix = matrix(0, nrow = predictors, ncol = basis_functions)\n",
    "\n",
    "    for (i in 1:(predictors * basis_functions)) {\n",
    "        # Calculate the row index as the ceiling of the division of 'i' by 'basis_functions'\n",
    "        row_index = (i - 1) %/% basis_functions + 1\n",
    "        # Calculate the column index as 'i' modulo 'basis_functions'; if modulo is 0, it means it's the last measurement\n",
    "        col_index = ifelse(i %% basis_functions == 0, basis_functions, i %% basis_functions)\n",
    "        # Assign the value of the coefficient to the matrix\n",
    "        coeff_matrix[row_index, col_index] = predictor_coefficients[i]\n",
    "}\n",
    "\n",
    "  return(coeff_matrix)\n",
    "}\n",
    "\n",
    "\n",
    "true_predictors = inputs$true_predictors\n",
    "\n"
   ]
  },
  {
   "cell_type": "code",
   "execution_count": null,
   "metadata": {},
   "outputs": [
    {
     "data": {
      "text/html": [
       "<style>\n",
       ".list-inline {list-style: none; margin:0; padding: 0}\n",
       ".list-inline>li {display: inline-block}\n",
       ".list-inline>li:not(:last-child)::after {content: \"\\00b7\"; padding: 0 .5ex}\n",
       "</style>\n",
       "<ol class=list-inline><li>6.40306794460164</li><li>8.92642368134473</li><li>6.39305193749367</li><li>7.02884265562431</li><li>9.08066439180392</li><li>5.8868328176634</li><li>8.17238736449548</li><li>5.55717451001667</li><li>9.51824542156565</li><li>5.73634666771057</li></ol>\n"
      ],
      "text/latex": [
       "\\begin{enumerate*}\n",
       "\\item 6.40306794460164\n",
       "\\item 8.92642368134473\n",
       "\\item 6.39305193749367\n",
       "\\item 7.02884265562431\n",
       "\\item 9.08066439180392\n",
       "\\item 5.8868328176634\n",
       "\\item 8.17238736449548\n",
       "\\item 5.55717451001667\n",
       "\\item 9.51824542156565\n",
       "\\item 5.73634666771057\n",
       "\\end{enumerate*}\n"
      ],
      "text/markdown": [
       "1. 6.40306794460164\n",
       "2. 8.92642368134473\n",
       "3. 6.39305193749367\n",
       "4. 7.02884265562431\n",
       "5. 9.08066439180392\n",
       "6. 5.8868328176634\n",
       "7. 8.17238736449548\n",
       "8. 5.55717451001667\n",
       "9. 9.51824542156565\n",
       "10. 5.73634666771057\n",
       "\n",
       "\n"
      ],
      "text/plain": [
       " [1] 6.403068 8.926424 6.393052 7.028843 9.080664 5.886833 8.172387 5.557175\n",
       " [9] 9.518245 5.736347"
      ]
     },
     "metadata": {},
     "output_type": "display_data"
    }
   ],
   "source": [
    "Y[1:10]"
   ]
  },
  {
   "cell_type": "code",
   "execution_count": null,
   "metadata": {},
   "outputs": [
    {
     "name": "stdout",
     "output_type": "stream",
     "text": [
      "Lambda: 10  nr.var: 36 \n"
     ]
    },
    {
     "data": {
      "text/html": [
       "<table class=\"dataframe\">\n",
       "<caption>A matrix: 6 × 6 of type dbl</caption>\n",
       "<tbody>\n",
       "\t<tr><td>1.569934e-02</td><td>1.457374e-02</td><td> 2.000958e-03</td><td>3.370529e-02</td><td>-5.753362e-04</td><td> 3.255108e-04</td></tr>\n",
       "\t<tr><td>8.264664e-06</td><td>1.090621e-05</td><td> 7.130755e-07</td><td>1.871545e-05</td><td> 1.670581e-07</td><td> 6.620571e-08</td></tr>\n",
       "\t<tr><td>4.690114e-01</td><td>8.109023e-01</td><td> 9.571828e-03</td><td>1.037594e+00</td><td> 2.874453e-02</td><td>-5.704280e-04</td></tr>\n",
       "\t<tr><td>4.737688e-01</td><td>8.700572e-01</td><td> 2.536293e-01</td><td>7.832537e-01</td><td>-3.827963e-02</td><td> 4.026181e-03</td></tr>\n",
       "\t<tr><td>9.895640e-01</td><td>1.419081e+00</td><td>-5.943693e-02</td><td>1.202684e+00</td><td> 3.752100e-02</td><td>-6.119584e-03</td></tr>\n",
       "\t<tr><td>6.710540e-01</td><td>5.403322e-01</td><td>-7.882889e-02</td><td>6.931978e-01</td><td> 1.406572e-01</td><td>-1.546046e-02</td></tr>\n",
       "</tbody>\n",
       "</table>\n"
      ],
      "text/latex": [
       "A matrix: 6 × 6 of type dbl\n",
       "\\begin{tabular}{llllll}\n",
       "\t 1.569934e-02 & 1.457374e-02 &  2.000958e-03 & 3.370529e-02 & -5.753362e-04 &  3.255108e-04\\\\\n",
       "\t 8.264664e-06 & 1.090621e-05 &  7.130755e-07 & 1.871545e-05 &  1.670581e-07 &  6.620571e-08\\\\\n",
       "\t 4.690114e-01 & 8.109023e-01 &  9.571828e-03 & 1.037594e+00 &  2.874453e-02 & -5.704280e-04\\\\\n",
       "\t 4.737688e-01 & 8.700572e-01 &  2.536293e-01 & 7.832537e-01 & -3.827963e-02 &  4.026181e-03\\\\\n",
       "\t 9.895640e-01 & 1.419081e+00 & -5.943693e-02 & 1.202684e+00 &  3.752100e-02 & -6.119584e-03\\\\\n",
       "\t 6.710540e-01 & 5.403322e-01 & -7.882889e-02 & 6.931978e-01 &  1.406572e-01 & -1.546046e-02\\\\\n",
       "\\end{tabular}\n"
      ],
      "text/markdown": [
       "\n",
       "A matrix: 6 × 6 of type dbl\n",
       "\n",
       "| 1.569934e-02 | 1.457374e-02 |  2.000958e-03 | 3.370529e-02 | -5.753362e-04 |  3.255108e-04 |\n",
       "| 8.264664e-06 | 1.090621e-05 |  7.130755e-07 | 1.871545e-05 |  1.670581e-07 |  6.620571e-08 |\n",
       "| 4.690114e-01 | 8.109023e-01 |  9.571828e-03 | 1.037594e+00 |  2.874453e-02 | -5.704280e-04 |\n",
       "| 4.737688e-01 | 8.700572e-01 |  2.536293e-01 | 7.832537e-01 | -3.827963e-02 |  4.026181e-03 |\n",
       "| 9.895640e-01 | 1.419081e+00 | -5.943693e-02 | 1.202684e+00 |  3.752100e-02 | -6.119584e-03 |\n",
       "| 6.710540e-01 | 5.403322e-01 | -7.882889e-02 | 6.931978e-01 |  1.406572e-01 | -1.546046e-02 |\n",
       "\n"
      ],
      "text/plain": [
       "     [,1]         [,2]         [,3]          [,4]         [,5]         \n",
       "[1,] 1.569934e-02 1.457374e-02  2.000958e-03 3.370529e-02 -5.753362e-04\n",
       "[2,] 8.264664e-06 1.090621e-05  7.130755e-07 1.871545e-05  1.670581e-07\n",
       "[3,] 4.690114e-01 8.109023e-01  9.571828e-03 1.037594e+00  2.874453e-02\n",
       "[4,] 4.737688e-01 8.700572e-01  2.536293e-01 7.832537e-01 -3.827963e-02\n",
       "[5,] 9.895640e-01 1.419081e+00 -5.943693e-02 1.202684e+00  3.752100e-02\n",
       "[6,] 6.710540e-01 5.403322e-01 -7.882889e-02 6.931978e-01  1.406572e-01\n",
       "     [,6]         \n",
       "[1,]  3.255108e-04\n",
       "[2,]  6.620571e-08\n",
       "[3,] -5.704280e-04\n",
       "[4,]  4.026181e-03\n",
       "[5,] -6.119584e-03\n",
       "[6,] -1.546046e-02"
      ]
     },
     "metadata": {},
     "output_type": "display_data"
    }
   ],
   "source": [
    "lambda = 10\n",
    "grpl = grplasso(x = X_matrix, y = Y_vector, index = index, lambda = lambda,model = LinReg (),center=FALSE)\n",
    "\n",
    "beta_star = to_matrix_form(grpl$coefficients, predictors, basis_functions)\n",
    "beta_star"
   ]
  },
  {
   "cell_type": "code",
   "execution_count": null,
   "metadata": {},
   "outputs": [
    {
     "data": {
      "text/html": [
       "<table class=\"dataframe\">\n",
       "<caption>A matrix: 6 × 6 of type dbl</caption>\n",
       "<tbody>\n",
       "\t<tr><td>5.012281e-06</td><td>0.1111006</td><td>0.3333244</td><td>0.6299252</td><td>0.7814756</td><td>0.8414660</td></tr>\n",
       "\t<tr><td>1.764154e-04</td><td>0.2323649</td><td>0.6976152</td><td>1.0681552</td><td>0.9830768</td><td>0.8659877</td></tr>\n",
       "\t<tr><td>0.000000e+00</td><td>0.0000000</td><td>0.0000000</td><td>0.0000000</td><td>0.0000000</td><td>0.0000000</td></tr>\n",
       "\t<tr><td>1.764154e-04</td><td>0.2323649</td><td>0.6976152</td><td>1.0681552</td><td>0.9830768</td><td>0.8659877</td></tr>\n",
       "\t<tr><td>0.000000e+00</td><td>0.0000000</td><td>0.0000000</td><td>0.0000000</td><td>0.0000000</td><td>0.0000000</td></tr>\n",
       "\t<tr><td>0.000000e+00</td><td>0.0000000</td><td>0.0000000</td><td>0.0000000</td><td>0.0000000</td><td>0.0000000</td></tr>\n",
       "</tbody>\n",
       "</table>\n"
      ],
      "text/latex": [
       "A matrix: 6 × 6 of type dbl\n",
       "\\begin{tabular}{llllll}\n",
       "\t 5.012281e-06 & 0.1111006 & 0.3333244 & 0.6299252 & 0.7814756 & 0.8414660\\\\\n",
       "\t 1.764154e-04 & 0.2323649 & 0.6976152 & 1.0681552 & 0.9830768 & 0.8659877\\\\\n",
       "\t 0.000000e+00 & 0.0000000 & 0.0000000 & 0.0000000 & 0.0000000 & 0.0000000\\\\\n",
       "\t 1.764154e-04 & 0.2323649 & 0.6976152 & 1.0681552 & 0.9830768 & 0.8659877\\\\\n",
       "\t 0.000000e+00 & 0.0000000 & 0.0000000 & 0.0000000 & 0.0000000 & 0.0000000\\\\\n",
       "\t 0.000000e+00 & 0.0000000 & 0.0000000 & 0.0000000 & 0.0000000 & 0.0000000\\\\\n",
       "\\end{tabular}\n"
      ],
      "text/markdown": [
       "\n",
       "A matrix: 6 × 6 of type dbl\n",
       "\n",
       "| 5.012281e-06 | 0.1111006 | 0.3333244 | 0.6299252 | 0.7814756 | 0.8414660 |\n",
       "| 1.764154e-04 | 0.2323649 | 0.6976152 | 1.0681552 | 0.9830768 | 0.8659877 |\n",
       "| 0.000000e+00 | 0.0000000 | 0.0000000 | 0.0000000 | 0.0000000 | 0.0000000 |\n",
       "| 1.764154e-04 | 0.2323649 | 0.6976152 | 1.0681552 | 0.9830768 | 0.8659877 |\n",
       "| 0.000000e+00 | 0.0000000 | 0.0000000 | 0.0000000 | 0.0000000 | 0.0000000 |\n",
       "| 0.000000e+00 | 0.0000000 | 0.0000000 | 0.0000000 | 0.0000000 | 0.0000000 |\n",
       "\n"
      ],
      "text/plain": [
       "     [,1]         [,2]      [,3]      [,4]      [,5]      [,6]     \n",
       "[1,] 5.012281e-06 0.1111006 0.3333244 0.6299252 0.7814756 0.8414660\n",
       "[2,] 1.764154e-04 0.2323649 0.6976152 1.0681552 0.9830768 0.8659877\n",
       "[3,] 0.000000e+00 0.0000000 0.0000000 0.0000000 0.0000000 0.0000000\n",
       "[4,] 1.764154e-04 0.2323649 0.6976152 1.0681552 0.9830768 0.8659877\n",
       "[5,] 0.000000e+00 0.0000000 0.0000000 0.0000000 0.0000000 0.0000000\n",
       "[6,] 0.000000e+00 0.0000000 0.0000000 0.0000000 0.0000000 0.0000000"
      ]
     },
     "metadata": {},
     "output_type": "display_data"
    }
   ],
   "source": [
    "beta_matrix = outputs$B\n",
    "beta_matrix"
   ]
  },
  {
   "cell_type": "code",
   "execution_count": null,
   "metadata": {},
   "outputs": [
    {
     "data": {
      "text/html": [
       "1.29633617992592"
      ],
      "text/latex": [
       "1.29633617992592"
      ],
      "text/markdown": [
       "1.29633617992592"
      ],
      "text/plain": [
       "[1] 1.296336"
      ]
     },
     "metadata": {},
     "output_type": "display_data"
    }
   ],
   "source": [
    "max(beta_star)"
   ]
  },
  {
   "cell_type": "code",
   "execution_count": null,
   "metadata": {},
   "outputs": [],
   "source": [
    "beta_funcs = inputs$beta_funcs\n",
    "time_domains = inputs$time_domains\n",
    "Betas <- create_beta_curves(beta_funcs, time_domains)\n"
   ]
  },
  {
   "cell_type": "code",
   "execution_count": null,
   "metadata": {},
   "outputs": [
    {
     "data": {
      "text/html": [
       "<table class=\"dataframe\">\n",
       "<caption>A matrix: 6 × 100 of type dbl</caption>\n",
       "<tbody>\n",
       "\t<tr><td>0</td><td>0.01010084</td><td>0.02020065</td><td>0.03029839</td><td>0.04039305</td><td>0.05048358</td><td>0.06056897</td><td>0.07064817</td><td>0.08072016</td><td>0.09078392</td><td>...</td><td>0.7889455</td><td>0.7951118</td><td>0.8011970</td><td>0.8072005</td><td>0.8131216</td><td>0.8189598</td><td>0.8247144</td><td>0.8303848</td><td>0.8359706</td><td>0.8414710</td></tr>\n",
       "\t<tr><td>0</td><td>0.02115393</td><td>0.04229839</td><td>0.06342392</td><td>0.08452107</td><td>0.10558039</td><td>0.12659245</td><td>0.14754787</td><td>0.16843725</td><td>0.18925124</td><td>...</td><td>0.9450008</td><td>0.9378706</td><td>0.9303206</td><td>0.9223543</td><td>0.9139752</td><td>0.9051870</td><td>0.8959938</td><td>0.8863995</td><td>0.8764086</td><td>0.8660254</td></tr>\n",
       "\t<tr><td>0</td><td>0.00000000</td><td>0.00000000</td><td>0.00000000</td><td>0.00000000</td><td>0.00000000</td><td>0.00000000</td><td>0.00000000</td><td>0.00000000</td><td>0.00000000</td><td>...</td><td>0.0000000</td><td>0.0000000</td><td>0.0000000</td><td>0.0000000</td><td>0.0000000</td><td>0.0000000</td><td>0.0000000</td><td>0.0000000</td><td>0.0000000</td><td>0.0000000</td></tr>\n",
       "\t<tr><td>0</td><td>0.02115393</td><td>0.04229839</td><td>0.06342392</td><td>0.08452107</td><td>0.10558039</td><td>0.12659245</td><td>0.14754787</td><td>0.16843725</td><td>0.18925124</td><td>...</td><td>0.9450008</td><td>0.9378706</td><td>0.9303206</td><td>0.9223543</td><td>0.9139752</td><td>0.9051870</td><td>0.8959938</td><td>0.8863995</td><td>0.8764086</td><td>0.8660254</td></tr>\n",
       "\t<tr><td>0</td><td>0.00000000</td><td>0.00000000</td><td>0.00000000</td><td>0.00000000</td><td>0.00000000</td><td>0.00000000</td><td>0.00000000</td><td>0.00000000</td><td>0.00000000</td><td>...</td><td>0.0000000</td><td>0.0000000</td><td>0.0000000</td><td>0.0000000</td><td>0.0000000</td><td>0.0000000</td><td>0.0000000</td><td>0.0000000</td><td>0.0000000</td><td>0.0000000</td></tr>\n",
       "\t<tr><td>0</td><td>0.00000000</td><td>0.00000000</td><td>0.00000000</td><td>0.00000000</td><td>0.00000000</td><td>0.00000000</td><td>0.00000000</td><td>0.00000000</td><td>0.00000000</td><td>...</td><td>0.0000000</td><td>0.0000000</td><td>0.0000000</td><td>0.0000000</td><td>0.0000000</td><td>0.0000000</td><td>0.0000000</td><td>0.0000000</td><td>0.0000000</td><td>0.0000000</td></tr>\n",
       "</tbody>\n",
       "</table>\n"
      ],
      "text/latex": [
       "A matrix: 6 × 100 of type dbl\n",
       "\\begin{tabular}{lllllllllllllllllllll}\n",
       "\t 0 & 0.01010084 & 0.02020065 & 0.03029839 & 0.04039305 & 0.05048358 & 0.06056897 & 0.07064817 & 0.08072016 & 0.09078392 & ... & 0.7889455 & 0.7951118 & 0.8011970 & 0.8072005 & 0.8131216 & 0.8189598 & 0.8247144 & 0.8303848 & 0.8359706 & 0.8414710\\\\\n",
       "\t 0 & 0.02115393 & 0.04229839 & 0.06342392 & 0.08452107 & 0.10558039 & 0.12659245 & 0.14754787 & 0.16843725 & 0.18925124 & ... & 0.9450008 & 0.9378706 & 0.9303206 & 0.9223543 & 0.9139752 & 0.9051870 & 0.8959938 & 0.8863995 & 0.8764086 & 0.8660254\\\\\n",
       "\t 0 & 0.00000000 & 0.00000000 & 0.00000000 & 0.00000000 & 0.00000000 & 0.00000000 & 0.00000000 & 0.00000000 & 0.00000000 & ... & 0.0000000 & 0.0000000 & 0.0000000 & 0.0000000 & 0.0000000 & 0.0000000 & 0.0000000 & 0.0000000 & 0.0000000 & 0.0000000\\\\\n",
       "\t 0 & 0.02115393 & 0.04229839 & 0.06342392 & 0.08452107 & 0.10558039 & 0.12659245 & 0.14754787 & 0.16843725 & 0.18925124 & ... & 0.9450008 & 0.9378706 & 0.9303206 & 0.9223543 & 0.9139752 & 0.9051870 & 0.8959938 & 0.8863995 & 0.8764086 & 0.8660254\\\\\n",
       "\t 0 & 0.00000000 & 0.00000000 & 0.00000000 & 0.00000000 & 0.00000000 & 0.00000000 & 0.00000000 & 0.00000000 & 0.00000000 & ... & 0.0000000 & 0.0000000 & 0.0000000 & 0.0000000 & 0.0000000 & 0.0000000 & 0.0000000 & 0.0000000 & 0.0000000 & 0.0000000\\\\\n",
       "\t 0 & 0.00000000 & 0.00000000 & 0.00000000 & 0.00000000 & 0.00000000 & 0.00000000 & 0.00000000 & 0.00000000 & 0.00000000 & ... & 0.0000000 & 0.0000000 & 0.0000000 & 0.0000000 & 0.0000000 & 0.0000000 & 0.0000000 & 0.0000000 & 0.0000000 & 0.0000000\\\\\n",
       "\\end{tabular}\n"
      ],
      "text/markdown": [
       "\n",
       "A matrix: 6 × 100 of type dbl\n",
       "\n",
       "| 0 | 0.01010084 | 0.02020065 | 0.03029839 | 0.04039305 | 0.05048358 | 0.06056897 | 0.07064817 | 0.08072016 | 0.09078392 | ... | 0.7889455 | 0.7951118 | 0.8011970 | 0.8072005 | 0.8131216 | 0.8189598 | 0.8247144 | 0.8303848 | 0.8359706 | 0.8414710 |\n",
       "| 0 | 0.02115393 | 0.04229839 | 0.06342392 | 0.08452107 | 0.10558039 | 0.12659245 | 0.14754787 | 0.16843725 | 0.18925124 | ... | 0.9450008 | 0.9378706 | 0.9303206 | 0.9223543 | 0.9139752 | 0.9051870 | 0.8959938 | 0.8863995 | 0.8764086 | 0.8660254 |\n",
       "| 0 | 0.00000000 | 0.00000000 | 0.00000000 | 0.00000000 | 0.00000000 | 0.00000000 | 0.00000000 | 0.00000000 | 0.00000000 | ... | 0.0000000 | 0.0000000 | 0.0000000 | 0.0000000 | 0.0000000 | 0.0000000 | 0.0000000 | 0.0000000 | 0.0000000 | 0.0000000 |\n",
       "| 0 | 0.02115393 | 0.04229839 | 0.06342392 | 0.08452107 | 0.10558039 | 0.12659245 | 0.14754787 | 0.16843725 | 0.18925124 | ... | 0.9450008 | 0.9378706 | 0.9303206 | 0.9223543 | 0.9139752 | 0.9051870 | 0.8959938 | 0.8863995 | 0.8764086 | 0.8660254 |\n",
       "| 0 | 0.00000000 | 0.00000000 | 0.00000000 | 0.00000000 | 0.00000000 | 0.00000000 | 0.00000000 | 0.00000000 | 0.00000000 | ... | 0.0000000 | 0.0000000 | 0.0000000 | 0.0000000 | 0.0000000 | 0.0000000 | 0.0000000 | 0.0000000 | 0.0000000 | 0.0000000 |\n",
       "| 0 | 0.00000000 | 0.00000000 | 0.00000000 | 0.00000000 | 0.00000000 | 0.00000000 | 0.00000000 | 0.00000000 | 0.00000000 | ... | 0.0000000 | 0.0000000 | 0.0000000 | 0.0000000 | 0.0000000 | 0.0000000 | 0.0000000 | 0.0000000 | 0.0000000 | 0.0000000 |\n",
       "\n"
      ],
      "text/plain": [
       "     [,1] [,2]       [,3]       [,4]       [,5]       [,6]       [,7]      \n",
       "[1,] 0    0.01010084 0.02020065 0.03029839 0.04039305 0.05048358 0.06056897\n",
       "[2,] 0    0.02115393 0.04229839 0.06342392 0.08452107 0.10558039 0.12659245\n",
       "[3,] 0    0.00000000 0.00000000 0.00000000 0.00000000 0.00000000 0.00000000\n",
       "[4,] 0    0.02115393 0.04229839 0.06342392 0.08452107 0.10558039 0.12659245\n",
       "[5,] 0    0.00000000 0.00000000 0.00000000 0.00000000 0.00000000 0.00000000\n",
       "[6,] 0    0.00000000 0.00000000 0.00000000 0.00000000 0.00000000 0.00000000\n",
       "     [,8]       [,9]       [,10]      [,11] [,12]     [,13]     [,14]    \n",
       "[1,] 0.07064817 0.08072016 0.09078392 ...   0.7889455 0.7951118 0.8011970\n",
       "[2,] 0.14754787 0.16843725 0.18925124 ...   0.9450008 0.9378706 0.9303206\n",
       "[3,] 0.00000000 0.00000000 0.00000000 ...   0.0000000 0.0000000 0.0000000\n",
       "[4,] 0.14754787 0.16843725 0.18925124 ...   0.9450008 0.9378706 0.9303206\n",
       "[5,] 0.00000000 0.00000000 0.00000000 ...   0.0000000 0.0000000 0.0000000\n",
       "[6,] 0.00000000 0.00000000 0.00000000 ...   0.0000000 0.0000000 0.0000000\n",
       "     [,15]     [,16]     [,17]     [,18]     [,19]     [,20]     [,21]    \n",
       "[1,] 0.8072005 0.8131216 0.8189598 0.8247144 0.8303848 0.8359706 0.8414710\n",
       "[2,] 0.9223543 0.9139752 0.9051870 0.8959938 0.8863995 0.8764086 0.8660254\n",
       "[3,] 0.0000000 0.0000000 0.0000000 0.0000000 0.0000000 0.0000000 0.0000000\n",
       "[4,] 0.9223543 0.9139752 0.9051870 0.8959938 0.8863995 0.8764086 0.8660254\n",
       "[5,] 0.0000000 0.0000000 0.0000000 0.0000000 0.0000000 0.0000000 0.0000000\n",
       "[6,] 0.0000000 0.0000000 0.0000000 0.0000000 0.0000000 0.0000000 0.0000000"
      ]
     },
     "metadata": {},
     "output_type": "display_data"
    }
   ],
   "source": [
    "Betas"
   ]
  },
  {
   "cell_type": "code",
   "execution_count": null,
   "metadata": {},
   "outputs": [
    {
     "data": {
      "text/html": [
       "<table class=\"dataframe\">\n",
       "<caption>A matrix: 6 × 100 of type dbl</caption>\n",
       "<tbody>\n",
       "\t<tr><td>0</td><td>0.01010084</td><td>0.02020065</td><td>0.03029839</td><td>0.04039305</td><td>0.05048358</td><td>0.06056897</td><td>0.07064817</td><td>0.08072016</td><td>0.09078392</td><td>...</td><td>0.7889455</td><td>0.7951118</td><td>0.8011970</td><td>0.8072005</td><td>0.8131216</td><td>0.8189598</td><td>0.8247144</td><td>0.8303848</td><td>0.8359706</td><td>0.8414710</td></tr>\n",
       "\t<tr><td>0</td><td>0.02115393</td><td>0.04229839</td><td>0.06342392</td><td>0.08452107</td><td>0.10558039</td><td>0.12659245</td><td>0.14754787</td><td>0.16843725</td><td>0.18925124</td><td>...</td><td>0.9450008</td><td>0.9378706</td><td>0.9303206</td><td>0.9223543</td><td>0.9139752</td><td>0.9051870</td><td>0.8959938</td><td>0.8863995</td><td>0.8764086</td><td>0.8660254</td></tr>\n",
       "\t<tr><td>0</td><td>0.00000000</td><td>0.00000000</td><td>0.00000000</td><td>0.00000000</td><td>0.00000000</td><td>0.00000000</td><td>0.00000000</td><td>0.00000000</td><td>0.00000000</td><td>...</td><td>0.0000000</td><td>0.0000000</td><td>0.0000000</td><td>0.0000000</td><td>0.0000000</td><td>0.0000000</td><td>0.0000000</td><td>0.0000000</td><td>0.0000000</td><td>0.0000000</td></tr>\n",
       "\t<tr><td>0</td><td>0.02115393</td><td>0.04229839</td><td>0.06342392</td><td>0.08452107</td><td>0.10558039</td><td>0.12659245</td><td>0.14754787</td><td>0.16843725</td><td>0.18925124</td><td>...</td><td>0.9450008</td><td>0.9378706</td><td>0.9303206</td><td>0.9223543</td><td>0.9139752</td><td>0.9051870</td><td>0.8959938</td><td>0.8863995</td><td>0.8764086</td><td>0.8660254</td></tr>\n",
       "\t<tr><td>0</td><td>0.00000000</td><td>0.00000000</td><td>0.00000000</td><td>0.00000000</td><td>0.00000000</td><td>0.00000000</td><td>0.00000000</td><td>0.00000000</td><td>0.00000000</td><td>...</td><td>0.0000000</td><td>0.0000000</td><td>0.0000000</td><td>0.0000000</td><td>0.0000000</td><td>0.0000000</td><td>0.0000000</td><td>0.0000000</td><td>0.0000000</td><td>0.0000000</td></tr>\n",
       "\t<tr><td>0</td><td>0.00000000</td><td>0.00000000</td><td>0.00000000</td><td>0.00000000</td><td>0.00000000</td><td>0.00000000</td><td>0.00000000</td><td>0.00000000</td><td>0.00000000</td><td>...</td><td>0.0000000</td><td>0.0000000</td><td>0.0000000</td><td>0.0000000</td><td>0.0000000</td><td>0.0000000</td><td>0.0000000</td><td>0.0000000</td><td>0.0000000</td><td>0.0000000</td></tr>\n",
       "</tbody>\n",
       "</table>\n"
      ],
      "text/latex": [
       "A matrix: 6 × 100 of type dbl\n",
       "\\begin{tabular}{lllllllllllllllllllll}\n",
       "\t 0 & 0.01010084 & 0.02020065 & 0.03029839 & 0.04039305 & 0.05048358 & 0.06056897 & 0.07064817 & 0.08072016 & 0.09078392 & ... & 0.7889455 & 0.7951118 & 0.8011970 & 0.8072005 & 0.8131216 & 0.8189598 & 0.8247144 & 0.8303848 & 0.8359706 & 0.8414710\\\\\n",
       "\t 0 & 0.02115393 & 0.04229839 & 0.06342392 & 0.08452107 & 0.10558039 & 0.12659245 & 0.14754787 & 0.16843725 & 0.18925124 & ... & 0.9450008 & 0.9378706 & 0.9303206 & 0.9223543 & 0.9139752 & 0.9051870 & 0.8959938 & 0.8863995 & 0.8764086 & 0.8660254\\\\\n",
       "\t 0 & 0.00000000 & 0.00000000 & 0.00000000 & 0.00000000 & 0.00000000 & 0.00000000 & 0.00000000 & 0.00000000 & 0.00000000 & ... & 0.0000000 & 0.0000000 & 0.0000000 & 0.0000000 & 0.0000000 & 0.0000000 & 0.0000000 & 0.0000000 & 0.0000000 & 0.0000000\\\\\n",
       "\t 0 & 0.02115393 & 0.04229839 & 0.06342392 & 0.08452107 & 0.10558039 & 0.12659245 & 0.14754787 & 0.16843725 & 0.18925124 & ... & 0.9450008 & 0.9378706 & 0.9303206 & 0.9223543 & 0.9139752 & 0.9051870 & 0.8959938 & 0.8863995 & 0.8764086 & 0.8660254\\\\\n",
       "\t 0 & 0.00000000 & 0.00000000 & 0.00000000 & 0.00000000 & 0.00000000 & 0.00000000 & 0.00000000 & 0.00000000 & 0.00000000 & ... & 0.0000000 & 0.0000000 & 0.0000000 & 0.0000000 & 0.0000000 & 0.0000000 & 0.0000000 & 0.0000000 & 0.0000000 & 0.0000000\\\\\n",
       "\t 0 & 0.00000000 & 0.00000000 & 0.00000000 & 0.00000000 & 0.00000000 & 0.00000000 & 0.00000000 & 0.00000000 & 0.00000000 & ... & 0.0000000 & 0.0000000 & 0.0000000 & 0.0000000 & 0.0000000 & 0.0000000 & 0.0000000 & 0.0000000 & 0.0000000 & 0.0000000\\\\\n",
       "\\end{tabular}\n"
      ],
      "text/markdown": [
       "\n",
       "A matrix: 6 × 100 of type dbl\n",
       "\n",
       "| 0 | 0.01010084 | 0.02020065 | 0.03029839 | 0.04039305 | 0.05048358 | 0.06056897 | 0.07064817 | 0.08072016 | 0.09078392 | ... | 0.7889455 | 0.7951118 | 0.8011970 | 0.8072005 | 0.8131216 | 0.8189598 | 0.8247144 | 0.8303848 | 0.8359706 | 0.8414710 |\n",
       "| 0 | 0.02115393 | 0.04229839 | 0.06342392 | 0.08452107 | 0.10558039 | 0.12659245 | 0.14754787 | 0.16843725 | 0.18925124 | ... | 0.9450008 | 0.9378706 | 0.9303206 | 0.9223543 | 0.9139752 | 0.9051870 | 0.8959938 | 0.8863995 | 0.8764086 | 0.8660254 |\n",
       "| 0 | 0.00000000 | 0.00000000 | 0.00000000 | 0.00000000 | 0.00000000 | 0.00000000 | 0.00000000 | 0.00000000 | 0.00000000 | ... | 0.0000000 | 0.0000000 | 0.0000000 | 0.0000000 | 0.0000000 | 0.0000000 | 0.0000000 | 0.0000000 | 0.0000000 | 0.0000000 |\n",
       "| 0 | 0.02115393 | 0.04229839 | 0.06342392 | 0.08452107 | 0.10558039 | 0.12659245 | 0.14754787 | 0.16843725 | 0.18925124 | ... | 0.9450008 | 0.9378706 | 0.9303206 | 0.9223543 | 0.9139752 | 0.9051870 | 0.8959938 | 0.8863995 | 0.8764086 | 0.8660254 |\n",
       "| 0 | 0.00000000 | 0.00000000 | 0.00000000 | 0.00000000 | 0.00000000 | 0.00000000 | 0.00000000 | 0.00000000 | 0.00000000 | ... | 0.0000000 | 0.0000000 | 0.0000000 | 0.0000000 | 0.0000000 | 0.0000000 | 0.0000000 | 0.0000000 | 0.0000000 | 0.0000000 |\n",
       "| 0 | 0.00000000 | 0.00000000 | 0.00000000 | 0.00000000 | 0.00000000 | 0.00000000 | 0.00000000 | 0.00000000 | 0.00000000 | ... | 0.0000000 | 0.0000000 | 0.0000000 | 0.0000000 | 0.0000000 | 0.0000000 | 0.0000000 | 0.0000000 | 0.0000000 | 0.0000000 |\n",
       "\n"
      ],
      "text/plain": [
       "     [,1] [,2]       [,3]       [,4]       [,5]       [,6]       [,7]      \n",
       "[1,] 0    0.01010084 0.02020065 0.03029839 0.04039305 0.05048358 0.06056897\n",
       "[2,] 0    0.02115393 0.04229839 0.06342392 0.08452107 0.10558039 0.12659245\n",
       "[3,] 0    0.00000000 0.00000000 0.00000000 0.00000000 0.00000000 0.00000000\n",
       "[4,] 0    0.02115393 0.04229839 0.06342392 0.08452107 0.10558039 0.12659245\n",
       "[5,] 0    0.00000000 0.00000000 0.00000000 0.00000000 0.00000000 0.00000000\n",
       "[6,] 0    0.00000000 0.00000000 0.00000000 0.00000000 0.00000000 0.00000000\n",
       "     [,8]       [,9]       [,10]      [,11] [,12]     [,13]     [,14]    \n",
       "[1,] 0.07064817 0.08072016 0.09078392 ...   0.7889455 0.7951118 0.8011970\n",
       "[2,] 0.14754787 0.16843725 0.18925124 ...   0.9450008 0.9378706 0.9303206\n",
       "[3,] 0.00000000 0.00000000 0.00000000 ...   0.0000000 0.0000000 0.0000000\n",
       "[4,] 0.14754787 0.16843725 0.18925124 ...   0.9450008 0.9378706 0.9303206\n",
       "[5,] 0.00000000 0.00000000 0.00000000 ...   0.0000000 0.0000000 0.0000000\n",
       "[6,] 0.00000000 0.00000000 0.00000000 ...   0.0000000 0.0000000 0.0000000\n",
       "     [,15]     [,16]     [,17]     [,18]     [,19]     [,20]     [,21]    \n",
       "[1,] 0.8072005 0.8131216 0.8189598 0.8247144 0.8303848 0.8359706 0.8414710\n",
       "[2,] 0.9223543 0.9139752 0.9051870 0.8959938 0.8863995 0.8764086 0.8660254\n",
       "[3,] 0.0000000 0.0000000 0.0000000 0.0000000 0.0000000 0.0000000 0.0000000\n",
       "[4,] 0.9223543 0.9139752 0.9051870 0.8959938 0.8863995 0.8764086 0.8660254\n",
       "[5,] 0.0000000 0.0000000 0.0000000 0.0000000 0.0000000 0.0000000 0.0000000\n",
       "[6,] 0.0000000 0.0000000 0.0000000 0.0000000 0.0000000 0.0000000 0.0000000"
      ]
     },
     "metadata": {},
     "output_type": "display_data"
    }
   ],
   "source": [
    "outputs$beta_point_values"
   ]
  },
  {
   "cell_type": "code",
   "execution_count": null,
   "metadata": {},
   "outputs": [],
   "source": [
    "\n",
    " \n",
    " # Call the appropriate data generation function based on simulation type\n",
    "  if (simulation_type == \"paper\") {\n",
    "    data <- simulate_paper_data(mu_funcs, beta_funcs, observations, time_domains, intercept, predictors, noise_snr)\n",
    "  } else{\n",
    "    data <- simulate_cov_data(mu_funcs, cov_funcs, beta_funcs, observations, time_domains, intercept, predictors, noise_snr) \n",
    "  }\n",
    "\n",
    "  # Extract U, X, Y from the returned data\n",
    "  U <- data$U\n",
    "  X <- data$X\n",
    "  Y <- data$Y\n",
    "\n",
    "  # Remaining processing steps\n",
    "  basis_objs <- create_basis(basis_functions, time_domains, norder, predictors)\n",
    "  result <- smooth_betas_generic(beta_funcs, basis_functions, time_domains, basis_objs)\n",
    "  Beta_matrix <- result$beta_matrix\n",
    "  basis_values <- result$basis_values\n",
    "  beta_point_values <- result$beta_point_values\n",
    "  J <- compute_J_matrix_generic(basis_objs, predictors, basis_functions)\n",
    "  W <- compute_W_matrix_generic(X, basis_functions, time_domains, basis_objs)\n",
    "  Z_matrix <- compute_Z_matrix_generic(W, J, predictors, basis_functions)"
   ]
  },
  {
   "cell_type": "code",
   "execution_count": null,
   "metadata": {},
   "outputs": [],
   "source": []
  },
  {
   "cell_type": "code",
   "execution_count": null,
   "metadata": {},
   "outputs": [
    {
     "name": "stdout",
     "output_type": "stream",
     "text": [
      "          [,1]\n",
      "[1,] -2.101535\n"
     ]
    }
   ],
   "source": [
    "err = 0 \n",
    "for (K in 1:100){\n",
    "    cumulative = 0 \n",
    "for (i in 1:predictors) {\n",
    "    cumulative = cumulative +t(W[K,i,]) %*% J[i,,] %*% Beta_matrix[i,]\n",
    "}\n",
    "# reconstruct Y[1] from W J and beta\n",
    "cumulative2 = 0 \n",
    "for (i in 1:predictors) {\n",
    "    cumulative2 = cumulative + t(Z_matrix[K,i,]) %*% Beta_matrix[i,]\n",
    "}\n",
    "\n",
    "\n",
    "\n",
    "err = err + (Y[K] - cumulative2 )\n",
    "}\n",
    "# reconstruct Y[1] from W J and beta\n",
    "print(err)"
   ]
  },
  {
   "cell_type": "code",
   "execution_count": null,
   "metadata": {},
   "outputs": [],
   "source": []
  }
 ],
 "metadata": {
  "kernelspec": {
   "display_name": "Julia 1.9.3",
   "language": "julia",
   "name": "julia-1.9"
  },
  "language_info": {
   "codemirror_mode": "r",
   "file_extension": ".r",
   "mimetype": "text/x-r-source",
   "name": "julia",
   "pygments_lexer": "r",
   "version": "4.1.3"
  }
 },
 "nbformat": 4,
 "nbformat_minor": 2
}
